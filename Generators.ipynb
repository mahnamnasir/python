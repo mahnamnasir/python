{
  "nbformat": 4,
  "nbformat_minor": 0,
  "metadata": {
    "colab": {
      "provenance": [],
      "authorship_tag": "ABX9TyM+V0PbvvpL+jIPRjF6MBTa",
      "include_colab_link": true
    },
    "kernelspec": {
      "name": "python3",
      "display_name": "Python 3"
    },
    "language_info": {
      "name": "python"
    }
  },
  "cells": [
    {
      "cell_type": "markdown",
      "metadata": {
        "id": "view-in-github",
        "colab_type": "text"
      },
      "source": [
        "<a href=\"https://colab.research.google.com/github/mahnamnasir/python/blob/main/Generators.ipynb\" target=\"_parent\"><img src=\"https://colab.research.google.com/assets/colab-badge.svg\" alt=\"Open In Colab\"/></a>"
      ]
    },
    {
      "cell_type": "markdown",
      "source": [
        "Generator is simple way of creating iterator\n",
        "-> on the fly execute krta no use of storing data just like a s list store\n",
        "\n"
      ],
      "metadata": {
        "id": "99KqpTR-b0uu"
      }
    },
    {
      "cell_type": "code",
      "execution_count": 6,
      "metadata": {
        "colab": {
          "base_uri": "https://localhost:8080/"
        },
        "id": "DyxMIbx-bcUW",
        "outputId": "c03bec19-7ff9-463d-f4d4-f1528ce677d7"
      },
      "outputs": [
        {
          "output_type": "stream",
          "name": "stdout",
          "text": [
            "0\n",
            "1\n",
            "2\n",
            "3\n",
            "4\n",
            "5\n",
            "6\n",
            "7\n",
            "8\n",
            "9\n",
            "10\n",
            "11\n",
            "12\n",
            "13\n",
            "14\n",
            "15\n",
            "16\n",
            "17\n",
            "18\n",
            "19\n",
            "20\n",
            "21\n",
            "22\n",
            "23\n",
            "24\n",
            "25\n",
            "26\n",
            "27\n",
            "28\n",
            "29\n",
            "30\n",
            "31\n",
            "32\n",
            "33\n",
            "34\n",
            "35\n",
            "36\n",
            "37\n",
            "38\n",
            "39\n",
            "40\n",
            "41\n",
            "42\n",
            "43\n",
            "44\n",
            "45\n",
            "46\n",
            "47\n",
            "48\n",
            "49\n"
          ]
        }
      ],
      "source": [
        "def my_generator():\n",
        "  for i in range(50):\n",
        "     yield i\n",
        "gen = my_generator()\n",
        "for j in gen:\n",
        "  print(j)"
      ]
    },
    {
      "cell_type": "markdown",
      "source": [
        "![image.png](data:image/png;base64,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)"
      ],
      "metadata": {
        "id": "W8b44YR9LGtF"
      }
    },
    {
      "cell_type": "code",
      "source": [
        "def square_seq(n):\n",
        "  for i in range(n):\n",
        "    j= (i*i)\n",
        "    yield j\n",
        "\n",
        "n = int(input())\n",
        "k = square_seq(n)\n",
        "for l in k:\n",
        "  print(l)"
      ],
      "metadata": {
        "colab": {
          "base_uri": "https://localhost:8080/"
        },
        "id": "TJwO2Of6Kifd",
        "outputId": "7ea360c4-4bbd-4e9b-8d8e-b1280e44ff73"
      },
      "execution_count": 8,
      "outputs": [
        {
          "output_type": "stream",
          "name": "stdout",
          "text": [
            "5\n",
            "0\n",
            "1\n",
            "4\n",
            "9\n",
            "16\n"
          ]
        }
      ]
    },
    {
      "cell_type": "code",
      "source": [],
      "metadata": {
        "id": "AIGsxe4YLrDL"
      },
      "execution_count": null,
      "outputs": []
    }
  ]
}