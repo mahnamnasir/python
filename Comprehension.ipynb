{
  "nbformat": 4,
  "nbformat_minor": 0,
  "metadata": {
    "colab": {
      "provenance": [],
      "authorship_tag": "ABX9TyOC84D1AVtrAnnktYnSAK3w",
      "include_colab_link": true
    },
    "kernelspec": {
      "name": "python3",
      "display_name": "Python 3"
    },
    "language_info": {
      "name": "python"
    }
  },
  "cells": [
    {
      "cell_type": "markdown",
      "metadata": {
        "id": "view-in-github",
        "colab_type": "text"
      },
      "source": [
        "<a href=\"https://colab.research.google.com/github/mahnamnasir/python/blob/main/Comprehension.ipynb\" target=\"_parent\"><img src=\"https://colab.research.google.com/assets/colab-badge.svg\" alt=\"Open In Colab\"/></a>"
      ]
    },
    {
      "cell_type": "markdown",
      "source": [
        "List Comprehension provide the a way to transform one list to another"
      ],
      "metadata": {
        "id": "ViUN8b0BcW8i"
      }
    },
    {
      "cell_type": "code",
      "execution_count": 2,
      "metadata": {
        "colab": {
          "base_uri": "https://localhost:8080/"
        },
        "id": "2_paA0vOcUSw",
        "outputId": "58fff798-8e30-449d-d210-230c8b1d2f02"
      },
      "outputs": [
        {
          "output_type": "stream",
          "name": "stdout",
          "text": [
            "[2, 4]\n"
          ]
        }
      ],
      "source": [
        "numbers =[1,2,3,4,5]\n",
        "even =[]\n",
        "for i in numbers:\n",
        "  if  i%2==0:\n",
        "    even.append(i)\n",
        "print(even)"
      ]
    },
    {
      "cell_type": "code",
      "source": [
        "even=[i for i in numbers if i%2==0]\n",
        "print(even)"
      ],
      "metadata": {
        "colab": {
          "base_uri": "https://localhost:8080/"
        },
        "id": "vzXAw9x1d91i",
        "outputId": "27f1888a-2a35-4166-b4ac-82d33b7fb53b"
      },
      "execution_count": 3,
      "outputs": [
        {
          "output_type": "stream",
          "name": "stdout",
          "text": [
            "[2, 4]\n"
          ]
        }
      ]
    },
    {
      "cell_type": "markdown",
      "source": [
        "![image.png](data:image/png;base64,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)"
      ],
      "metadata": {
        "id": "chy6pV2jeuZZ"
      }
    },
    {
      "cell_type": "code",
      "source": [
        "i =[1,2,3,4,5,6]\n",
        "a=[]\n",
        "a=[-j for j in i]\n",
        "print(i)\n",
        "print(a)"
      ],
      "metadata": {
        "colab": {
          "base_uri": "https://localhost:8080/"
        },
        "id": "-6nkaJYKeOcA",
        "outputId": "4c4135ee-13a3-4f19-c9f9-566104b7bb53"
      },
      "execution_count": 6,
      "outputs": [
        {
          "output_type": "stream",
          "name": "stdout",
          "text": [
            "[1, 2, 3, 4, 5, 6]\n",
            "[-1, -2, -3, -4, -5, -6]\n"
          ]
        }
      ]
    },
    {
      "cell_type": "code",
      "source": [
        "s = set([1,2,3,4,4,5])\n",
        "print(s)"
      ],
      "metadata": {
        "colab": {
          "base_uri": "https://localhost:8080/"
        },
        "id": "P_RjvV4pfA4g",
        "outputId": "dfe9307b-75da-4241-deb3-235fc5f74a15"
      },
      "execution_count": 7,
      "outputs": [
        {
          "output_type": "stream",
          "name": "stdout",
          "text": [
            "{1, 2, 3, 4, 5}\n"
          ]
        }
      ]
    },
    {
      "cell_type": "code",
      "source": [
        "even={i for i in numbers if i%2==0}\n",
        "print(even)"
      ],
      "metadata": {
        "colab": {
          "base_uri": "https://localhost:8080/"
        },
        "id": "ubma9wRqffNg",
        "outputId": "2c13a161-80a9-4d5e-ee88-e30ec7aca701"
      },
      "execution_count": 8,
      "outputs": [
        {
          "output_type": "stream",
          "name": "stdout",
          "text": [
            "{2, 4}\n"
          ]
        }
      ]
    },
    {
      "cell_type": "code",
      "source": [
        "cities =['mumbai','new york']\n",
        "countires= ['india','usa']\n",
        "z = zip(cities,countires)\n",
        "print(z)"
      ],
      "metadata": {
        "colab": {
          "base_uri": "https://localhost:8080/"
        },
        "id": "3WJZ3v4ofr5Y",
        "outputId": "679604f2-06dd-4e0e-e93e-66a78e5da384"
      },
      "execution_count": 9,
      "outputs": [
        {
          "output_type": "stream",
          "name": "stdout",
          "text": [
            "<zip object at 0x78df340f2880>\n"
          ]
        }
      ]
    },
    {
      "cell_type": "code",
      "source": [
        "for a in z:\n",
        "  print(a)"
      ],
      "metadata": {
        "colab": {
          "base_uri": "https://localhost:8080/"
        },
        "id": "U2zW92swf-Mo",
        "outputId": "45dfff8d-bc42-4f59-e73d-18ad582b38a7"
      },
      "execution_count": 10,
      "outputs": [
        {
          "output_type": "stream",
          "name": "stdout",
          "text": [
            "('mumbai', 'india')\n",
            "('new york', 'usa')\n"
          ]
        }
      ]
    },
    {
      "cell_type": "code",
      "source": [
        "d = {city:country for city,country in zip(cities,countires)}"
      ],
      "metadata": {
        "id": "Z0p33QV-gB4F"
      },
      "execution_count": 13,
      "outputs": []
    },
    {
      "cell_type": "markdown",
      "source": [
        "![image.png](data:image/png;base64,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)"
      ],
      "metadata": {
        "id": "-XJr1yDjgfbQ"
      }
    },
    {
      "cell_type": "code",
      "source": [
        "integer =[0,1,2,3,4]\n",
        "binary = [\"0\",\"1\",\"10\",\"11\",\"100\"]\n",
        "z = zip(integer,binary)\n",
        "for a in z:\n",
        "  print(a)"
      ],
      "metadata": {
        "colab": {
          "base_uri": "https://localhost:8080/"
        },
        "id": "txUWaSFFgOww",
        "outputId": "cc386c66-337c-42ec-8b47-f989363fe0e6"
      },
      "execution_count": 14,
      "outputs": [
        {
          "output_type": "stream",
          "name": "stdout",
          "text": [
            "(0, '0')\n",
            "(1, '1')\n",
            "(2, '10')\n",
            "(3, '11')\n",
            "(4, '100')\n"
          ]
        }
      ]
    },
    {
      "cell_type": "code",
      "source": [
        "d ={int:bin for int,bin in zip(integer,binary)}\n",
        "print(d)"
      ],
      "metadata": {
        "colab": {
          "base_uri": "https://localhost:8080/"
        },
        "id": "gffUIE6jg44A",
        "outputId": "d97fbdaa-4211-4ca4-8ded-112370055be0"
      },
      "execution_count": 15,
      "outputs": [
        {
          "output_type": "stream",
          "name": "stdout",
          "text": [
            "{0: '0', 1: '1', 2: '10', 3: '11', 4: '100'}\n"
          ]
        }
      ]
    },
    {
      "cell_type": "markdown",
      "source": [
        "![image.png](data:image/png;base64,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)"
      ],
      "metadata": {
        "id": "zpZ2qKzfhL_B"
      }
    },
    {
      "cell_type": "code",
      "source": [
        "integer =[1,-1,2,-2,3,-3]\n",
        "square_set={i*i for i in integer}\n",
        "print(square_set)\n"
      ],
      "metadata": {
        "colab": {
          "base_uri": "https://localhost:8080/"
        },
        "id": "1QQJ7c2ThFTp",
        "outputId": "cd44a19a-2861-453d-de31-bd1f69d48a16"
      },
      "execution_count": 16,
      "outputs": [
        {
          "output_type": "stream",
          "name": "stdout",
          "text": [
            "{1, 4, 9}\n"
          ]
        }
      ]
    },
    {
      "cell_type": "code",
      "source": [],
      "metadata": {
        "id": "RWjO2LTLhtK_"
      },
      "execution_count": null,
      "outputs": []
    }
  ]
}