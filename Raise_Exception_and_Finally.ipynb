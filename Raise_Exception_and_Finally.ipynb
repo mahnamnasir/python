{
  "nbformat": 4,
  "nbformat_minor": 0,
  "metadata": {
    "colab": {
      "provenance": [],
      "authorship_tag": "ABX9TyOV3hVT9Kn7JgGBHfdxbLhp",
      "include_colab_link": true
    },
    "kernelspec": {
      "name": "python3",
      "display_name": "Python 3"
    },
    "language_info": {
      "name": "python"
    }
  },
  "cells": [
    {
      "cell_type": "markdown",
      "metadata": {
        "id": "view-in-github",
        "colab_type": "text"
      },
      "source": [
        "<a href=\"https://colab.research.google.com/github/mahnamnasir/python/blob/main/Raise_Exception_and_Finally.ipynb\" target=\"_parent\"><img src=\"https://colab.research.google.com/assets/colab-badge.svg\" alt=\"Open In Colab\"/></a>"
      ]
    },
    {
      "cell_type": "code",
      "execution_count": 3,
      "metadata": {
        "colab": {
          "base_uri": "https://localhost:8080/"
        },
        "id": "8H9kf0tj6L7l",
        "outputId": "68e516f6-0092-41a7-dab8-b8529b14686a"
      },
      "outputs": [
        {
          "output_type": "stream",
          "name": "stdout",
          "text": [
            "memory error\n"
          ]
        }
      ],
      "source": [
        "try:\n",
        "  raise MemoryError('memory error') # raise keyword with exception class\n",
        "except MemoryError as e: # exception is instanc/object of class\n",
        "  print(e)"
      ]
    },
    {
      "cell_type": "code",
      "source": [
        "class Accident(Exception):\n",
        "  def __init__(self,msg):\n",
        "    self.msg=msg\n",
        "  def print_exception(self):\n",
        "    print(\"accident occur dtake detour\",self.msg)\n",
        "try:\n",
        "  raise Accident('crash between two cars')\n",
        "except Accident as e:\n",
        "  e.print_exception()\n"
      ],
      "metadata": {
        "colab": {
          "base_uri": "https://localhost:8080/"
        },
        "id": "xZFFEjjb7CLI",
        "outputId": "af42c72f-b34a-432c-830b-07b542a316b7"
      },
      "execution_count": 5,
      "outputs": [
        {
          "output_type": "stream",
          "name": "stdout",
          "text": [
            "accident occur dtake detour crash between two cars\n"
          ]
        }
      ]
    },
    {
      "cell_type": "code",
      "source": [
        "# Finally statement used for cleanup\n",
        ""
      ],
      "metadata": {
        "id": "XNKI3dM8CRgt"
      },
      "execution_count": null,
      "outputs": []
    },
    {
      "cell_type": "markdown",
      "source": [
        "![image.png](data:image/png;base64,iVBORw0KGgoAAAANSUhEUgAAAqMAAAGPCAYAAABoGdm4AAAAAXNSR0IArs4c6QAAAARnQU1BAACxjwv8YQUAAAAJcEhZcwAADsMAAA7DAcdvqGQAAF+FSURBVHhe7d0PcBXXnej5XzY7y0xexW8zK43ZiihjyyHBfxUFZlgGwRiMDIm9jjFbBicOkVL8m2BrpizAWwgb2+IVYKgXxeRBoAKDiQ0uCwzPvAELg1dIq2EGLMuOMTU2csiIVIilSjZOTSbUTEp7zunT957ue7vvvfpDX4nvp+qWbnff7j59zunu3z3n9NWn+hUBAAAAEvA/2b8AAADAVUcwCgAAgMQQjAIAACAxBKMAAABIDMEoAAAAEkMwCgAAgMQQjAIAACAxBKMAAABIDMEoAAAAEkMwCgAAgMQQjAIAACAxBKMAAABIDMEoAAAAEkMwCmCE6ZPD35ko429Wr41ddt5I1iVb9bGo17LmPjtPpLd5qXeMN2+STjsPAEajoQ9GLx+QZfbCmv21VA5ftp8tdpeOy/pvz5NlTx2Xnj/YeUUgfZMKve6okof/epMc7krf0AbkD5fkzadq5OFvPytvXrLzrrLIY/Rf3zkgvfazo9GVn+yW1Q/Mk9U7z8sVO6/YXGl/Vib75TH/Jemx84tOAdekkZDvADDa0DIa41zzStnZfl6OvfiYHH7bzixmv+uTjpbdUjf/bqlrHkQU+ZMDsurF09LR/pLUvDgaWp5Gmj558/lN8vJPzsvLG78nx4ryy9tvpePAS+kvBF2vScfP7PsRayTkOwCMPsMajK7Y8U/y7pnwa7PMKbUfKHI331Mncz4nUjpxmUy9xc4sKjVy8MJ5uahf5/5JzrzaKN8q1/OvyOEnVsrLAw0OJlbLo9OuE/nMRKmfNdHOTMrDsjujDqnXf71XRkg1ivSJCvpfeOoxefhvj4RaeUvkK/Pny9TPiIybe59UFuOB/rpVjr2m38yWh+bqv11yuLVbvylq8dekEZDvADAKDWsw+sfXfVau+1zma8yn7QeK3JiJNbL9zHk581qdVKobVFEb81kpvf1BeWZ9jQ3SuqTj7QF214+ZKN/6u3+Ui+8elBWTxtiZSRkj/zlLHbruuqTTNXgX/r5BnnzxuHR8ktkhXFr9rLz07nlpe/5eGVeE58sn7S3ysn5z332y4qv3mnkdu47LOfOueOW6JhV7vgPAaEQ3/WhTVi5fsW+v/Id9AwypPnnz0HHzbs5fflnGfXmKzNETlw5Ix0/MbAAA8pZYMHqlq0nm2QcIal4MjW/sfklqzLIKqTvktO79oU86mzfJ6nv+wj548Bcy7683ybHzv7UfsM5ussv1gwlX5NzOpXL3HWr6jqZAy80n3afkhfoamTfZS4f/AFCHP1YssB07T1Pp6HjxWVl9X1XqAY6qe2rkyd1d8on9iM/bx0Jv/+pzk6ctlCd3npZe94Goy0dk9bQKGT/5MTk2yAeGPjnTKsfMuzL5yq0l5p1Pp+Vl3S2s92XSXSF33/eY7GwPt6Bmf7pX621/Sdb/9bzU8YyffK8sq98tnZkHLm/uXCk1/r5U3taoz6Xydoj0Hlpqy6BCNrcHWxivtPoP2NwrW7ucZX49Cpffi6GHVgZU39Shnz8g6xfYbWc5bv/hrHk77YzWhlQ6/PyOfZI6qv7tPCU94XIIl2Xvaac+esfzZqHDOX7WIoda9ZvpMneaqmNjZ8jcGXr6kpp/Xr8JGXgaetu3p49T5+VTB+TC7+zCYZA93weW/vzPtzz9zL8uZp6Xxh9UOu15ufq1UB0FgCKWWDA6pmKZNNSWmfdvblQ369QN5rfy5lZ1cVfvSmc2SsPXbUD1O3Wh/frdMu+J3fJyt0jl7ROl8nOfSGfLblmmblZRD+z07H9Mvr3xlHcD+92VVLDR0/yYfO2epfLkodPS+Ws70z4A1BkXENp0PPzUS/Ly+T754/KJMnViify+W92g2rsDwUzPIX8fXfKb67zPyeUueWFjjUz+qrrZ2WPubX9NXlZBs/z6uBw6PcAb1ZXfSk97k9St8VqsSu9bJQ+5wz0vH5BVKi2rdbfwlTKZenu5jFOpvXBe/2JAPg88XZHO782Tr377WdnZcl4ujClX25goN1/plmMqD3vcAOGSCq5n3Ss1G4/Im5981vucaU3bpG7MKjA8Gwj5BqX0vrXSYAKhK7L1ewfSv3rwh/Pywn/xHrCpXNEoiytst/4np9P1SJWfP1azR5ffyffTXyYGWN9+075Jvn1fg+w8a7et6pQ57moVqA7yi4ah83aK+tJk618g/RuXStWsmC80l1+TJ7+qglZVH72AzjuemvtWypv+OZCHHlVf9fkpt8+QyrH6TYlUzvAq27kdr0ln3C9P5J0GVd823iuTv92UPk6dly82yN0PbJS3hq4KFSbf9A/6fMvihukyp8J7e+xoa6rsU95ukT0mTbPlrmmfNbMAYEToH2q/aO5fWv6l/huiXhveth9U/rW1v/F2b/4D2943s35/ZmP/V/Xnbl/Sf/QXZpbySf/Jv7nT+9zq1/r/5T/sbOVf9i/pn2Q+X99/8ld2ptpGep9f63/uRK9d4Pn9P9h9qNe0Fbv63+r5vbfgP37f/y9t3+vf7ycxtZ0l/YdsWj5+dUlq3v6L3jzj9z39J/e39n9sJ/vf39b/gP7c7Qv6d7z9iZ2p/OYf+p+v9vbtH3N/z2v9q/5SHd+kR/uP9niz4nz8ip+GbK8/71/6/D/0/8bJI0OVy9rVL6aPVfuPnv5Di718veH2jf1vpdZ5u/95u72lr9i8+/i1/sf8eT92Eqny7OMTzf0n/QP/j/f7d5jju7P/29veTqfjPz7pf2vD17x9VW/rfy+cvpD4Y/xS//Nn7Ae1Cy/2f9vMv7N/7d97eZ1av/p7/e/5h6yPt9Zu4/YH+p/77xdS6fv9x+/3H9rRYstvEPVNlffzbT39v9frmLx5xqsH6jVpdUv/b7w1jLc22HVqm9P1xkofvyoXOy+dt+pV3dB/6F1br9R+fvPui/2P2XPphgdf7P8Xb4mSLkudP4/ted87Zl3X/WNRr1Q553Shf//XvXUW7rlg5ymqDBbafTzX5tQxo/A0pK4D6vXA0+q88jf5q/f79y+2dVa/3OtJlAKuSVnzfSB5ONjzTcmWlt/890ftvPQ1yfP7/v/3aW/bk57+BzUFACNHsmNGPzNd6p9/2Dxw0/nfdsmbvd1yaMNuOSdj5P5n1ssc0+qidL8mO1/TTSHz5dEngw8WjJtfIw/pN787Im+ezuyauuvJJqmfaVtXjUtyaLPehzKjUV76Xo1UltlWs0+PkXHT6uQh2/qQVWoc5p/Jn7lP244pk7semm4fHroiHfubTDff1L/VrXJOK8V1U+T+2inmbef+Vi8dZffKxvYuuXjm+zLHayweoBK5f8MB2b5iilwXfvii9EF5ZsPD6WPVPl2m0vKw9/533dKT0dTi+EO6VfnP/nfnwFWelc58UO6ys660N8t6/VD17XWyZnFFOh2f/qxUfqPGG1vYfUA6PjBzh0b5w/LMk7rQrsgL33tRzn1ySnY8c0ovkPqNy+RWe8hX/mG3NJru5TJZsWOf1N9XnkrfmNKJcv/i2V75DaK+zXnyeVkxrcx7IMbkzVrZtMZrNextPi3vDaJF75OWXV7eSoVs/G/Pyv2323ql9nPd7Q/LJnsuSdduOZatt3z+92XTtyZ6x6zr+kOrpP52b9GxDy54b3L5yXF5wYwLVfV9svnpBk/5l+UuU3evyMsn307VlQx5peG30vGiPUcr1krTGnVe+dX2cxPloe99X75lJ6+6fPNwsOdbhOuqH5YV5mHKU3LU7e6/8rZ0NOtcL5MlD0xRV1AAGDmGNRjN+jMqjwYjvTEz/kY23acunermvvmbdbK5S3fPr1WBQjqA7P1Jq3SYd81S449V9F9frJGtZpnIx/8avgVOlDl/6dwwtd4u6bA/nbn4W4U/MVs6eYbcZd6ptMzQ4z+PyLlL4f2el85XvXcd6+8Nple9qtac9hZe+iT6pp0X+9NO//xP8saTOhDuk8NPPCirX8vS1a+P8w+/lQtnj8jL32uSzfU18vAD90rVN3d7y3MZ+xdyly26F5ZMN+Mgj/3kklwJdcleePuA9+Ynm+TuLwaPe/xfNdjxrGq9fzVv8pD9p50Wf9kutsZ940lZo4u6u0nW/l+bZOfvRCoXO93zyoWz9ofyb1cB5ZTo2/XA65sdQxly8+3elw993L0FdIeH9fyzNwRDbr9PpoaqtTZmygz5unl3Sd7758w6MGfSLaEgpUzG3WHfdv88s9s3i3OtB+wXqAdl6gQzy5ooU+d736R6Xzge2Y2eXxq65dwJ80am/p9/kXmOfuYW+YoZmlG4fK5JcfLOw8Geb1HGTJG5S7x8PtZ6OjWs5MqZ4/Ky7qLX5VKUP0MHANGGNRjN+jMqGT+R9Fm5a3mdVKp357q71cW8XB792weDN6BUa+R1ZuyeHoOY7TXuP9mPpZTKH4fnOS18//k/RQckkW54WLb/vQpyJqp1f63Hf66Ur/1VhVR9e7t0undzM3ZLpWBs9rR6r9KhacH49Gfl5m99X364WEcon8jLa9Zk/GD3lQ9ektVT/lzuXrBSVm/dLltbdWJL5a7qfG/EZfLQC0ek6aGJaq1PzDjIZQ/Mli9OqZGdzjjXK1ds7n6mJMvxpl/X/c/ex3LL/tNOGT8P9umJ8q3V883bTlWPRO6VR5dXBPI3lbY/HSN/7L3LbsD1bXjlTP+Y6+Q/27f5/ZKC2k4hP1n2hy55c4cd63ipSb4W+rLxte/54yBfkmMn832AJiIN9vy57jP+EQ2N/K5Jhcie/sGfb9Fuva/G+0J8tEU6zJebK/LWcW989F2L75Vbw+cGABS5ZLvpjSvS2fyS6dIu/YwOHbrl+R3HU9/4gx6UhuaD8tKr2V9r5ma2SsX5/QB/+mjMhAdlzWtd8u7ru6Vp8RQZp+bph4fmfbNJzoVahL7y6PezptV71cit9nODN0YqH10li/WN8XenZO22U06ra7e8/Oiz8rK6cd36je/LmXPn5eKZI2r/u+WZ2lATY5zPlMv96w/KGb3uhhrzDwHk16dl/Te/HXxaXbvjb2Rj1mP2Xt8a/D056A+X5NiLzerNGFWP9Iwj8vxL2fqqFZXU39u38Yaovg2wnkWKSv+VT+Q39u2fDeSLVg5X/uE1+4BMbi/8fWvEOVygP2Q70t/I739l3xalITrfoqQeZDoub7aroP/KP8qbL+rp2fLQVwc1zgcAEpF4MHrldJOs3XVJBToPS9Nrz8m3VCDR+9pK2Xw03bJSOr5cvCGJL8nR0M/3FKz0FvmKvV6/fNQN2Ap3XfkUuX/1bnnjxzao7N4tb5r4p0zG2W7EY6+cunr/1/4z0+Vbq70or/fFZ2Wn/9T65S7pMGMNRebeNzs9/k755BcDeKr3c+Uydf4q2d66W1aYvOyWPf+PF/iNK59u/srp5tQ+r4ae5melTo8HrVgl+170Wto7N6+UnU48evMts703OdI28Pr2j/LhhfDnr0jH0Ze8t2Vflpv9cdADcPMd3o/LR6X/yulWOWTeVcittwz109RX5K2TdpiDOldf0gGW/9+/nNf/+Bt7cqVa7QZC/wMH792xln9Md337uv9RjhXz75kO9fmWoUzmLvLq8sstrdKjyt38StjcapmqvyACwAgzrMHo7z/5rXzy68xXapzh707J5iXegwpznlwuU2+YLYvrdTB1RV5Y/Uz6p1K+fJ8sMWPkrsjORx+Tl3/idAH+4Yr5t4rrd+f5P9Q/PVHm1PoB22NS81+OyAV/P3qM18kmeTlmU73tR6QjNEY03SV6k5SaGKBE7ppv/11llwqS1p+SXneV312Sjq2b0l3pQ/g7o+Pmr5Z6Ew9cks0b7E8dfXqM+PfDkydOyyc2/z85/5KstT8FlVPvaTnWHhoj6rT4feFPveCndNZ884VC/zbj6r9+Vt5080qVVU/7dtmabUxrpCvymyx16JNfO9vtfkmeXKMfWCqT+icelJtvr5H6b3it7Ov/Zrucs2m+TqXNtBzrtC14TF44mz6eK5e65OWdx73AZ8D17YpsfbZRjnXbtOn69OJKWf2iN226UM27kDOn5a08fn/1upnfsGWr83atHPbTZdL0kqx61OuqLb2vVube4C0aMrr17QXvOEq/cZ9MjWh4vXXGg/YYj8uhE4WUs0t/2bFN563PyqrvnU6dP1cuqWvGX2+S90w5FqmhON9ySD3IdPQ1Wf+C/rIzRlY8NFuuM0sBYGQZ1mB065I/lzsmZ752vq2X/lbeXPOYedBEyuvk0Qe8Ls9xD9lg6ndHZNUztrteBZCLf9Qo9+uLrwpgVz/w584DJRVyxwMNsvNj/cH8jPvGc7J7vo42rkjHrpVyt/+j91/8c7l7yXbpjetWvfyaPPxXKnDUP5D/wDzzg9Z3fNsLqCsXPylftw+WXDe30Y7hFOl8YalMvtXuQ7/umC0Pfy/9m6RD8jujvjEV8q3HbQtg1ybZ2aICltIZ8nX9kJjSubNG7vhylTnmO+57Sb7wDW+cZU5/+Lkc+vZs+aLK77vvU8etf4i8ska26uC5XAV/Jj+Vz82WNbtqTMuk+ecFOq+csqr6dlOBT5SrbWSpQ3dM9n6tQP+e6E4d9Kq3+rdVv2X+fekYmbp8rX1yv0nW+s2j+tcbXqyTu3Q9Unn95AJ9PF7avvhXC2X1aduxPOD6NkW+dcvbsuwee8y6Pj11XHrUEv2buc8ssK2G1q1/aZ9+V3V92TRv+1l/zNynynbxjrVeurqbpc5Pl0nTs3JYnUulk+rk79YPfVDyycnXvNY3lbeLZtlAMZvbVV2zh3lsf4s59oEYt6BRNpqyvCJvbq1JnT9f/Kul0jFzrTw62ftcURqK8y2X1INMp+SY7hEoWyZz/w8/BAaAkSWxbvreQ/Wyyvx8TpnUr69JD7rXN9ynvZt0oLu+7EFpaj8o2xfPlqlj/YvuGLl5ogoAVjwn/2NJzA0y7NNlcteGI3Lm71TwMk3/GLVHP2z00OLnZE7M06jX3TpDreP9iHvHT85Lx+UxUjntXnlmxxH5u3r3gRk1f3XmPkwXd/XDsvHvVLDk9QVL6ZT75CF9TCqQ+/qUwsa9ZnPdV5d7T5arG/kLG7dJ5+8+K3etP6DybrrcbAIslafleljEPlkxK8/u3M/dInd9fYrKe5EL59Vxmx/8V3m/+ofS9sqqwP/uHzNplRxs3y3PqM9XproN9cNAs1XZ7pZnnV9KGJwrcu75lfbnjqZLw2onCBv7oKwxP/cU7K4fc/sy2Z1Rj1TadBkunmG755UB1bf/Rb6y+oC8seFhucuuUzpWfTlYvVtObAs9lKeMmbZK9jmf1XXj5j/195XdmAmq3HS6VtybXs+ka7bU/9eDcuLFZXKrUxZD47fS8fdHvLefeVimxg57nChT/aC76zXpKPS/O/k+XS4PvfiGvPQ3s1N1aFy5PsYjsm/1jNSDWsVpCM63PNw6t0am+u8XzODBJQAj1qf0j43a9wAGQv870AX6J3umq0Dxh3L/IMaFAnn7yXb52gP6XxxXyMYT++ShoR6aAQBXSRE8TQ8AKMwV6Xh1u/ebr3O/MfRjhAHgKiIYBYCRRD8I+FqjbDYPlJVL/Xd4cAnAyEYwCgAjQpdstQ+sVf1ts3TKGLmr/rnAfxkDgJGIYBQARgr7cJp+mGvN370hu5dNdB6aBICRiQeYAAAAkBhaRgEAAJAYglEAAAAkhmAUAAAAiSEYBQAAQGIIRgEAAJAYglEAAAAkZkh/2umff/pz+w4AAACjyRdv/Lx9N7T4nVEAAAAkhm56AAAAJIZgFAAAAIkhGAUAAEBiCEYBAACQGIJRAAAAJIZgFAAAAIkhGAUAAEBiCEYBAACQGIJRAAAAJIZgFAAAAIkhGAUAAEBiCEYBAACQGIJRAAAAJIZgFAAAAIkhGAUAAEBiCEYBAACQGIJRAAAAJIZgFAAAAIkhGAUAAEBiii8YvXxAln3ngPTaybzp9W6eKONTr6Vy+LJdBhSgc6OqPxu77NRw6pPD38l/X73NSwtKV87PZ5wz6jWQc29YdclWla6tZ+0kAGDUKapg1AQB0xrkmJ3Ol7npTmuRue3n5eIF+2qvlp72PvuJIWZu4puk006ORIUGNqNWlrKsXK3qz+oKOzWMzu6Sugk1Ur+z5arUJX1+LWsOnxM1ctA/Z/TrRw9KqV2ShMx6WSErVLpWTLKTAIBRp2iCUX2jnCf75OL+GjsnT2c3yeQnytUN9Ydy/1g7Txv7oKyYX2IngOLTeWK31M9aJVMX75YdGUEiAADXhqIJRgfaGqVv6HM21Eqlnc5KBay6+/Gwbnl1u/z0/FQXZahbP7DMaVHS803r7W6Zp5c5rTimVSe1TnzLafCzubshTatxeNtZWvXCLUuB9WwXrJ43+YlTIjsXmvnpfXtdohn7sfxtp7fpLXePJbPlLSQiz8023C5i8zm3TGyXtr+u89lgXrpp9tbZeja4bqD8s5RlOA8Lz5c88kFts2NnjUydpOr+rBo5drQ1s3s8kFebpMPO9ug0ZamzWbvZveOft1Pk2BNValu5h7CYY3HywMtj57hDXfzp4w2Vk5uPfvrc43LSm71e+mVoPuIJ5EtoH6nPu2WW+3gBAAnqLzZnNvbfUNvc/7GdjNfbf6j2S/3Pn7GTUfQ2y0OfM/M29r9lJ8P7fWtDaJn72V809y91p5WPX1kSWN9Mb3jbToWpdG8IfTbmmN/a8KXAtj5+pdnbd1Q6/M+GjunjM2/HpO/t/udVHi19pddOZ6bLTDv5aNLlrhPOp7Ccee5vK1yu3rSbtrdUHuj1sqYxdVzeejeUL+k/9As7y+RZeDomDweQL95xOvvIRn8msI/Q58N5ZdLp1oOIdSLzws1fy9+m80ovd8sgtK9wHqrlh5xyy74NxRyTewzZ6nYwzdm34e47+z7dvDP7cPIFAFBcrp2n6Wc0ykPOuLOMFtVJtdIkLdJhW1AqV69yllVLvXRLT2TrSp90HD0l9cvT4+1K5y+PGQtYIvevdj47rVrmtKrt2+mAywdkx84aOei0GpfOfzC+JdjlbLd0UkX0eMCzLbJZ5dGzztAGcwyt6TwxFu9Ljd/TLXp6zOESf50c+ZQzzxc1ijyxSw43r5G6Cen9mLGVEkxbpcqD0jzzvX6/M4Rj7IOyZPEpOZrveOIB5Is5rhmnpOeSnc7QJ4e36S56v0wrZGooTRl5pdL97IbpdmIoBceMbk8dp6qjy2tk8zbdo7BQ3tuwPpWHnXsaRJxpnf779XqXW+Voq1Mf/G2ccFouVV6eceqyLvM5BYyZ9fLF3be3j3DLcv3+9Plr9hF1fgEAEjfCg9ESGTdB5L2LeQYWKX3S84HfZel35VVJXasTQAS6IRfKZjs7u0vS0yqyeYH/eX+dmADW7WqMe2jrUrccm1Eu4+xkQSatkov7xeuCztFV2XuxW2RCeShYLZNxcUFVWbnMyTtteeS5Cbi6pU6PAXYCluxp0waQ78q48vyDugHlSy4maAum2+tC32WDMi+vbhufDoAToerPwQkNUveBG4zHpE3XVX/Ig/9asFvkg+4sQwesseVym32bW8S+dT0k2ASAEWvEt4xGjreL5QWx9fvTLUL+y7Ru6UB0WrcsSc3fJ/XeihF0cDJdmtyn+c0r9FCVTwei28rljP+59kaZYxdlGOyNVgekZh/VcnRadEBaOr48ImiYLuPK7NtByZHnRpe8rALR+tADPdFpKzDfrZ7uU/ZdbsORL73tLXJs8b5QmtukacZu6TBjI7N/ySok3UNCt8p/UKPqfoO8nBqzGfMF0Hw5aUzXa/8V94T+5W55z77NLWbfA/3CBgBI3IgIRsMPUwSYrt4GmRx6qETfSLfGPESig9jNC0Lr+MKtkbqr1r7NrkSmzhWpW5Pt4ZFM4dY2E5zY9xnGzpC5KkiZF3iY5ICXbtOq5AcwijrmtfoBEKu3eVM6+MzVAqW72FsbZK2TZ726u1yqZWpMYFeI2DwX/eDJQpH9q2TF6n1y2xNr0mnPkrZOlQe9eea77mpOLVdfBObtdLuScxjyfLFDC1Jd9D59LNNTXdq69TbdUqrowHCnfW94rbPprv0u2apbIYeM2p7+ubT1qjzWN8p7TrmZL4Bu+ajPHtb5o+uqOhfdvMqg8jId2KoyX6O7/HM8gOjI3LfdxtwZ0QGvS3/R5IEmACgqo2DMaInc/6PzcmZDd7B7cFq3TI0LOCatylzHf7I3FeDa+Sck2DJqxh0Gn8Aunf9D06WZWsdZFuaNa/SeGNavtd3l0S2j5vjapOmD9OcnH1XBillWISv26wDP7m+NyBJnXGHpeBWoTbPLbtaBXrrF0E2D96Sy/j1HHQSmu9EnH62WM0P5u5Mxed65scqMC/XG9erjKldp94OGzLTNU3mm05VPvtergHWtv2xBtzS1O+OBs5Rl0BDnix7/2uo9RR9mxg7v3GaOWR9XIK9CZWvqhQoSJZWuFpma42fRvDG5+vNuMBbqVjdf6rwvBpsXL/fqix0+Mc//wmeGf+jy8ddZKD2m61zX1WBe6VfgSfgZjTLuhL9MlfmEfc441Wz1MiRj31VydG5bYBsAgJHlU/opJvseGGV0UFUlPcv50fSi4A9PSfiH9QEAxeXaeZoeAAAARYdgFAAAAImhmx4AAACJoWUUAAAAiSEYBQAAQGIIRgEAAJAYglEAAAAkhmAUAAAAiSEYBQAAQGIIRgEAAJAYglEAAAAkhmAUAAAAiSEYBQAAQGIIRgEAAJAYglEAAAAkhmAUAAAAiSEYBQAAQGIIRgEAAJAYglEAAAAkhmAUAAAAiSEYBQAAQGIIRgEAAJAYglEAAAAkhmAUAAAAiSEYBQAAQGKKJhjtbV4q42+eaF9L5fBluyBflw/IstT6A9zGiNMlW6/acfbJ4e+4+ate3zkgvXbpqGDqUFx+enmw9aydTFDnRpX/G7vs1NWsB4hl6tAm6bSTSTLX1AGfo7pOFUddBzD6FUkw2iUvdy+XixfOe6/95VI3Lf8LurnoTmuRue12ff1qr5ae9j77iSFWRDecq61+fzqPD05okMmjKSAd+6Bsv/BDuX+snR72cs4WROYXWFauVmWwusJODQUC2tGmdP4P5eKPHpRSO12YClmhzvEVk+wk9QPAMCqSYFRd+Nwb66RaaZqxWzry+VZ+dpNMfqJcDrpBhKYCixXzS+wEhkPl6n1S39otPXYaAACgUEU6ZvSS9LROl3FldjJG54ndMmdDrVTa6axUwKq7qw7rrk2360nPT3U7h771B5ZNlGXNtpVVz5/WIMdkt8zTy1JdpeGhBvEtasHP5u4OM92yObftda2lPhdotQwuSx1P5Pw8XO6W9+xbLfr4batKs81Tm2eBY4pJa/h4zX7UNtz1I9Ntyz617YyueJs2M+28jynnYPpC9SZD6Fj8tJh0LJTNckrqptn52eapj3rHq+qvGSbh7c/Pg6DodOm8CuaRc6wR+9WiyzSu/Fx2P2f1PrJvJ/JcUzLL2lvXTVdm2QfzPL5OR5SPZutOp5sHsXmuzuN2OztKzLEa7nJ/34F9hobLZKTHYdPvHY8/xMRNb1zddYakxNQPABgS/UXo41eW9N9Q29z/sZ2O1tt/qPZL/c+fsZNRzmzsv6E89Dkzb2P/W3bSTDv7fGtDaJn72V809y91p5Vwms30hrftVJhK94bQZ2OO960NXwps6+NXmu2+3+5/vnxJ/6FfmAmTzvQx6mXpY9bbWPpKrzeh9v/WGe991PxMmXntpiv++L20BPIjlN8fn3nbvvc+m05TxLbd8jTl4+RDQDCP/HVT29dlmdp2KD8zytnLA7cumDyIKbu4MsnYn5E5z0tzlnnh/A3X51A63TzN3E/EfqPKNLL8wmzaUp+1eejUhbhzzS8vtx4Hyi/0eX9/8XnsiCsfs+1QXcnYtjudWT/CYq8r4Wm7v3ReedtPl2PmORmgtxfOd2f78XU3vO0c+QgAg1B0LaO6xcN0uw94rFOEGY3yUGr8U5YWVT00QFqkw7YUVK5e5Syrlnrplp6YVoSOo6ekfnk6zaXzl0v9zpZgC1BKidy/2vnstGqZE9XdffmA7NhZIwedYQyl8x/M3hI8aZUzxqtCpi4Wee9iuuXlWPcl+65EKieV2PfR87PZvMBvVZko82SfHbeYz/FPl6ZFoTGOzjGXTqrw1j3bIptVWT3rDLEw22pNl42xeF/6WM2wjlPS4x9GgM6H9LKebpGmDTWpY+5tbxGZO6Ogula/P103Khc1RpedlqNM8rZ4eXAYSgaVv+1unS1gqEtWeZRptvLLSqVtvb8dVfeX14h80J1qXct5rjllXTlLrSs1ssSvH+HP2/qTPtcr5KENIkejxo/nKh+3Lo59UJa4yzP2pY5tvaoPdiqbuGPNuCap/T27YbqdUC63ytFW59htXm4+EdM6GlJQ3QWAq6SIglGvW2iyeZDJuWDHKpFxEwZyc++Tng9UEPZEVSqwGn9zldS1OgGN6Zryl+kuqjh6WEEwUPPWCd1UXW53nOkOjnCpW47NKJdxdjJesAtv3k47W9EPvByUhd4yp5stan4U9wGm9AM0Azh+FQRc3C9eF7jTXdh7UUWLE8pDgU2ZjIsMNnMbVz7d3rC7pOODapk6XwUBJqjSAZeKRafFB+CDE10mw8s7NwYuR5lGlN+AFHKulZXLnJjzwdSf1gaZnNqeuqY8ccr5whU28PLJXldziDxW75p02/iYuqivBf6wEf+1YHcgsAeAkahIglF9Q6iSnuWFPyGsW0qOHW0t8GLs3agDgZV9mVYSfcOY1i1LUvP3Sb23YgQdLOmWqeC2LoYfqvLpQHRbuZzxP9ce05qib755tV44eWi3e3CxXWSZJ7DV/DNzWwJPwUfNz1+Bx+/TAY3+XHu1HJ3mBTSl48sjbq75jSHOxrQ86+DzbIu8Z1pBdQuYbjXUAZcKbGJbHAcjd5kMHy+4Gbg8yjRL+RWs4HMtnqk/i/fZbTmvrNeVwZVP1rpqAsYIeRxr+It1T/cp+04xgXhj+rrhv4a6FwkArrLiCEbP7pI6CXaju8zDC1ED9U33um4JCT0UoS78W2MeXNBB7OYFoXV84dZI3R1n32ZXIlPnitStyS+QC7eo6K7iyBvY2Bkyd8Zumeccf2/zgSzpDj/01SUdqVYeddPdmE6buYkaUfMLVdjxa73Nm9LBy9hyuc2+NV2XrQ2yNvAQyxpVP6pl6kCDRpOH3bJjW3eqFVSX/3vbtsnmxdV5tsIPRFyZDLVTUrfHrSM6z9LnlG4ddr+0dW7M0QKZo0wjy69QBZ9rOej6s3Nhnr+POcjyMV8UG+Tl1L7U+bRtt32fReyx6vxWZfTErvS5ra5hO9z06HqsrnXuuZEcHcjnejgMAPJTPN30oa4184p7UjSlRO7/0Xk5s6E72H01rVumxv2006RVmev4rYKpANfOPyHBFgwzdiz4lLX+TT/zu5v+Os6yMG/sne0aV6+13eqmZpdl0sfXJk0fpD8/+agKLuzSNG9snHna1XyuRSTVylOiPu+kbYHYMblR8wtXyPFrpePdtC4U2e+3uOnfN9wntzlDKCYfrZYzg2r98QKrY25AqwIJaT0l9bNiWuKzlHNh4spEc5anWqSzzcvHdGkqb0nnWWjcden89YE63TEr3CqXud+4Mo0uvwLlOtcKpupPe6O8FxheENVqm6t8clD1Y3tgX2tElsf0cuQ4VpPffn3TL7W5Je6YUXMtCJ4b+nV1fph+oPUSAHL7lH6Kyb4HABQR3Su0o7xNtsd9sQaAEa7onqYHAChnN8m8ndOH+QE7AEgeLaMAUAz0g4366fgU/QDZAIc/AMAIQjAKAACAxNBNDwAAgMQQjAIAACAxBKMAAABIDMEoAAAAEkMwCgAAgMQQjAIAACAxBKMAAABIDMEoAAAAEkMwCgAAgMQQjAIAACAxBKMAAABIDMEoAAAAEkMwCgAAgMQQjAIAACAxBKMAAABIDMEoAAAAEkMwCgAAgMQQjAIAACAxBKMAAABIDMEoAAAAEkMwCgAAgMQQjAIAACAxRROMdm6cKONv9l9L5fBluyBflw/IstT6A9xGEUvlz8YuO+fqMftOYL/FoLd5qYz/zgHptdOjztlNql5tkk7/r52dlTnHhvK86pPD35koW8/ayeGkjy+JcjR5liNfc7qK+YSCDff1MXP7Xn3Q94NlzX12Xhzqj+tq3c/0fvIrH61Lto6ymKVQRRKMdkmH7JOLF86b15kNInVr8r9xmIBhWovMbffWN6/2aulpz7ciFGhIbjAFUDfSeR80yhl9XKsr7MzhknlSVK6+GvsdhGEsj9L5P5SLP3pQSu306KLKekG3NLWvkspJq9R51y3z4i7SYx+U7Rd+KPePtdOFutrnTTHKJw/Ip+KVpWyG+/oY3n5v8xqpm+DdL7fPL7Fz08z98BptPMhH0d/PtGvwGlAkwWiFrHAqR+m0apnT2i09djqWCtQmP1EuB8M3SXXjXJHlRB2Jei92i0woH6UBEZLS27xNNi9enjpvzHm3s4UgCChiPd2nZE55mZ0CRoeiHDPauadBZEOtVNrpOJ0ndsucXJ+1XXSHdfP8zU53hema9OZldOsHljnN7Xr+tAY5Jrtlnl7mfAM130hT68R/qwl+NroLRTf1T37ilMjOhanPZX7zDXfD2NbNs/rbVVR60l095qW7MM23sYWyWU5J3TQ7T30yc396+866oW37nzfdIfYzuborAvlh1w2uE9xnPuWRTWbavLS7+w/s19Ydr5Xez2c3LZldK4FjCW/PL5tmW7/ySa+zrWA9CZahl664euwu65OOo6ekfpbTQjB2hsydsVs6IupiKu12G5l5GVPOseVUSH7mai3IUq/tkoBAvoTSbc6D9LJUnkfNz1c+dXWA+eSVhbrGmWMPlVFqHec4M1pevG2njyl4Tcm7DOLyVS9T5dHpbitH/Q9uL3Rcbtmaz7l5El0Poo/Fr98R+RxRNl7eR5WTfrn7yO8a4kpv31t33k6RY09UZV0v2/0iLX6feZdxrnwyQvnv5o+tB+H7sXsdCZ63cfmZzp+8rkNKuLyi9xsUzJ9w3oaWq+24jWnhfYbPr4CIejbq9ReLMxv7byj/knk9f8bOy6m3/1BtHp+32w58zszb2P+WnTTTtc39H9vJtzaElrmf/UVz/1J3Wvn4lSWB9c30hrftVJhK94bQZ511w8Lbytx2OB/e7n9e52Vqm97y9Dre9NJXeu20Ot5X/M/qdZf0H/qFmTCC+/O27a4bTr+ZdvPb5F9wm67w+n55pffh7TN4fM72spRHlHDa3trg1bnUvmLrhc1HZ7lZP+PY3bRkS7tbFnHi6kmWMjTH4uRL7LGE8tDS23C3GRRcp9ByziynPPMzPB2ZdzH1OnDsej+hfEmlwduGW15vmfdR83MIH3M+dXWg+RTKe2+eux23LoaOx+SB2mbgPLfrhtNzRh27fRsWe920+0iVj9mum6ch2dYPlKG/rXDZeNPZ6kF8fbLnZkaaneks5ZdtG+6+g/vMXZZhwe27x51d+PN515/IfAnLlU/h/A+Vj60HgXIPle3Hqo5573Plp512t2e2H30dChxb5H7D1DHE3LPD0/4x+ukO7NMI5Yk5TifN+VwnRpniaRmdtCo13nPqCe+bRdQ3lAGZ0SgPTbLvlYwW1Um10iQt0mG/3VWuXuUsq5Z66ZaeyG+vtpVpeXpsYen85VIf2eVZIvevdj5byLCEvE2XpvX+PtT+lteIfNDt5enZXVInjfKsM4yhcn6e4yLPtshmlZfuuuZYW9N5ZyzeJyv8/NZ5O+OU9Fyy0wGZeafrwsHF9r1m95kuvwp5aIPI0YGOCXbSVjlL5YvUyBL/eHKWtUj9/nTdqFzU6JSdPRZnuZfW6bL5hPvtVpXNonzGLMXUk8utcrTVSbdSuXqfSntarjouUi7jQuM/x5VPl2PdWQsqu7zLOVrO/Mz3vCqgXuc6v9+76NetCql0rhtR86+G6HyynCEXuetiiUydOz11PHooUP0Gtc0P/GuEOucWVzvrOvkzSR27fRuW87rpXjvGPihL1HmeztOgnNdolQfyxC45bMdQpuphZD3Ipz6pc1OPobZTXp2O6y0IyfP6mLMsh8GQnWdGTD5lXJu8+0/gGhi6HxtOHpSqOmbSMuT3myyy7TdD3D07M/8y7mHIqSi76StXt6mLToO8nPMCUCLjJkRfzKL1Sc8HfleHbVa/uUrqWp0KHOiS013XcS5JT6vI5gX+5/11VGV1TxiX2/1kmuSvnsGMQc2+bpmMG0AQ4tF5N13GxQyBMvtsbZDJqbz1uqIKCpqilJXLnBkqKLOTg5P9WErHl6e/CBQqqp5c6pZjsenOo44XvcLOq4LqdeT5rW46P2qTuUdtvqW6yKLmF6vcdVG/P3a0Vb3XN9NymTp/hsy1wZ4OBFNDOPSDa+3VclQP3VHHnrVr0VfQdTNOHvVXpevZDd1Sp58ZcB/wiawHA7hO23tMvob++ng1DCRfwpx80tcmv4vZfy3YHX8N1I1R+8Wuk+7yH/b8jNhvVpH37OznGgpTlMFoIXTLlndBLYR34tTv91pi3Zf5dqUvqNO6ZUlqfrDFKZM+OfQ3xeC2LkY9eawr9bZy7+l4/WpX31LtoqthMMFR9LqDORnDFxbvRuQz+1TffIN5q15F90RkzEUy3yDJlauehFtTLnfLe/ZtzjpuZL/ZFM/DEYWdV3nX65zntw48vWUHZWEoIM02vxjlURd1y6VuYTrbKkcn6FZQ3Vqqexy61PkXOp/NLyl4eSUqaMkakBZ83YyTT/3tkpdVIFq/eLfscMYIRteDAq/TRvBalMvwXB+H20DyJczJJ/MF3/76i/vK9askfu+o+eLjBYZXJT+z7DdD7LU427lWWL1BsQSjqqDdi5v56YrWGplqLzpmgHHUhd903ehWs9CAa3Vh3BoziFkHsZsXRAzSDrc66a4C+zY77yKe789Rhb/t9ba3FNQyak5QpwvFyy87kQ9zE2qQtU7+dDbnOSwiy7pm/1ItU/O+cLkqZOpi9a18m7N/3c3mHo/e586F8S0yRcHr+gzWqy7ZusBpZSpAbD0xXaDBm7B+8M+tR7F1POICqrubbhuf7hJLVmHnVd71Ovb8VuXlXGv0sAVP1Pwc16fE5FMX9bl3So5ua5Hb7Dzd/ahmyFH3fA5cn3W9sW/DCr5uxouvv/oBkIUi+1fJitX75LYn1qSDiMh6kE99OiV1e9Jl6V3bsnQpRxny6+PVUOB5ZsTkk34QUt2T3TzIpbd5U7r8xpbLbfbtcOdn5H5D4u/Z3henuHvYoO/Z14DiCEbVN6n3nC4C76eanPEosbzWCvMbiX4TumlG75apzjiTDOrbUMY6/jjVVIBr559Q39DNSpYZ6xR80k3/HuXBCcGu5KgblDcex3vaUb/WdqtvknZZXlTaD/r71+vLcmmKukFkVSErLugLeLoLbJ5Kg3eieeMx3afpgzLXnXy0Ws4M4rc4/WEZ6fyuDo23UftU30TdOhLoUslSHknR9SBYr/QN023NyV98PfHyRJxy6JgVaomKq+N+sBIYy6q7m9JfAofcAMqpkPMqvl47Ys9vFWx9kM5zU7dNC3zU/ALlkwdDVJ/zqYumZ6m1PF3m+obcekpk7ox0vgWuz1VydG5b9vqc67pZqJj627mxygkSVbnvL1fXLP+aEF0Pcten6dJU3pJaZu5F7rUtZ9lk7nuw18dCudeNfL/AF3aeaXH5pO/JwTzQr7i0lI639xzzWV1P/VbZ4c3P6P0G5bpn698uDeRf+B5W6D27iO5pV8un9FNM9j1QJHSrR5X0LB9YEHfNSnWT5vtFTv9kyjYZ1+5dgPXPj0zuXl78PwgNDIvg+YAo5BOG3ogfM4rRx+vCGHgLXeB341KvHIPTk6IDyIy0qlfB34ZVAL+mQY4FnoDOxW9R2mT+Hahp3SAQBQBcZbSMInGmRU7/UHNKTQHDNK5VXutxYNyRfsiLYBIYIFr88kM+YegRjAIAACAxdNMDAAAgMQSjAAAASAzBKAAAABJDMAoAAIDEEIwCAAAgMQSjAAAASAzBKAAAABJDMAoAAIDEXKPBqP7vNRNl61k7eVXp/16R1L4BAACKyzURjOp/N1n4//oeLhWy4sJ5WTHA/7s+dHRQXKT/rx0AAFwz6KYHAABAYkZHMHp2k4y/eWL65bSCdm6cKJOfOCWyc6FZFuwe97rMvfXCrYReV362bZr9feeAHFbbNttsOSDLbt4knXZxZle8OywgPETATcNEWdbcZ+crgeOKa8W022zW6VCfVWnrdeantuEfw2X9uYWyWU5J3bT05zNbkLOlVaWj2abLfNbOO2v3bV5uXnhlkEpDKm2ZzP5T23D36wksV/vW2w3kV1xeAgCA4tQ/0p3Z2H9D+ZL+Q7+w0/29/Ydqv9S/9JVeO93f//ErS/pv2PC2ndK8z9xQvrH/LTvnrQ1qura5/2MzFd6GN/38GTtp9ulMRyxP7/Pt/udT+wp+Vu/X3c9bZ+x7s410+sx0Kn1h9ngCy3Mcg0mTm2/R+RRcxz0uzc4L5V3qM6F0f3zm7ehj2OB8TqfFXS807edx+vi8dMQdHwAAKD4jvmW088RumbNhvdw/1s6QErl/eY0cO9oa2QLnq9+/Sirt+8pFjTKntVt69MTlVjnaWiNL5peYZf42N59wWg1nNMpDqXGfJTJ17nR576LXEtd7sVvqN6jtfdDtpeFsi2xeXJ3aV9ix7kv2XYlUTvL26R1XbXqdSbXSJC3SETPGs375g1Jq3+d1DAMyXZoWVdj3PjVvvb9vbz/iH7vm56tSOqkincYAtd7qdPpLp1Wny0P6pOPoqeDxTVolBxfb95rO40CZVMhDG0SOttM6CgBAMRvhwWif9Hwgctt4P+CyysqdQGYALnXLMdkt85wu3/ELdgcDrJDS8eU2ANaBU7lMnT9D5trgUQeW9bPCAZyncvV5OSjeEAK3e10f17EnqtL7v7lK6lpPSY8ft+YygGMYFipovLhfbDpyPDDlDkuY1qDS77skPa3TZVyZncxCfwGQ1gaZ7K+vXnp4RjrQBwAAxWiEB6MlMm6CpFokA2aUyzj7tmA6mJ3RKGcunJeL7utHTstc2KRqqW9VwefZVjk6QbeC6tZS3TLXpQLL+EBKB6R6+2fmtshkE5B6x1W/P7R/9cr7KfyBHMNw0QGp3nd7tRydFhGQ6kB0W3k6ve2NMscu8oQDcS9g9+kvA7J4X/BY9Wt19i8BAACgOIz4bvrKWTVy7Ik1ToDTJ4fXNIjMnTHwoGusbtVskLUFPQBTIVMXn5Kj21rkNtsKqrua1Qw5KtUyNTWMwKXSujH9QI8JqCx9XJsXBB8EKsgAjsHsf2dLap+9zWukrtVODFBv86Z02Ywtl9vs2zDTsjmhPFVmve0tTsuozluRzduch5/O7gqmTX8Z2Lkw46Enj/cgFg80AQBQfEb+0/SmG7jceyrcdM9WydG5bbI9NVZSBVnzl5tARS/PHqyElcj9P9ontwW6yXOvawLj1nKZ6rde6uCr9VRMYFwi41TAmOpaXiBy0G+5VMd1ZkN3sJs95kn0TLmOwRtT6T5N743DTHftr5Xl0jTDfHjASsfbfZhtLhTZ/0NnfG+aW0Zm393lgZbRytVt0uTm1Ynq4JhR/fut7Y3y3gJ/X/qVY1gAAABI3Kf0U0z2PTCC6NbOKulZXgz/QAAAAAzUyG8ZxTXJG0JQk26FBgAAIxItoxgR9A/em39ekFIjBy+kf5oLAACMTASjAAAASAzd9AAAAEgMwSgAAAASQzAKAACAxBCMAgAAIDEEowAAAEgMwSgAAAASQzAKAACAxBCMAgAAIDEEowAAAEgMwSgAAAASQzAKAACAxBCMAgAAIDEEowAAAEgMwSgAAAASQzAKAACAxBCMAgAAIDEEowAAAEgMwSgAAAASQzAKAACAxBCMAgAAIDEEowAAAEgMwSgAAAASU4TBaJ8c/s5EGb+xy07n6fIBWXazWi/1WiqHL9tlo0DnRntchebLEDD7vsr71ftc1tznTZiyHYry9OrW1rN2EkqXbFX1autZL29SeT5YZzfJ+O8ckF47GdbbvDR2eZpO3/Cfy0nU8bSrc4wjwzWQF/rcMPeoTdJpZwHXuuILRs/ukrpW+z5P5sY2rUXmtp+Xixfsq71aetqH6MYaZoKjq3ghUReveR80yhl9XKsr7MzhknkzqFx9NfYbY+yDsv3CD+X+sXYaQ6Zz40J5b0ObrJhUIvf/aJ/c9sSaqxIIlM7/oVz80YNSaqeTVmgdN9ecAQavgS9auMao6+uCbmky96pVUmnnAte6IgtG++Twtm6pXzzdTudBBWqTnyiXg+FgRQUwK+aX2ImRrfdit8iE8qK5cWOUUF+qduyskSWp86RCpi4+JUeH60sccK273C3vSbmM44s1EFBUwWhv8xqpm7BcHiq3M/LQeWK3zNlQG/8N03YZHrZd3alu2lR3iX6FuoYCy5yWDD1/WoMck90yTy9zWkdMa0lqnfiW0+Bno7uOdSvK5CdOiexcmPpcZqtMuPvZtm6edYcuhNNjh0P4y3WXqWnxXSib5ZTUTbPz1Ccz96e376wb2rb/edP1aT+TqyUokB9qvz12vifUWhsakhEoT51mt+zsMWQXyoPUcYTzU/PmxR+Hn043f0L1KrzPjHxVn2+26bfL3HwMHs/gyqG3vUWOLa4OnDuVs2rk2NHWrHkWbtEz23fT4+e/ndR63HJ1jzXLZwPHGa6vl+Lqsit3GXj5oq4Hphy8ZX5eeew2Is4fnc7wOenP9z6rXlnrnVf283aKHHuiSn0umK74YwyWde56mP5sZlpCeWOOM0vdSX0mLr+jziHNP4+iyyK8/rJm9cU7jq03nVH1Sgmm3T2Ps6THrOumIZw+xb2eZFseEMp7Nz/0diLuHa7o9If5xxPMw4zPR6bfrt9s652tJ3FlH05boB7mUTZApP5i8Yvm/qXlG/vfUm8/fmVJ/w0b3vbmx+rtP1T7pf7nz9jJKGc29t9QHvqcmeftz9DTtc39H9vJtzaElrmfddLqM2l21o8/BpXuDaHPOuuGhbeVue1wPrzd/7w63vQ2veXpdbzppa/02ml1vK/4n9XrLuk/9AszYQT3523bXTecfjPt5rfJv+A2XeH1/fJK78NNU+axvhXYj3ucuhwzjzu1rirH51P7COZJRh5nKfNMNt/D9So1Hc73zGMx67v71eu7eXvmbaecBlcOOm/c9Y244wykxUu7uz29v9T2bFmkps12Q2lx0hosJ72tZpsGmyfh/bp5FJCrDPx8yV3H4/YZ/LwSOp50OWXKzPdc+/OWB+tJ9Pmk0xKuU9HTfjmG8sc9lvCxumLOoWzbNuUcOk43L8zyHMcWW6/0NiOvreH02HwPnRMZ5RquS07eBHnbc48nnJe5ryNx6Q/zj8fJL7N9Zzo2/Xb9uPSpeuy/N2kJpD1Ul3KWDRCtSFpG1Te0NQ1y2/5hHEMzo1EemmTfKxktqpNqpUlapMN+a6xc7aRlUrXUS7f0RH4j7pOOo6ekfnl6DFzp/OVSv7MlokWhRO5f7Xx2WrXMaVXbt9NDY7o0rff3ofa3vEbkg26vhUSPy5VGedYZxlA5P8/xe2dbZLPKS3ddc6yt6bwzFu+TFX5+67ydcUp6LtnpgMy8k0mr5OBi+z7Cexf9b+QVUumUqy7nM87Yv8pFjTInqhwCQzlKZOrc6XKs20ukV37bUq0I2VoRs1P53u7WHX3su6VDt1ZcbpWjrW63uFcum0+4rQdq/UWhsYtO3SidVOHl0xCVw23j0+sbY8vltqi6rs+DVFouqb+N0rTY354uR5G505ztuelTeb1ElWm63Bx2uMBBp9xKVX1M53VMXc4qpgx8i5fnGINc6D6VbOWUt5j92bJOX78q5KENEj2cQp0/qTI3Qy+cfM/YltrXenWO2KmCr2Ux55Cv3rmum/PRz6eM80Ffd/epa20OsfVKHU+Oa2s6PV7euHVB9wy45ZzrPhGQ7zkZK3f6w+r3O0PUTH6kh9rkk/7AtddQ+/OXq3rsrWvrReAerevh9OD1K99zHggpimC0c2OV1E1wbpp5K5FxEwZS2fuk5wO/q8zvclBpaHVu1IGuYN11HUfdmFtFNi/wP++v45zUYW7Xiem6uXoGMwY1+7plMi4y2MxF5910GVdmJ3NSF+sftcnco7bscnUDmeAqmtu1arpeU9zxk16glREk5sWro8al7nQXnf9asDs+yFGBxcX9YtdJd7ENfTnkQ2/fBnXqxvve3Blyv7p5m5uRDiykWqYOZCyczpcZ5TLOTg49pwyGS0Q5DQVT1q0NMtmpN7quhoO+tGC3rR4W4Mt97hd+LYs+h3IYrnIv4No6rny6zCmPuvjkcZ9wDNk5Och7gz4mT2HpN1QAub29Wo7qYVrq8+ku/+zX6dLx5bm/pAF5KIJgtEs69MXSjr/Sr/R4rLixSp64MW7RvJtT/X79RGPwZQJiHYhO65Ylqfm5vq3rC45ujQlu62LUE+D6YrOt3Hs6Xr/a3ZaJ4TeYC0j0uoUElK5sF2vvIhpNB6Re3h0UVU/iAlLzwEB2+ia6o7wtVV5n1Ld8V6puDSbQco+lrFzmzLC/iuC+cj1VrgMd/Tlzk/ACnaEqh+xf5KIesPBavnTw2XmiW0wrqG4t1a1mOrAY4Bccky85Wn8GJ1d9GiJZymkomLJevC9YZ/Qr69P/OhCtkp7l6c9l9DKE6435kuQr7FqW6xyKla3cY87XvAzptTXHfSJkSM7JIUh/T7f/haCw9KfogNR8bp+I+lLiBaQxQfVAz3vAUQTBaIWsCJ0o5oJmLr5el4D55h0VcJhuB91qEApcVUC5NWaQvw40Ni+ICHbD39h194t9m52+SYvUrcn20EKm8Ddo0wVs3+fDXPScbjPz4FchP4dlulsbZK2TP53N+aU927pm/wMO1rwL5uZtzv5jf96rS7Y6dSHdCmCptL2c+jbvDf+QrA+4eQFKupva64YKsF1aa/UQkoyurCinpG5POn1e3thu0bEzZK6qq27e5dLbvCkd1LitvENQDjrvMlrXTFdjdGuV6Tb8YJvs+MDfj25B7pYd23ZL/ayBtBwrOl9m7JZ5Trn2qvqY64totJgyGCaR5TQUTMC/MOZBFle4Bct+2be8bt/QOaLKLq2Qa1ke51Ack0+7ZYd7HdozuF6iwV5bw2LvE2FDcE4OJP3Ba+cmmef8QkZB6dfU+ul6pgNQ+9bUC/VFNLAtdS1eUMB5rwPtPBqYcG0qqqfpB8ZrJTuzoTvY/TmtW6Y6Y3cyTFqVuY7/1GkqwLXzT6hvl2Yly4yFCT4RqX838eCEYFdaVADtjcFKtwSv7S4v7NuvSvtBf/96fVkuTamLRj70FwD9m5Lp7pt5Kg3eBdAbj+Y+TR+Uue7ko9VyZhC/Gal/4zGQdyeqY8aMqgvkB04rut6320I0o1HGnbDb0V1SE/bJ9qz1QNUbPV4z1R25RnomhFt1vBvzsdYamZp3IDNdmspb7DZ1K3+5HEzlja6rwbzTr7ggo3S8LQvz2YUiqfFhgy8HE5iExgLqm+GcuTOit2ECahVwOJ8Zp74bFZZHYd7Qi6ZAuart2qWFiyuDoeGew7r8osspkx43Kabc8m09VWXd3ijvBbrOo9Z1zl/zuRb1xd4u0nSr1/5gvZflwda3/K9l+ZxDcTLrcMesPMaMxhj0tTUs7j6RYQjOyQGkv15do9baz483v2HqjpcuJP1KWblTz6rk6Fz9G8TeIl0vgtvS9TxHKyuQp0/pp5jse2Bk87u4hjDw0D9lMrl7eZ4/iK5/1mWbjGuPDkSKjd/N6gXsIy/9mUbDMVxlw3De4GpID8kgIMRINwpaRoFhcvmArH0i9OBS4ME25xXRCl7s9NPLuiXH+61C/d+Y1hPEXVO8rtbY1nAAGGYEo0AGHZipAHOa/rmxUAtbanB/6JVXy2kx0l2LumXFG+6SfUgDRg/dcux+kfL+HSzlDiBJdNMDAAAgMbSMAgAAIDEEowAAAEgMwSgAAAASQzAKAACAxBCMAgAAIDEEowAAAEgMwSgAAAASQzAKAACAxBCMAgAAIDEEowAAAEgMwSgAAAASQzAKAACAxBCMAgAAIDEEowAAAEgMwSgAAAASQzAKAACAxHyqX7HvB+3frvy7fQcAAIDR5E/G/JF9N7RoGQUAAEBiCEYBAACQGIJRAAAAJIZgFAAAAIkhGAUAAEBiCEYBAACQGIJRAAAAJIZgFAAAAIkhGAUAAEBiCEYBAACQGIJRAAAAJIb/TQ8AADAK/OrXv5YXXz4oF7p/audkurn8RvnGQ/PkTz/3OTsnf8P1v+kJRgEAAEaBoy0n5Z/eelvmzL7Lzsn0kgpWH1bB6F9MqrRz8jdcwSjd9AAAAKOIDjSjXsWIYBQAAACJIRgFAAAYgfQYUd01r1/6/UhFMAoAADAC6YeV9BhR/frVr/4/O3fkKZpgtO/V78rEW+8wr+2ddmY+fnlQHlt2UPrsJAAAwLVAPzWvH1Z66v9+3DwlP1IVTTBa8sAP5Py5d2VfrZ0BAACAUW9kdNPr1k/bajrx1i3SZWb2yZFlanrmOjnetk6q7PLHXs3VRvqObE9tQ+ncIhO3vGMngi206X3lorfprxNMQ9eW9Hx3e3p+IK06HbTwAgCAAfrTP/1f5Ve/So8jzfbS/rcB/MbocBoBwagK9Gb+VGrPvWtaTs/vFVlogrYSuXe7mj65TmZXrZM2u/z7D5TY9QbiHWluuEn2+fs697hU2CVx+l7dIe83nrTrBNNQ8bi/LfXSabeBb8U314m8fioVfHa9uUfqlsxTRwUAAFA4/dNNurveH0ea7eV/ppgUfzDa+YY0yR5Z6LcuPrLHLhgOn5eyKr2v78qRX9pZeSi54SY53jAz0MLqC7S0umm/frpUywk5bfbzjpz+cJ3ML86f/wIAACPEo8u+Y8aQ+q9Hl9UGpvUP3hebkdFNX7s33bqoX9uHqwXRtraee1rkKR1A5hmUVj7upeuuN7yg0w9Kf3lQnmkQee6kTffeRd58Q+1ryU3S0tFnAm6hVRQAAAyhfzzbKc9v32WnilfxB6OVd0vdrh3xQWHbT+WSfZufj+SSbZHcnrWl1QtK99W2yaWf21n50EGpHjbwYbcz9vMmKbte/+2TIztC+1LHdsvrp+TImyJTMlpF7TjULK2tAAAAuYyUn3sqmv9Nrx/oWRgI3qvkuZM/kHt1IKcf7nGCxtmNJwPjMt11w8uy0V3nVQ1t6p3aR+NNsvKju+X843d6D0rpB6K8j6nF66Qtj1bYcNrr9r4ry2xwmV4W2pdllsvewDyPfkBrpqyU/NIAAACuLc9v/5H5eac4eozoUHXND9f/pi+aYPTapAPOp0SetkF3SHSgCgAArnX6vy59GBOM6qfmh/JhJYLRUcW2erYFW1FT/BZaPVaWQBQAABQBglEAAAAkZriC0ZHxND0AAABGJYJRAAAAJIZgFAAAAIkhGAUAAEBiCEYBAACQGIJRAAAAJIZgFAAAAIkhGAUAAEBiCEYBAACQGIJRAAAAJIZgFAAAAIkhGAUAAEBiCEYBAACQGIJRAAAAJIZgFAAAAIkhGAUAAEBiCEYBAACQGIJRAAAAJIZgFAAAAIkhGAUAAEBiCEYBAACQGIJRAAAAJIZgFAAAAIkhGAUAAEBiiiwYfUe233qHbO+0kwAAABjVRlDLqBeoTjSv78qRX9rZRaJri5e2x17ts3M8fa9+16a5ONMNAACQpCILRu+UZefelWWVdtLR9+oOeb/xpJxXy8+f+4Hce71dcLX88qA8dusW6bKTaX1yZNkdcvqud2VfrZ3lU+s803CT7DNpVq+9N8nKH79jFwIAAKBoglG3BTFbN/2lj9rklhtK7FQeTPDot0iGWiw7t6Tmey+nxdJdtuygCjWt6+fJ9/eKLMwISEvk3u3ZA2i5vlxukT1y2h5P15t7ZPZNn/cmAAAAUDzBaMkDPzCth+HWRT9IXbhLpOkRGyRuyaN1UQePfovkuZNS/fpTNuB8R7Y/8pE8d9Jbpvc3u/Fpr6VVB7A7bpQ2u17bPSekyt1X5eNy/uSNsivv7nbd0ntSynZ46datp99/oICAGgAAYJQr+jGjbpBat9cGl4/faZfGcceYzpSVbXZ2jL6OE3K8bZ1U2fWqGrKspIPck7OkZWY+D1rpLvyZ0nKPHl6wV0QF0+ExpQAAANeyEfQAU2G6tjwiTbV7veD13El5rsoukM9LWVWbrFTBpGlx/XCdPOm0Vs5OjUuNCHx16+nME1J9MqJr3tW5R1aKv/07ZdnJdSINe7KMOwUAALg2jdpgVEuNz9RBod/I+ctT0qICRL8r/vz2eeKHoiVTZ8UHi3o86cyfSm2+D1B9/kaZ3fZTuWQn5ec/leNVN0qZnQQAALjWFU0w6v80Unps6OB+Bqnim7oVcqbZ5sQ3b0y3jF4/XapVMOp3xZuX/6DS9fPkycaPZKGzLNUVr1tEHxHZd+5xqbCzfG7aj5t92rSHt6fXd4JfAACAa92n+hX7ftD+7cq/23dFTLduvnm30/2ux5bukLKTCfxcFAAAwAjxJ2P+yL4bWtdeMGqCz0ekyU5p+sGonOM/AQAArmEEowAAAEjMcAWjo/oBJgAAABQ3glEAAAAkhmAUAAAAiSEYBQAAQGIIRgEAAJAYgtEh4/0v/Nz/r3749b36XZl46xb+7SgAACh612AwqoNGAjUAAIBicI3+6P0bMiXLv/UEAABAdvzO6BC7ZLqy9f+MD/0PfP3vQv3/Je//z/ocvG5xb52Mbnp3e3n9v32v5Xa7+X/36vOveus/9qpNSWB77v68YQLpZcHWXzeNgePS29tyUI4sy74eAADAcLpGg9E9svKjJXL+3LvS1iiy8sfveLN/eVAe23GjtKn5Ztk9J6Rqi10Wo+SBH5jP76u1M1L65MiOj+S5k972zp/L9//f75H3bzqpttcmK19X6dm7SI5/9HNvUeXjdlv6tVfkET94vFOWOfPrzDxLBZxVr8+KPq5dJ0SetssaP5JdfuALAAAwzK7RYHSR7Hv8TvOu5IabzF+tr+OEHG9bJ1W2BbGqoc0uGagSKfuCCihnFvpg0yKpfaDEvKtbMk9txaEDZr+FM/Q/9qP0/ewjmX3P9NR2SqbOktkfdqdbR2uXpIJkHVh/3+4bAABguPE0fcjsxpO2ddG+bNA6UBWPe9uZ8qYXQA7uafs+OfLUOpFUGkMtoAAAACMMwahDtxhKw55hGTOpg9K2xip5/2eD7wK/5Qav5bLv1R15tYzq1t/jr59KtYR2/XidHP9CebDFFQAAIAEEo67r58mTjR/JwlQ3eH4tmV3mYaM7ZOEukaZH9Hv/QaXgQ0VVDTelut8HpkTuXbLI7uMOeUZm5dcyWvm47PtCevjBwg/XSdsgW3wBAACGwjX4007XAD2u9CmRJ7eHxpsCAAAM0HD9tBPB6Gihf6LpkT12okqeO5nvk/sAAAC5EYwCAAAgMfzoPQAAAEYdglEAAAAkhmAUAAAAiSEYBQAAQGIIRgEAAJAYglEAAAAkhmAUAAAAiRkBwWifHFnm/0vNLcPyf+MBAACQjBEQjJbIvdvflfPn9ub3f9gBAAAwYhRRMOq2gN4h2zvt7Bz6Xv1uap1wy2nXlvT2Hnu1z84FAABAsSiaYLRry0y5tES3gHqtoPLId+XIL+3CSO9Ic8NNss+so1+PS4VdooPUXTedtPNPSvXrM/MOcAEAAHB1FEkw+o6c3iXS9IjfkvmINNkl8T4vZVV7ZOGt4cC1T06/3ibHG2ba7c2UlW12EQAAAIpGEXXTL3JaOPXrB3Lv9XZRJH886dMiT+mg0w1Kq+S5k+723pVllXYRAAAAikKRBKN3ypTaPbJrwOM6vaB0X22bXPq5Nz3lHpGVP37HLAUAAEBx+lS/Yt8P2r9d+Xf7biDeke1u93zVOmnbPk+FlaH5mr/slwflsZnr5LidnV5H0w9Eud3zuuU1PaYUAAAA+fuTMX9k3w2tIgpGAQAAUKyGKxgtojGjAAAAuNYQjAIAACAxBKMAAABIDMEoAAAAEkMwCgAAgMQQjAIAACAxBKMAAABIDMEoAAAAEkMwWhD9X53ukMcG/G9LR5e+V78rE5cdVLkCAAAwMASjiNW15Q7Z3mknAAAAhhj/DhSxdDB6+q53ZVmlnQEAAK5J/DvQIaO72r8rR17dIhNvvcO80t3uXje8Pz/QBd2Z7fO+d2S7v054+S8PymOpZVuky87ORQeBmdvz9pOatttOt1wG0x9Ih5N+97h0V/v2V500bnnHW2A/v3CXSNMjdlkq/c7xZnTTR6eha0tUvgMAgGvVNdpN3yYrP7pbzp97V732yi0Ne2yQVSL3btfzvFfbPSfkGT9gqnzcm9dY5U07+l7dIe83nkyt9/0HSuwSFbTN/KnU2vnn94oszGOMpQ4Qd93kb++kVL8+0wacd8oyJ71dP14nt+xNt1p2bZkpLfdkSYcOWnfcKG12vj6uKj/oVJoa/DSelOc+fMTblz3efbUidWof3jYflwqzhk6Hmj65Tmab6bRgGty0ayrfX7fpUOtKKt8BAMC16hoNRqvkuW/ead/rwMoPsoItklUNbXZuvJIbbpLjDTPTrYq+zjekSfbIQru9iY/ssQvi9Mnp19u87Zn1ZsrKQDJUenVQq5YtlL1O9/k7cnrXIqlNBcJpfR0n5HjbOqmy6Qgf1+zGRfb4S2TKPVXy/s8G2mLZJ5c+rJLqqX4aMrdXt2SemqtcXy63mDkAAOBaxgNMrs4tslAFdPtMq172VtCsbCvi+bve8AJINyit3WtbCe1ruw3GYqlg+aSzjnqFx2zOrl2U0SoZZ7bTcmtej/vBeNClj/ILwAEAAIYCwWhY1Y1SZt68I815toym6KBUd11/2O11xVfeLXW7dsiRX5qledKtiSIrfxxqZfXpLvdHVIz7+ONSK4844y4/L2VVe2RXlnGYJVNn5dklrltX3ZZNT/4tpSVS9oU2aenwP+/l4S035A6/AQDAtYlg1FW5SJ4Tvzv7DSlzWkbNb2raLm6/C90fC+l27U+cuU5u8buiTZf6TbJyZnp5Pg/tlDzwtBm7mdqm++CQ3v5eb1hBxeN6/OhMu0093tWbztjX9fPkycaP0sMF1Cs9jlOcIQEqyt37A7n3ertAqfimHtvpL7fp8B/KUmlJdf/b1mA/Tf729FhansQHAABR+Gmna5wOsp+Rp52HrgAAADLx004AAAAYdWgZBQAAQE60jAIAAGDUIRgFAABAYghGAQAAkBiCUQAAACSGYBQAAACJIRgFAABAYghGAQAAkBiCUQAAACSGYBQAAACJIRgFAABAYghGAQAAkBiCUQAAACSGYBQAAACJIRgFAABAYghGAQAAkBiCUQAAACSGYBQAAACJIRgFAABAYghGAQAAkBiCUQAAACSGYBQAAACJIRgFAABAYghGAQAAkBiCUVxl78j2W++Q7Z128prWJ0eW3SGPvdpnp4ebl/dXb3/Fq+/V78rEZQdVCQy/Id9X5xaZeOsW6bKTADDSXaPBqL4pj7aLuRfYTFTBhv9KKujQN99rN+AZjXXrKtPB1pZ37MToNSznyS8PymOpa0Cx1UPvy9DEW78rR35pZ1ldW9LXLQJt4NpDy+ioUiXPnXxXzp/zXt9/oMTOLyZ3yjKVtmWVdvKaViL3br+a5eTlfXHWi6ur5IEfyPnt81QJDL8h31fl4+r8flwq7KSr68fr5Ja9/jUg+2eulkCwbYLkN2TKub1S581JU18+Fn64Ttrsdaut8SPZRes9cE0pqmDUdGf5345T3Vq6xU99k35Vd015ywKtCabLKryOEmghSK/jfQN/RJpkjyz0l7utMFHbyyF72kOtZKEWn8A6gdaAYCtn4IK+bItsN8u2qDzx1s/V5e3tJ719kwfusbnHHJOO1H50OrYcdJbZdWyeVzW0yfGGmXZZuhXEPd6MNEelIWpfOXRtia4zUa0wev72Ld46j7160GvFcfLJXS9QBwP5pOtWHpzjDW5L81uQgst1/j2m0mfqdSpP/PSHWsaddAfrWXh/wX2lyyXHeRcl4rzT4soksN4je+zMeCY//HLSr4iyCtYZ53jdc8AI5WGgdTbiXIgVsa8c50k0Nw3ZzoM+ufRhlZR93k7mI3DeBY8rXG/C54o/P1u90MurXp8lT/pffK6fJ9+PCo4/f6PMbjshp83x98np19vklhv4wgRcS4onGFUXRX3x8r8dB1sS2mTlR3fbb/t75ZaGPd5FUV/Ud9yY/kZ9zwmp8m8g5uJnt3XupFS//pS52Fc87m2jThbJPn/543d668RtL05s2qO8I80NN6XT4Fyou7bMlJZ7Ttr5Ou0z0zeJNnWjXnJSnqvao/JkibQ1Vsn7P/NvBiqfZmbeJHTLTKq1QR3jLt0K4adRH/MjEpmOS0v8+XtFHnFumLvWpZbpbS/U+WTzXKdpdqOf/h/Ivdd7q5gWIjVvX603nRJOg9rVQvfm7exrX+2ePFtNVF68bsvy5DoRv84oXh1w9uWUcdOHap29i1SQcELKTqp60vZTuaTm6xvzrpuyl0mwvLK0/GRjWre8vArre3WHvJ/Kv2BL5vFdIrXqeGabPNH14CO5ZMrEa2X119F19xmn/FPzA/vTwY3K+FRLWqiMo867OBHnnSeqTFTQNvOEVPut+ir/83W84acyxe5v3xfWSbMtk+gy9lqH9f5n2zkpneqc+sLe9Hr+dUGJPRciRewrx3kSzS/jzDrmBYczZWVb+hqQ15cHWw/Tx2UDTnVOPpO6Pul6JlK317s2xJ0Lmk7LQlH5mG9rsMmPJXLJpPspkafpOQGuNUUTjHa9uUfqlkRdvKrkuW/6NwZ9gbcXxY4TcrxtnVTZ4Eu3NKS5LT76Im1nx4jfXrT4tEf5vJSpgHJhRouI17pRPdXfWolMuccJOKvWyXxzoXbzxBfdTV/ywNPmpjFR3/SfTqdVH7M0LsrSYvGOnFaBT9Mjfh6GWvxS6VDbnjpLZn/YnQ4eC/Xzn8rx2rvTaai8OxUEGs6+ym7KDN6ipMrk+nK5xczxBFp8Qq1wqXVqlzjBgddak27FcuuTzqdFUjuEXd8lN9zk7SvLF6HZflk5eeJzW6vyq7s/l0tti2RKajt3ypTaNrn0czsZcd7Fiz/vspZJ5xvSFMjv/KXyQ9EBqB/ExJVxJN1Ct+uRLC2mOc6FIuAF3zpoTF8D8hqOob8Ipsorn+OKOxe8llsTqDqBfG66ztgvRSdnSYsKSvNreQYwWoz4MaPplgX7shfBri3qwlrrt3J43+zzEbW9oee3cjwt8pS+qOfT0jJYi6Qu3CoZy2k9Nq+I1hsdTNq3Rc+0+Eg6aM+7FS4Y6OvXsLXe+K1Vd73h3fDzbJ1fqIJiv7yytbheDQM974bUQMvYb9VVp+QzOt8DQWme58KIooLHp9apL6P+Nc9pcTVfFvyhTCrg/MJep75HnQveNa32o+xfpKLongBdZ8w2dBmo8mraEf5CAGA0K5pgVLd4FXoB0i1ybvdr2Oyb7OAp3f2W0VDkd2+m5dpelPi0+/tR3/6zttB4F/B9qRapEin7Qpu0dPhb0935gx9D5XUlL5Jl39QtD+mxX14rXLZj1q1k+XWJ65bh2fdM91q8rOMfpZrXcjMtUm+k0mBuTlU3SpmdHno3SZkJJNTNeEc+rWa6dVpk5Y+z3WC9Fu7TqS77IWw100Gp7uLNt9U5lWdencktmHYdxO3aVeCYwyziz7ssAuUfdZ4UqtAydpigND1Eo5BzoVAFnSfDxL+2mPPOvFNMa3W2IQtx54JHt9Luk2wtzNnpa5A4dbzvZx+JfKHcuZ7Y1vYCAlwAI0vRBKN6XJse8+V3ked1IVM3jSf1eEV/HfXyu3cqvqnHpNmupDdvDLXQ3CnzG9UF1R9f6V/kYrYXJzrt7n52SFmj00IT6B67wzxN6ne7Vjyux+f53WCPmPGD+bXCZR8zqrss9fbNwwSpY7QBqQp4zJhPu477kEIwHerllokznEGPDwsOCVgidbq70yxPt/j63cgLU12edlko36v0WLWhfPrYpfZVqwILb19PiagAPR96mMNzH/rHpF9+PqkvE0sWpbpwT9+V35hRvxvZfYglPQbV34d6zVwnt+QzBKRykTwnfpm8oepaPk2SKu1Pr5P3/e5nva+9g2vxiz/vIgTK5A2ZUsCY0aziytg/79Sxpobk2PM/0LVvzjt3CEDMuRAlZl9a1HkSzR8Cob/w2OPLM+DLLlh3n5FZ6bqrh8qk0mZfNu3R50KaDkjdccvBtNvrlJ92dQ3a51w/zfj7YeuRAlCMPtWv2PeD9m9X/t2+w6imb7LqHv/kcAWMGDY60D19Fw+IIJ4OzJ+Rp9NfMvU5P/OnUpvXuGEAo9WfjPkj+25ojfgxowDieA+V+K1YuhWbQBS5eEOWnJZg82sHBKIAhgctowAAAMiJllEAAACMOgSjAAAASAzBKAAAABJDMAoAAIDEEIwCAAAgMQSjAAAASAzBKAAAABJDMAoAAIDEEIwCAAAgMQSjAAAASAzBKAAAABJDMAoAAIDEEIwCAAAgMQSjAAAASAzBKAAAABJDMAoAAIDEEIwCAAAgMZ/qV+x7AAAA4KqiZRQAAACJIRgFAABAYghGAQAAkBiCUQAAACRE5P8HFWLhrMU5tQ0AAAAASUVORK5CYII=)"
      ],
      "metadata": {
        "id": "WDibj_jVFCK0"
      }
    },
    {
      "cell_type": "code",
      "source": [
        "class AdultException(Exception):\n",
        "  pass\n",
        "class Person:\n",
        "  def __init__(self,n,a):\n",
        "    self.name= n\n",
        "    self.age= a\n",
        "  def get_minor_age(self):\n",
        "    if int(self.age)>=18:\n",
        "      raise AdultException\n",
        "    else:\n",
        "      print(self.age)\n",
        "  def display_person(self):\n",
        "    try:\n",
        "      print(f\"age {self.get_minor_age()}\")\n",
        "    except AdultException:\n",
        "       print(\"Person is an adult\")\n",
        "    finally:\n",
        "            print(f\"name -> {self.name}\")\n",
        "\n",
        "Person(\"mahnam\",22).display_person()\n",
        "Person(\"mahnam\",2).display_person()\n"
      ],
      "metadata": {
        "colab": {
          "base_uri": "https://localhost:8080/"
        },
        "id": "RTCeurCwFGy9",
        "outputId": "15b83591-ca76-4975-e1db-4eaae9d644d3"
      },
      "execution_count": 11,
      "outputs": [
        {
          "output_type": "stream",
          "name": "stdout",
          "text": [
            "Person is an adult\n",
            "name -> mahnam\n",
            "2\n",
            "age None\n",
            "name -> mahnam\n"
          ]
        }
      ]
    },
    {
      "cell_type": "markdown",
      "source": [
        "Question 1:\n",
        "Task: Create a custom exception class called InvalidInputError. Write a program that takes user input for a number and raises InvalidInputError if the input is not a positive integer. Use a finally block to print a message indicating the end of the program.\n",
        "\n"
      ],
      "metadata": {
        "id": "d1nvKo9yJIb2"
      }
    },
    {
      "cell_type": "code",
      "source": [
        "class InvalidInputError(Exception):\n",
        "  pass\n",
        "n = int(input(\"ENTER POS VALUE\"))\n",
        "try:\n",
        "  if n <=0:\n",
        "    raise InvalidInputError\n",
        "  else:\n",
        "    print(n)\n",
        "except InvalidInputError:\n",
        "    print(\"enter valid number\")\n",
        "finally:\n",
        "  print(\"end of program\")"
      ],
      "metadata": {
        "colab": {
          "base_uri": "https://localhost:8080/"
        },
        "id": "e7lBBclfHqvm",
        "outputId": "35054168-699a-4f48-c21a-a112ee41eb71"
      },
      "execution_count": 14,
      "outputs": [
        {
          "output_type": "stream",
          "name": "stdout",
          "text": [
            "ENTER POS VALUE-4\n",
            "enter valid number\n",
            "end of program\n"
          ]
        }
      ]
    },
    {
      "cell_type": "code",
      "source": [],
      "metadata": {
        "id": "xTImeIG6Jp7-"
      },
      "execution_count": null,
      "outputs": []
    }
  ]
}