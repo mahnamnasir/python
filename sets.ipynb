{
  "nbformat": 4,
  "nbformat_minor": 0,
  "metadata": {
    "colab": {
      "provenance": [],
      "authorship_tag": "ABX9TyOKI2LtcxismaRWiI/koELZ",
      "include_colab_link": true
    },
    "kernelspec": {
      "name": "python3",
      "display_name": "Python 3"
    },
    "language_info": {
      "name": "python"
    }
  },
  "cells": [
    {
      "cell_type": "markdown",
      "metadata": {
        "id": "view-in-github",
        "colab_type": "text"
      },
      "source": [
        "<a href=\"https://colab.research.google.com/github/mahnamnasir/python/blob/main/sets.ipynb\" target=\"_parent\"><img src=\"https://colab.research.google.com/assets/colab-badge.svg\" alt=\"Open In Colab\"/></a>"
      ]
    },
    {
      "cell_type": "markdown",
      "source": [
        "Sets are collection of unordered information"
      ],
      "metadata": {
        "id": "EVSPAp6RP8T6"
      }
    },
    {
      "cell_type": "code",
      "execution_count": 2,
      "metadata": {
        "colab": {
          "base_uri": "https://localhost:8080/"
        },
        "id": "5Sb1ByEDO7_v",
        "outputId": "1f814944-dea6-4b25-cea5-7fb4b3491f62"
      },
      "outputs": [
        {
          "output_type": "stream",
          "name": "stdout",
          "text": [
            "{1, 2, 3, 4, 5, 6, 7}\n"
          ]
        }
      ],
      "source": [
        "s1 = {1,2,5,4,6}\n",
        "s2 = {3,7,5}\n",
        "print(s1.union(s2))\n"
      ]
    },
    {
      "cell_type": "code",
      "source": [
        "fs=frozenset(s1)\n",
        "fs"
      ],
      "metadata": {
        "colab": {
          "base_uri": "https://localhost:8080/"
        },
        "id": "o4q4_62vPFDy",
        "outputId": "b3b42bbf-fdf1-41ae-9356-d5bf94fb0292"
      },
      "execution_count": 3,
      "outputs": [
        {
          "output_type": "execute_result",
          "data": {
            "text/plain": [
              "frozenset({1, 2, 4, 5, 6})"
            ]
          },
          "metadata": {},
          "execution_count": 3
        }
      ]
    },
    {
      "cell_type": "code",
      "source": [
        "fs.add(5)"
      ],
      "metadata": {
        "colab": {
          "base_uri": "https://localhost:8080/",
          "height": 175
        },
        "id": "Nb3DXiasQdHi",
        "outputId": "eb9da197-6288-4952-cfa1-f807efa404e3"
      },
      "execution_count": 4,
      "outputs": [
        {
          "output_type": "error",
          "ename": "AttributeError",
          "evalue": "ignored",
          "traceback": [
            "\u001b[0;31m---------------------------------------------------------------------------\u001b[0m",
            "\u001b[0;31mAttributeError\u001b[0m                            Traceback (most recent call last)",
            "\u001b[0;32m<ipython-input-4-531d66904edb>\u001b[0m in \u001b[0;36m<cell line: 1>\u001b[0;34m()\u001b[0m\n\u001b[0;32m----> 1\u001b[0;31m \u001b[0mfs\u001b[0m\u001b[0;34m.\u001b[0m\u001b[0madd\u001b[0m\u001b[0;34m(\u001b[0m\u001b[0;36m5\u001b[0m\u001b[0;34m)\u001b[0m\u001b[0;34m\u001b[0m\u001b[0;34m\u001b[0m\u001b[0m\n\u001b[0m",
            "\u001b[0;31mAttributeError\u001b[0m: 'frozenset' object has no attribute 'add'"
          ]
        }
      ]
    },
    {
      "cell_type": "markdown",
      "source": [
        "![image.png](data:image/png;base64,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)"
      ],
      "metadata": {
        "id": "IdYfw8CNQzBy"
      }
    },
    {
      "cell_type": "code",
      "source": [
        "s = {1,2,3,4,6,5,4}\n",
        "fs = frozenset(s)\n",
        "fs"
      ],
      "metadata": {
        "colab": {
          "base_uri": "https://localhost:8080/"
        },
        "id": "5Q5PAZREQfqJ",
        "outputId": "769b5714-7e8f-4adb-cbde-1cbe6584860d"
      },
      "execution_count": 5,
      "outputs": [
        {
          "output_type": "execute_result",
          "data": {
            "text/plain": [
              "frozenset({1, 2, 3, 4, 5, 6})"
            ]
          },
          "metadata": {},
          "execution_count": 5
        }
      ]
    },
    {
      "cell_type": "code",
      "source": [
        "set1={1,2,3,4,5}\n",
        "set2={4,5,6,7,8}\n",
        "set3=set1.difference(set2)\n",
        "set4=set1.symmetric_difference(set2)\n",
        "print(set3)\n",
        "print(set4)"
      ],
      "metadata": {
        "colab": {
          "base_uri": "https://localhost:8080/"
        },
        "id": "rD29M2ivRD-C",
        "outputId": "d5542c40-2bb4-40d3-c78b-95381503b156"
      },
      "execution_count": 8,
      "outputs": [
        {
          "output_type": "stream",
          "name": "stdout",
          "text": [
            "{1, 2, 3}\n",
            "{1, 2, 3, 6, 7, 8}\n"
          ]
        }
      ]
    },
    {
      "cell_type": "code",
      "source": [],
      "metadata": {
        "id": "7Z2ssoJdRqBJ"
      },
      "execution_count": null,
      "outputs": []
    }
  ]
}