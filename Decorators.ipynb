{
  "nbformat": 4,
  "nbformat_minor": 0,
  "metadata": {
    "colab": {
      "provenance": [],
      "authorship_tag": "ABX9TyN++DYuS9/oTuM31GtdYr5T",
      "include_colab_link": true
    },
    "kernelspec": {
      "name": "python3",
      "display_name": "Python 3"
    },
    "language_info": {
      "name": "python"
    }
  },
  "cells": [
    {
      "cell_type": "markdown",
      "metadata": {
        "id": "view-in-github",
        "colab_type": "text"
      },
      "source": [
        "<a href=\"https://colab.research.google.com/github/mahnamnasir/python/blob/main/Decorators.ipynb\" target=\"_parent\"><img src=\"https://colab.research.google.com/assets/colab-badge.svg\" alt=\"Open In Colab\"/></a>"
      ]
    },
    {
      "cell_type": "code",
      "execution_count": 4,
      "metadata": {
        "colab": {
          "base_uri": "https://localhost:8080/"
        },
        "id": "cQzRDTuQKsd_",
        "outputId": "432f8337-8eb1-4efe-b1e9-3c77b9ab3977"
      },
      "outputs": [
        {
          "output_type": "stream",
          "name": "stdout",
          "text": [
            "Decorators\n"
          ]
        }
      ],
      "source": [
        "print(\"Decorators\")"
      ]
    },
    {
      "cell_type": "code",
      "source": [
        "def greet(fx):\n",
        "  def mfx():\n",
        "    print(\"Good Morning\")\n",
        "    fx()\n",
        "    print(\"Thanks for using this function\")\n",
        "  return mfx\n",
        "\n",
        "@greet\n",
        "def hello():\n",
        "  print(\"Hello world!\")\n",
        "\n",
        "greet(hello())"
      ],
      "metadata": {
        "colab": {
          "base_uri": "https://localhost:8080/"
        },
        "id": "XFk_d3sFLT3a",
        "outputId": "d5d2f505-90db-45db-ebc3-057975ca9d61"
      },
      "execution_count": 7,
      "outputs": [
        {
          "output_type": "stream",
          "name": "stdout",
          "text": [
            "Good Morning\n",
            "Hello world!\n",
            "Thanks for using this function\n"
          ]
        }
      ]
    },
    {
      "cell_type": "markdown",
      "source": [
        "![image.png](data:image/png;base64,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)"
      ],
      "metadata": {
        "id": "3DSz6CWsXpDQ"
      }
    },
    {
      "cell_type": "code",
      "source": [
        "def greet(fx):\n",
        "  def mfx(n):\n",
        "    if n <=0:\n",
        "      raise ValueError(\"Input must be positive\")\n",
        "    result = fx(n)\n",
        "    print(\"Thanks for using this function\")\n",
        "    return result\n",
        "  return mfx\n",
        "@greet\n",
        "def factorial(n):\n",
        "  result = 1\n",
        "  for i in range(1,n+1):\n",
        "    result *=i\n",
        "    print(result)\n",
        "  return result\n",
        "\n",
        "user = int(input())\n",
        "factorial(user)"
      ],
      "metadata": {
        "colab": {
          "base_uri": "https://localhost:8080/",
          "height": 349
        },
        "id": "P4KAnng5TK4I",
        "outputId": "2d2578b5-b2f5-423c-cbd3-b94082950efc"
      },
      "execution_count": 15,
      "outputs": [
        {
          "name": "stdout",
          "output_type": "stream",
          "text": [
            "-5\n"
          ]
        },
        {
          "output_type": "error",
          "ename": "ValueError",
          "evalue": "ignored",
          "traceback": [
            "\u001b[0;31m---------------------------------------------------------------------------\u001b[0m",
            "\u001b[0;31mValueError\u001b[0m                                Traceback (most recent call last)",
            "\u001b[0;32m<ipython-input-15-0ac8effd3ddc>\u001b[0m in \u001b[0;36m<cell line: 18>\u001b[0;34m()\u001b[0m\n\u001b[1;32m     16\u001b[0m \u001b[0;34m\u001b[0m\u001b[0m\n\u001b[1;32m     17\u001b[0m \u001b[0muser\u001b[0m \u001b[0;34m=\u001b[0m \u001b[0mint\u001b[0m\u001b[0;34m(\u001b[0m\u001b[0minput\u001b[0m\u001b[0;34m(\u001b[0m\u001b[0;34m)\u001b[0m\u001b[0;34m)\u001b[0m\u001b[0;34m\u001b[0m\u001b[0;34m\u001b[0m\u001b[0m\n\u001b[0;32m---> 18\u001b[0;31m \u001b[0mfactorial\u001b[0m\u001b[0;34m(\u001b[0m\u001b[0muser\u001b[0m\u001b[0;34m)\u001b[0m\u001b[0;34m\u001b[0m\u001b[0;34m\u001b[0m\u001b[0m\n\u001b[0m",
            "\u001b[0;32m<ipython-input-15-0ac8effd3ddc>\u001b[0m in \u001b[0;36mmfx\u001b[0;34m(n)\u001b[0m\n\u001b[1;32m      2\u001b[0m   \u001b[0;32mdef\u001b[0m \u001b[0mmfx\u001b[0m\u001b[0;34m(\u001b[0m\u001b[0mn\u001b[0m\u001b[0;34m)\u001b[0m\u001b[0;34m:\u001b[0m\u001b[0;34m\u001b[0m\u001b[0;34m\u001b[0m\u001b[0m\n\u001b[1;32m      3\u001b[0m     \u001b[0;32mif\u001b[0m \u001b[0mn\u001b[0m \u001b[0;34m<=\u001b[0m\u001b[0;36m0\u001b[0m\u001b[0;34m:\u001b[0m\u001b[0;34m\u001b[0m\u001b[0;34m\u001b[0m\u001b[0m\n\u001b[0;32m----> 4\u001b[0;31m       \u001b[0;32mraise\u001b[0m \u001b[0mValueError\u001b[0m\u001b[0;34m(\u001b[0m\u001b[0;34m\"Input must be positive\"\u001b[0m\u001b[0;34m)\u001b[0m\u001b[0;34m\u001b[0m\u001b[0;34m\u001b[0m\u001b[0m\n\u001b[0m\u001b[1;32m      5\u001b[0m     \u001b[0mresult\u001b[0m \u001b[0;34m=\u001b[0m \u001b[0mfx\u001b[0m\u001b[0;34m(\u001b[0m\u001b[0mn\u001b[0m\u001b[0;34m)\u001b[0m\u001b[0;34m\u001b[0m\u001b[0;34m\u001b[0m\u001b[0m\n\u001b[1;32m      6\u001b[0m     \u001b[0mprint\u001b[0m\u001b[0;34m(\u001b[0m\u001b[0;34m\"Thanks for using this function\"\u001b[0m\u001b[0;34m)\u001b[0m\u001b[0;34m\u001b[0m\u001b[0;34m\u001b[0m\u001b[0m\n",
            "\u001b[0;31mValueError\u001b[0m: Input must be positive"
          ]
        }
      ]
    },
    {
      "cell_type": "code",
      "source": [],
      "metadata": {
        "id": "J9VXzIQ9ZU1x"
      },
      "execution_count": null,
      "outputs": []
    }
  ]
}