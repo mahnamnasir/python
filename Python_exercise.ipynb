{
  "nbformat": 4,
  "nbformat_minor": 0,
  "metadata": {
    "colab": {
      "provenance": [],
      "authorship_tag": "ABX9TyNv5GYCDhAg1VQ0Eo/sO3x4",
      "include_colab_link": true
    },
    "kernelspec": {
      "name": "python3",
      "display_name": "Python 3"
    },
    "language_info": {
      "name": "python"
    }
  },
  "cells": [
    {
      "cell_type": "markdown",
      "metadata": {
        "id": "view-in-github",
        "colab_type": "text"
      },
      "source": [
        "<a href=\"https://colab.research.google.com/github/mahnamnasir/data-science/blob/main/Python_exercise.ipynb\" target=\"_parent\"><img src=\"https://colab.research.google.com/assets/colab-badge.svg\" alt=\"Open In Colab\"/></a>"
      ]
    },
    {
      "cell_type": "markdown",
      "source": [
        "Exercise 2"
      ],
      "metadata": {
        "id": "dgKSCeg3snbh"
      }
    },
    {
      "cell_type": "markdown",
      "metadata": {
        "id": "wIEstxrmsaf0"
      },
      "source": [
        "**1. Create a variable called break and assign it a value 5. See what happens and find out the reason behind the behavior that you see**"
      ]
    },
    {
      "cell_type": "code",
      "source": [
        "break = 5"
      ],
      "metadata": {
        "colab": {
          "base_uri": "https://localhost:8080/",
          "height": 140
        },
        "id": "tvtdgMkes-NQ",
        "outputId": "8cf7be1c-09d2-443e-c9e2-5210b42e64f6"
      },
      "execution_count": null,
      "outputs": [
        {
          "output_type": "error",
          "ename": "SyntaxError",
          "evalue": "ignored",
          "traceback": [
            "\u001b[0;36m  File \u001b[0;32m\"<ipython-input-1-00bd2e73219f>\"\u001b[0;36m, line \u001b[0;32m1\u001b[0m\n\u001b[0;31m    break = 5\u001b[0m\n\u001b[0m          ^\u001b[0m\n\u001b[0;31mSyntaxError\u001b[0m\u001b[0;31m:\u001b[0m invalid syntax\n"
          ]
        }
      ]
    },
    {
      "cell_type": "markdown",
      "metadata": {
        "id": "9cO-lCaIsaf3"
      },
      "source": [
        "**2. Create two variables. One to store your birth year and another one to store current year. Now calculate your age using these two variables**"
      ]
    },
    {
      "cell_type": "code",
      "source": [
        "birth_year = 2001\n",
        "current_year = 2023\n",
        "print(current_year-birth_year)\n"
      ],
      "metadata": {
        "colab": {
          "base_uri": "https://localhost:8080/"
        },
        "id": "UY3h-NkntHDx",
        "outputId": "4337a74b-961d-4877-ee2c-4d014954d2bb"
      },
      "execution_count": null,
      "outputs": [
        {
          "output_type": "stream",
          "name": "stdout",
          "text": [
            "22\n"
          ]
        }
      ]
    },
    {
      "cell_type": "markdown",
      "metadata": {
        "id": "_LcU8idisaf4"
      },
      "source": [
        "**3. Store your first, middle and last name in three different variables and then print your full name using these variables**"
      ]
    },
    {
      "cell_type": "code",
      "source": [
        "f_name = \"Mahnam\"\n",
        "s_name = \"Nasir\"\n",
        "l_name = \"Naeem\"\n",
        "print(\" \"+f_name+\" \"+s_name+\" \"+l_name)"
      ],
      "metadata": {
        "colab": {
          "base_uri": "https://localhost:8080/"
        },
        "id": "ADMHuhPXtZmw",
        "outputId": "08df7411-1943-47af-ea8b-c4c34208d20f"
      },
      "execution_count": null,
      "outputs": [
        {
          "output_type": "stream",
          "name": "stdout",
          "text": [
            " Mahnam Nasir Naeem\n"
          ]
        }
      ]
    },
    {
      "cell_type": "markdown",
      "metadata": {
        "id": "L2jBun04saf4"
      },
      "source": [
        "**4. Answer which of these are invalid variable names: \"\\_nation, 1record, record1, record\\_one, record-one, record^one, continue\"**"
      ]
    },
    {
      "cell_type": "code",
      "source": [
        "1record, record-one, record^one, continue"
      ],
      "metadata": {
        "id": "bVfwSqDYt0yZ"
      },
      "execution_count": null,
      "outputs": []
    },
    {
      "cell_type": "markdown",
      "source": [
        "Exercise 3"
      ],
      "metadata": {
        "id": "Dc5eJvatIyOs"
      }
    },
    {
      "cell_type": "markdown",
      "source": [
        "**You have a football field that is 92 meter long and 48.8 meter wide. Find out total area using python and print it.**"
      ],
      "metadata": {
        "id": "RwulVZjguvC4"
      }
    },
    {
      "cell_type": "code",
      "source": [
        "length= 92\n",
        "width = 48.8\n",
        "print(length*width)"
      ],
      "metadata": {
        "colab": {
          "base_uri": "https://localhost:8080/"
        },
        "id": "eMc6KP9wvMvg",
        "outputId": "9cd1b442-c453-4cc1-98ff-694928ef8420"
      },
      "execution_count": null,
      "outputs": [
        {
          "output_type": "stream",
          "name": "stdout",
          "text": [
            "4489.599999999999\n"
          ]
        }
      ]
    },
    {
      "cell_type": "markdown",
      "source": [
        "**You bought 9 packets of potato chips from a store. Each packet costs 1.49 dollar and you gave shopkeeper 20 dollar. Find out using python, how many dollars is the shopkeeper going to give you back?**"
      ],
      "metadata": {
        "id": "AQF5qGvluzNY"
      }
    },
    {
      "cell_type": "code",
      "source": [
        "num_of_packet = 9\n",
        "cost = 1.49\n",
        "money= 20\n",
        "print(20-(9*1.49))\n"
      ],
      "metadata": {
        "colab": {
          "base_uri": "https://localhost:8080/"
        },
        "id": "xMaGT93EvWAQ",
        "outputId": "cfbbaceb-2aea-4b74-e322-4c612a6833b8"
      },
      "execution_count": null,
      "outputs": [
        {
          "output_type": "stream",
          "name": "stdout",
          "text": [
            "6.59\n"
          ]
        }
      ]
    },
    {
      "cell_type": "markdown",
      "source": [
        "**You want to replace tiles in your bathroom which is exactly square and 5.5 feet is its length. If tiles cost 500 rs per square feet, how much will be the total cost to replace all tiles. Calculate and print the cost using python (Hint: Use power operator ** to find area of a square)**"
      ],
      "metadata": {
        "id": "GEDjcTgRvDaI"
      }
    },
    {
      "cell_type": "code",
      "source": [
        "length = 5.5\n",
        "area = 5.5**2\n",
        "print(area*500)"
      ],
      "metadata": {
        "colab": {
          "base_uri": "https://localhost:8080/"
        },
        "id": "VGt9k_i6vu5R",
        "outputId": "c32990db-2268-4c87-b508-fa79be6147cd"
      },
      "execution_count": null,
      "outputs": [
        {
          "output_type": "stream",
          "name": "stdout",
          "text": [
            "15125.0\n"
          ]
        }
      ]
    },
    {
      "cell_type": "markdown",
      "source": [
        "**Print binary representation of number 17**"
      ],
      "metadata": {
        "id": "Ugf517XCvHmY"
      }
    },
    {
      "cell_type": "code",
      "source": [
        "num = 17\n",
        "print('Binary of number 17 is:',format(num,'b'))"
      ],
      "metadata": {
        "colab": {
          "base_uri": "https://localhost:8080/"
        },
        "id": "seDwn0CcwdDQ",
        "outputId": "267928ec-a3f4-4816-f14d-5e07a0925a96"
      },
      "execution_count": null,
      "outputs": [
        {
          "output_type": "stream",
          "name": "stdout",
          "text": [
            "Binary of number 17 is: 10001\n"
          ]
        }
      ]
    },
    {
      "cell_type": "markdown",
      "source": [
        "Exercise 4"
      ],
      "metadata": {
        "id": "8CfIg1qQI1jb"
      }
    },
    {
      "cell_type": "markdown",
      "source": [
        "**Create 3 variables to store street, city and country, now create address variable to store entire address. Use two ways of creating this variable, one using + operator and the other using f-string. Now Print the address in such a way that the street, city and country prints in a separate line**"
      ],
      "metadata": {
        "id": "bxstAl2iJCW7"
      }
    },
    {
      "cell_type": "code",
      "source": [
        "street = \"st 16\"\n",
        "city = \"rwp\"\n",
        "country = \"Pakistan\"\n",
        "address = street+\"\\n\"+city+\"\\n\"+country\n",
        "print(address)\n",
        "address2 =f\"{street}\\n{city}\\n{country}\"\n",
        "print(address2)"
      ],
      "metadata": {
        "colab": {
          "base_uri": "https://localhost:8080/"
        },
        "id": "xuYtVEd8OynK",
        "outputId": "4fee6e27-ac76-4851-93d9-37458c627aa4"
      },
      "execution_count": null,
      "outputs": [
        {
          "output_type": "stream",
          "name": "stdout",
          "text": [
            "st 16\n",
            "rwp\n",
            "Pakistan\n",
            "st 16\n",
            "rwp\n",
            "Pakistan\n"
          ]
        }
      ]
    },
    {
      "cell_type": "markdown",
      "source": [
        "**Create a variable to store the string \"Earth revolves around the sun\"\n",
        "Print \"revolves\" using slice operator\n",
        "Print \"sun\" using negative index**"
      ],
      "metadata": {
        "id": "za90j-knJJQS"
      }
    },
    {
      "cell_type": "code",
      "source": [
        "var = \"Earth revolves around the sun\"\n",
        "print(var[6:13])\n",
        "print(var[-3:])"
      ],
      "metadata": {
        "colab": {
          "base_uri": "https://localhost:8080/"
        },
        "id": "aGDRNZPQQhKL",
        "outputId": "71f22e7f-a7f4-49d8-a214-6e2b4be3c3f4"
      },
      "execution_count": null,
      "outputs": [
        {
          "output_type": "stream",
          "name": "stdout",
          "text": [
            "revolve\n",
            "sun\n"
          ]
        }
      ]
    },
    {
      "cell_type": "markdown",
      "source": [
        "**Create two variables to store how many fruits and vegetables you eat in a day. Now Print \"I eat x veggies and y fruits daily\" where x and y presents vegetables and fruits that you eat everyday. Use python f string for this. **"
      ],
      "metadata": {
        "id": "D2Wd1nG7JMm7"
      }
    },
    {
      "cell_type": "code",
      "source": [
        "fruits = (input())\n",
        "veg = (input())\n",
        "print(f\"i eat {veg} veggies and {fruits} fruits daily\")"
      ],
      "metadata": {
        "colab": {
          "base_uri": "https://localhost:8080/"
        },
        "id": "QKnC9IrhRlPq",
        "outputId": "a9ef000a-e252-47db-a60a-dee1673baa60"
      },
      "execution_count": null,
      "outputs": [
        {
          "output_type": "stream",
          "name": "stdout",
          "text": [
            "2\n",
            "3\n",
            "i eat 3 veggies and 2 fruits daily\n"
          ]
        }
      ]
    },
    {
      "cell_type": "markdown",
      "source": [
        "**I have a string variable called s='maine 200 banana khaye'. This of course is a wrong statement, the correct statement is 'maine 10 samosa khaye'. Replace incorrect words in original strong with new ones and print the new string. Also try to do this in one line.**"
      ],
      "metadata": {
        "id": "28FWakHFJRoD"
      }
    },
    {
      "cell_type": "code",
      "source": [
        "s='maine 200 banana khaye'\n",
        "s = s.replace('banana','samosa')\n",
        "s=s.replace('200','10')\n",
        "print(s)"
      ],
      "metadata": {
        "colab": {
          "base_uri": "https://localhost:8080/"
        },
        "id": "kc_NQXm_SCxy",
        "outputId": "7e23e86a-9c7f-459c-bb14-dbb37f725f00"
      },
      "execution_count": null,
      "outputs": [
        {
          "output_type": "stream",
          "name": "stdout",
          "text": [
            "maine 10 samosa khaye\n"
          ]
        }
      ]
    },
    {
      "cell_type": "markdown",
      "source": [
        "Exercise 5"
      ],
      "metadata": {
        "id": "QtMRBkVzJaOt"
      }
    },
    {
      "cell_type": "markdown",
      "source": [
        "**Let us say your expense for every month are listed below,\n",
        "January - 2200\n",
        "February - 2350\n",
        "March - 2600\n",
        "April - 2130\n",
        "May - 2190\n",
        "Create a list to store these monthly expenses and using that find out,**"
      ],
      "metadata": {
        "id": "4p-5Lsa2JeeF"
      }
    },
    {
      "cell_type": "markdown",
      "source": [
        "1. In Feb, how many dollars you spent extra compare to January?\n",
        "2. Find out your total expense in first quarter (first three months) of the year.\n",
        "3. Find out if you spent exactly 2000 dollars in any month\n",
        "4. June month just finished and your expense is 1980 dollar. Add this item to our monthly expense list\n",
        "5. You returned an item that you bought in a month of April and\n",
        "got a refund of 200$. Make a correction to your monthly expense list\n",
        "based on this"
      ],
      "metadata": {
        "id": "3NmCc70tJjv9"
      }
    },
    {
      "cell_type": "code",
      "source": [
        "expense = [2200,2350,2600,2130,2190]\n",
        "extra = expense[1]-expense[0]\n",
        "print(extra)\n",
        "tot_exp = expense[0]+expense[1]+expense[2]\n",
        "print(tot_exp)\n",
        "print(2000 in expense)\n",
        "expense.append(1980)\n",
        "print(expense)\n",
        "expense[3]=expense[3]-200\n",
        "print(expense[3])"
      ],
      "metadata": {
        "colab": {
          "base_uri": "https://localhost:8080/"
        },
        "id": "84229TKdSqYZ",
        "outputId": "17f7189b-e2f2-4eb8-91bf-d554e360a131"
      },
      "execution_count": null,
      "outputs": [
        {
          "output_type": "stream",
          "name": "stdout",
          "text": [
            "150\n",
            "7150\n",
            "False\n",
            "[2200, 2350, 2600, 2130, 2190, 1980]\n",
            "1930\n"
          ]
        }
      ]
    },
    {
      "cell_type": "markdown",
      "source": [
        "**You have a list of your favourite marvel super heros.\n",
        "heros=['spider man','thor','hulk','iron man','captain america']**"
      ],
      "metadata": {
        "id": "35uwDzqjJrtK"
      }
    },
    {
      "cell_type": "markdown",
      "source": [
        "1. Length of the list\n",
        "2. Add 'black panther' at the end of this list\n",
        "3. You realize that you need to add 'black panther' after 'hulk',\n",
        "   so remove it from the list first and then add it after 'hulk'\n",
        "4. Now you don't like thor and hulk because they get angry easily :)\n",
        "   So you want to remove thor and hulk from list and replace them with doctor strange (because he is cool).\n",
        "   Do that with one line of code.\n",
        "5. Sort the heros list in alphabetical order (Hint. Use dir() functions to list down all functions available in list)\n"
      ],
      "metadata": {
        "id": "4XKE5aE0JuvK"
      }
    },
    {
      "cell_type": "code",
      "source": [
        "heros=['spider man','thor','hulk','iron man','captain america']\n",
        "print(len(heros))\n",
        "heros.append('Black Panther')\n",
        "print(heros)\n",
        "heros.remove('Black Panther')\n",
        "heros.insert(3,\"Black Panther\")\n",
        "print(heros)\n",
        "heros[1:3]=[\"Doctor Strange\"]\n",
        "print(heros)\n",
        "heros.sort()\n",
        "print(heros)"
      ],
      "metadata": {
        "colab": {
          "base_uri": "https://localhost:8080/"
        },
        "id": "_dvH9kPQV_bo",
        "outputId": "6426206e-7ab0-49d2-c2b1-99a6ebc141fd"
      },
      "execution_count": null,
      "outputs": [
        {
          "output_type": "stream",
          "name": "stdout",
          "text": [
            "5\n",
            "['spider man', 'thor', 'hulk', 'iron man', 'captain america', 'Black Panther']\n",
            "['spider man', 'thor', 'hulk', 'Black Panther', 'iron man', 'captain america']\n",
            "['spider man', 'Doctor Strange', 'Black Panther', 'iron man', 'captain america']\n",
            "['Black Panther', 'Doctor Strange', 'captain america', 'iron man', 'spider man']\n"
          ]
        }
      ]
    },
    {
      "cell_type": "markdown",
      "source": [
        "Exercise 8"
      ],
      "metadata": {
        "id": "ySqD1AYSJz71"
      }
    },
    {
      "cell_type": "markdown",
      "source": [
        "Using following list of cities per country,\n",
        "india = [\"mumbai\", \"banglore\", \"chennai\", \"delhi\"]\n",
        "pakistan = [\"lahore\",\"karachi\",\"islamabad\"]\n",
        "bangladesh = [\"dhaka\", \"khulna\", \"rangpur\"]\n",
        "Write a program that asks user to enter a city name and it should tell which country the city belongs to\n",
        "Write a program that asks user to enter two cities and it tells you if they both are in same country or not. For example if I enter mumbai and chennai, it will print \"Both cities are in India\" but if I enter mumbai and dhaka it should print \"They don't belong to same country\""
      ],
      "metadata": {
        "id": "52TiKtZDK5qy"
      }
    },
    {
      "cell_type": "code",
      "source": [
        "india = [\"mumbai\", \"banglore\", \"chennai\", \"delhi\"]\n",
        "pakistan = [\"lahore\",\"karachi\",\"islamabad\"]\n",
        "bangladesh = [\"dhaka\", \"khulna\", \"rangpur\"]\n",
        "user = input()\n",
        "if user in india:\n",
        "  print(f'{city}in india')\n",
        "elif user in pakistan:\n",
        "  print(f'{city in pakistan}')\n",
        "elif user in bangladesh:\n",
        "  print(f'{city in pakistan}')\n"
      ],
      "metadata": {
        "colab": {
          "base_uri": "https://localhost:8080/"
        },
        "id": "HyfwmdnCXPpv",
        "outputId": "e0a81a84-a789-4f08-e2aa-45f4c9ec74c7"
      },
      "execution_count": null,
      "outputs": [
        {
          "output_type": "stream",
          "name": "stdout",
          "text": [
            "mumbai\n",
            "rwpin india\n"
          ]
        }
      ]
    },
    {
      "cell_type": "code",
      "source": [
        "india = [\"mumbai\", \"banglore\", \"chennai\", \"delhi\"]\n",
        "pakistan = [\"lahore\",\"karachi\",\"islamabad\"]\n",
        "bangladesh = [\"dhaka\", \"khulna\", \"rangpur\"]\n",
        "user = input()\n",
        "user2 = input()\n",
        "if user in india and user2 in india:\n",
        "  print('Both ciities in india')\n",
        "elif user in pakistan and user2 in pakistan:\n",
        "  print('Both cities in pakistan')\n",
        "elif user in bangladesh and user2 in bangladesh:\n",
        "  print('both cities in Bangladesh')"
      ],
      "metadata": {
        "colab": {
          "base_uri": "https://localhost:8080/"
        },
        "id": "tVnsSKlFY6wA",
        "outputId": "5c93cb26-c778-4caf-9ffd-3077788ae6ac"
      },
      "execution_count": null,
      "outputs": [
        {
          "output_type": "stream",
          "name": "stdout",
          "text": [
            "mumbai\n",
            "delhi\n",
            "Both ciities in india\n"
          ]
        }
      ]
    },
    {
      "cell_type": "markdown",
      "source": [
        "Write a python program that can tell you if your sugar is normal or not. Normal fasting level sugar range is 80 to 100.\n",
        "Ask user to enter his fasting sugar level\n",
        "If it is below 80 to 100 range then print that sugar is low\n",
        "If it is above 100 then print that it is high otherwise print that it is normal"
      ],
      "metadata": {
        "id": "XhjYyGP3K-_U"
      }
    },
    {
      "cell_type": "code",
      "source": [
        "user = input(\"Enter your sugar level\")\n",
        "user1= float(user)\n",
        "if user1<80:\n",
        "  print(\"low\")\n",
        "elif user1>100:\n",
        "  print(\"high\")\n",
        "else:\n",
        "  print(\"normal\")"
      ],
      "metadata": {
        "colab": {
          "base_uri": "https://localhost:8080/"
        },
        "id": "VhwZNOzaZoMP",
        "outputId": "f31ab577-ec20-48c3-9ab0-072fbd7703cb"
      },
      "execution_count": null,
      "outputs": [
        {
          "output_type": "stream",
          "name": "stdout",
          "text": [
            "Enter your sugar level50\n",
            "low\n"
          ]
        }
      ]
    },
    {
      "cell_type": "markdown",
      "source": [
        "Exercise 9"
      ],
      "metadata": {
        "id": "WPzkJAFYLBQz"
      }
    },
    {
      "cell_type": "markdown",
      "source": [
        "After flipping a coin 10 times you got this result,\n",
        "result = [\"heads\",\"tails\",\"tails\",\"heads\",\"tails\",\"heads\",\"heads\",\"tails\",\"tails\",\"tails\"]\n",
        "Using for loop figure out how many times you got heads"
      ],
      "metadata": {
        "id": "aailVrBvLSMD"
      }
    },
    {
      "cell_type": "code",
      "source": [
        "result = [\"heads\",\"tails\",\"tails\",\"heads\",\"tails\",\"heads\",\"heads\",\"tails\",\"tails\",\"tails\"]\n",
        "count =0\n",
        "for item in result:\n",
        "  if item == 'heads':\n",
        "    count = count + 1\n",
        "print(count)"
      ],
      "metadata": {
        "colab": {
          "base_uri": "https://localhost:8080/"
        },
        "id": "8yteulqYbJgK",
        "outputId": "e3f80277-8373-4674-f372-9edd30b16938"
      },
      "execution_count": null,
      "outputs": [
        {
          "output_type": "stream",
          "name": "stdout",
          "text": [
            "4\n"
          ]
        }
      ]
    },
    {
      "cell_type": "markdown",
      "source": [
        "Print square of all numbers between 1 to 10 except even numbers"
      ],
      "metadata": {
        "id": "0axo286iLTPc"
      }
    },
    {
      "cell_type": "code",
      "source": [
        "for i in range(10):\n",
        "  if i%2 != 0:\n",
        "    print(i*i)\n"
      ],
      "metadata": {
        "colab": {
          "base_uri": "https://localhost:8080/"
        },
        "id": "imtwY8aSa_Qp",
        "outputId": "851ea042-863a-405b-ad53-1276d0e00e94"
      },
      "execution_count": null,
      "outputs": [
        {
          "output_type": "stream",
          "name": "stdout",
          "text": [
            "1\n",
            "9\n",
            "25\n",
            "49\n",
            "81\n"
          ]
        }
      ]
    },
    {
      "cell_type": "markdown",
      "source": [
        "Your monthly expense list (from Jan to May) looks like this,\n",
        "expense_list = [2340, 2500, 2100, 3100, 2980] Write a program that asks you to enter an expense amount and program should tell you in which month that expense occurred. If expense is not found then it should print that as well."
      ],
      "metadata": {
        "id": "lJKf68dGLVED"
      }
    },
    {
      "cell_type": "code",
      "source": [
        "months = ['Jan','Feb','March','April','may']\n",
        "expense_list = [2340, 2500, 2100, 3100, 2980]\n",
        "user = input(\"enter expense amount :\")\n",
        "user = int(user)\n",
        "for i in range(len(expense_list)):\n",
        "  if user == expense_list[i]:\n",
        "    print(f'your expense amount {user} is for {months[i]} ')\n",
        "\n"
      ],
      "metadata": {
        "id": "LzTSSs4mb7tA",
        "colab": {
          "base_uri": "https://localhost:8080/"
        },
        "outputId": "40ef88b9-fdd5-4c8d-afd0-61de34ed7036"
      },
      "execution_count": null,
      "outputs": [
        {
          "output_type": "stream",
          "name": "stdout",
          "text": [
            "enter expense amount :2340\n",
            "your expense amount 2340 is for Jan \n"
          ]
        }
      ]
    },
    {
      "cell_type": "markdown",
      "source": [
        "Lets say you are running a 5 km race. Write a program that,\n",
        "\n",
        "Upon completing each 1 km asks you \"are you tired?\"\n",
        "If you reply \"yes\" then it should break and print \"you didn't finish the race\"\n",
        "If you reply \"no\" then it should continue and ask \"are you tired\" on every km\n",
        "If you finish all 5 km then it should print congratulations message"
      ],
      "metadata": {
        "id": "iQFtlzq6LncC"
      }
    },
    {
      "cell_type": "code",
      "source": [
        "for i in range(1,6):\n",
        "  print(f'you have completed {i}miles')\n",
        "\n",
        "  user = input(\"are you tired ?\")\n",
        "  if user == \"yes\":\n",
        "    print(\"you didnot finish the race\")\n",
        "    break\n",
        "  elif user == \"no\":\n",
        "    continue\n",
        "if i==5:\n",
        "  print(\"congo\")"
      ],
      "metadata": {
        "colab": {
          "base_uri": "https://localhost:8080/"
        },
        "id": "O9yMvP64-Oon",
        "outputId": "85be42cd-6aad-4c3c-e670-a05e9941d61f"
      },
      "execution_count": null,
      "outputs": [
        {
          "output_type": "stream",
          "name": "stdout",
          "text": [
            "you have completed 1miles\n",
            "are you tired ?no\n",
            "you have completed 2miles\n",
            "are you tired ?no\n",
            "you have completed 3miles\n",
            "are you tired ?no\n",
            "you have completed 4miles\n",
            "are you tired ?o\n",
            "you have completed 5miles\n",
            "are you tired ?no\n",
            "congo\n"
          ]
        }
      ]
    },
    {
      "cell_type": "markdown",
      "source": [
        "![image.png](data:image/png;base64,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)\n",
        "\n"
      ],
      "metadata": {
        "id": "9yZqz_gzLuFy"
      }
    },
    {
      "cell_type": "code",
      "source": [
        "for i in range(5):\n",
        "  s = ''\n",
        "  for j in range(i):\n",
        "    s+='*'\n",
        "  print(s)\n",
        ""
      ],
      "metadata": {
        "colab": {
          "base_uri": "https://localhost:8080/"
        },
        "id": "0sOQaL8yHntl",
        "outputId": "52a27e9c-615b-4a40-fdae-eeff08cad969"
      },
      "execution_count": 4,
      "outputs": [
        {
          "output_type": "stream",
          "name": "stdout",
          "text": [
            "\n",
            "*\n",
            "**\n",
            "***\n",
            "****\n"
          ]
        }
      ]
    },
    {
      "cell_type": "markdown",
      "source": [
        "Exercise 10"
      ],
      "metadata": {
        "id": "dr7xjJAKMQ9a"
      }
    },
    {
      "cell_type": "markdown",
      "source": [
        "Write a function called calculate_area that takes base and height as an input and returns and area of a triangle. Equation of an area of a triangle is,\n",
        "area = (1/2)*base*height"
      ],
      "metadata": {
        "id": "vkPFcHC5MT5z"
      }
    },
    {
      "cell_type": "code",
      "source": [
        "base = int(input(\"Enter the base :\"))\n",
        "height = int(input(\"Enter the height :\"))\n",
        "def area(base,height):\n",
        "  area = (0.5*base*height)\n",
        "  print(f'Area :{area}')\n",
        "area(base,height)"
      ],
      "metadata": {
        "colab": {
          "base_uri": "https://localhost:8080/"
        },
        "id": "G6SZz9quIocc",
        "outputId": "8b35222c-331d-4ef3-e49e-3114bc1526ac"
      },
      "execution_count": 10,
      "outputs": [
        {
          "output_type": "stream",
          "name": "stdout",
          "text": [
            "Enter the base :5\n",
            "Enter the height :6\n",
            "Area :15.0\n"
          ]
        }
      ]
    },
    {
      "cell_type": "markdown",
      "source": [
        "Modify above function to take third parameter shape type. It can be either \"triangle\" or \"rectangle\". Based on shape type it will calculate area. Equation of rectangle's area is,\n",
        "rectangle area=length*width\n",
        "If no shape is supplied then it should take triangle as a default shape"
      ],
      "metadata": {
        "id": "HyAtZQ18MV7a"
      }
    },
    {
      "cell_type": "code",
      "source": [
        "shape_type = input(\"What type of shape\")\n",
        "base_value = float(input(\"Enter the base:\"))\n",
        "def calculate_area(shape, base, height=None, length=None, width=None):\n",
        "    if shape == \"triangle\":\n",
        "        area = 0.5 * base * height\n",
        "        print(f'Triangle Area: {area}')\n",
        "    elif shape == \"rectangle\":\n",
        "        area = length * width\n",
        "        print(f'Rectangle Area: {area}')\n",
        "    else:\n",
        "        print(\"Invalid shape. Defaulting to triangle.\")\n",
        "        area = 0.5 * base * height\n",
        "        print(f'Triangle Area (Default): {area}')\n",
        "if shape_type == \"triangle\":\n",
        "    height_value = float(input(\"Enter the height: \"))\n",
        "    calculate_area(shape_type, base=base_value, height=height_value)\n",
        "elif shape_type == \"rectangle\":\n",
        "    length_value = float(input(\"Enter the length: \"))\n",
        "    width_value = float(input(\"Enter the width: \"))\n",
        "    calculate_area(shape_type, base=base_value, length=length_value, width=width_value)\n",
        "else:\n",
        "    calculate_area(shape_type, base=base_value)\n"
      ],
      "metadata": {
        "colab": {
          "base_uri": "https://localhost:8080/"
        },
        "id": "iR4v8Er0K4rc",
        "outputId": "d60d0abd-d202-436f-d453-f7c7ec4259ac"
      },
      "execution_count": 12,
      "outputs": [
        {
          "output_type": "stream",
          "name": "stdout",
          "text": [
            "What type of shapetriangle\n",
            "Enter the base:5\n",
            "Enter the height: 1\n",
            "Triangle Area: 2.5\n"
          ]
        }
      ]
    },
    {
      "cell_type": "markdown",
      "source": [
        "![image.png](data:image/png;base64,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)"
      ],
      "metadata": {
        "id": "UQfwcsFhOOdp"
      }
    },
    {
      "cell_type": "code",
      "source": [
        "user = int(input(\"Enter the number: \"))\n",
        "def pattern(user):\n",
        "\n",
        "  for i in range(user):\n",
        "    s = ''\n",
        "    for j in range(i+1):\n",
        "      s+='*'\n",
        "    print(s)\n",
        "pattern(user)"
      ],
      "metadata": {
        "colab": {
          "base_uri": "https://localhost:8080/"
        },
        "id": "eNDSgOxRM1NJ",
        "outputId": "edb4428e-9b5c-4b12-964f-2fbb85b89b79"
      },
      "execution_count": 20,
      "outputs": [
        {
          "output_type": "stream",
          "name": "stdout",
          "text": [
            "Enter the number: 6\n",
            "*\n",
            "**\n",
            "***\n",
            "****\n",
            "*****\n",
            "******\n"
          ]
        }
      ]
    },
    {
      "cell_type": "code",
      "source": [],
      "metadata": {
        "id": "zHJ5u9IANegG"
      },
      "execution_count": null,
      "outputs": []
    }
  ]
}