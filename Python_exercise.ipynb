{
  "nbformat": 4,
  "nbformat_minor": 0,
  "metadata": {
    "colab": {
      "provenance": [],
      "authorship_tag": "ABX9TyOJlX7lS0M7MpqeRr/i2chp",
      "include_colab_link": true
    },
    "kernelspec": {
      "name": "python3",
      "display_name": "Python 3"
    },
    "language_info": {
      "name": "python"
    }
  },
  "cells": [
    {
      "cell_type": "markdown",
      "metadata": {
        "id": "view-in-github",
        "colab_type": "text"
      },
      "source": [
        "<a href=\"https://colab.research.google.com/github/mahnamnasir/python/blob/main/Python_exercise.ipynb\" target=\"_parent\"><img src=\"https://colab.research.google.com/assets/colab-badge.svg\" alt=\"Open In Colab\"/></a>"
      ]
    },
    {
      "cell_type": "markdown",
      "source": [
        "Exercise 2"
      ],
      "metadata": {
        "id": "dgKSCeg3snbh"
      }
    },
    {
      "cell_type": "markdown",
      "metadata": {
        "id": "wIEstxrmsaf0"
      },
      "source": [
        "**1. Create a variable called break and assign it a value 5. See what happens and find out the reason behind the behavior that you see**"
      ]
    },
    {
      "cell_type": "code",
      "source": [
        "break = 5"
      ],
      "metadata": {
        "colab": {
          "base_uri": "https://localhost:8080/",
          "height": 140
        },
        "id": "tvtdgMkes-NQ",
        "outputId": "8cf7be1c-09d2-443e-c9e2-5210b42e64f6"
      },
      "execution_count": null,
      "outputs": [
        {
          "output_type": "error",
          "ename": "SyntaxError",
          "evalue": "ignored",
          "traceback": [
            "\u001b[0;36m  File \u001b[0;32m\"<ipython-input-1-00bd2e73219f>\"\u001b[0;36m, line \u001b[0;32m1\u001b[0m\n\u001b[0;31m    break = 5\u001b[0m\n\u001b[0m          ^\u001b[0m\n\u001b[0;31mSyntaxError\u001b[0m\u001b[0;31m:\u001b[0m invalid syntax\n"
          ]
        }
      ]
    },
    {
      "cell_type": "markdown",
      "metadata": {
        "id": "9cO-lCaIsaf3"
      },
      "source": [
        "**2. Create two variables. One to store your birth year and another one to store current year. Now calculate your age using these two variables**"
      ]
    },
    {
      "cell_type": "code",
      "source": [
        "birth_year = 2001\n",
        "current_year = 2023\n",
        "print(current_year-birth_year)\n"
      ],
      "metadata": {
        "colab": {
          "base_uri": "https://localhost:8080/"
        },
        "id": "UY3h-NkntHDx",
        "outputId": "4337a74b-961d-4877-ee2c-4d014954d2bb"
      },
      "execution_count": null,
      "outputs": [
        {
          "output_type": "stream",
          "name": "stdout",
          "text": [
            "22\n"
          ]
        }
      ]
    },
    {
      "cell_type": "markdown",
      "metadata": {
        "id": "_LcU8idisaf4"
      },
      "source": [
        "**3. Store your first, middle and last name in three different variables and then print your full name using these variables**"
      ]
    },
    {
      "cell_type": "code",
      "source": [
        "f_name = \"Mahnam\"\n",
        "s_name = \"Nasir\"\n",
        "l_name = \"Naeem\"\n",
        "print(\" \"+f_name+\" \"+s_name+\" \"+l_name)"
      ],
      "metadata": {
        "colab": {
          "base_uri": "https://localhost:8080/"
        },
        "id": "ADMHuhPXtZmw",
        "outputId": "08df7411-1943-47af-ea8b-c4c34208d20f"
      },
      "execution_count": null,
      "outputs": [
        {
          "output_type": "stream",
          "name": "stdout",
          "text": [
            " Mahnam Nasir Naeem\n"
          ]
        }
      ]
    },
    {
      "cell_type": "markdown",
      "metadata": {
        "id": "L2jBun04saf4"
      },
      "source": [
        "**4. Answer which of these are invalid variable names: \"\\_nation, 1record, record1, record\\_one, record-one, record^one, continue\"**"
      ]
    },
    {
      "cell_type": "code",
      "source": [
        "1record, record-one, record^one, continue"
      ],
      "metadata": {
        "id": "bVfwSqDYt0yZ"
      },
      "execution_count": null,
      "outputs": []
    },
    {
      "cell_type": "markdown",
      "source": [
        "Exercise 3"
      ],
      "metadata": {
        "id": "Dc5eJvatIyOs"
      }
    },
    {
      "cell_type": "markdown",
      "source": [
        "**You have a football field that is 92 meter long and 48.8 meter wide. Find out total area using python and print it.**"
      ],
      "metadata": {
        "id": "RwulVZjguvC4"
      }
    },
    {
      "cell_type": "code",
      "source": [
        "length= 92\n",
        "width = 48.8\n",
        "print(length*width)"
      ],
      "metadata": {
        "colab": {
          "base_uri": "https://localhost:8080/"
        },
        "id": "eMc6KP9wvMvg",
        "outputId": "9cd1b442-c453-4cc1-98ff-694928ef8420"
      },
      "execution_count": null,
      "outputs": [
        {
          "output_type": "stream",
          "name": "stdout",
          "text": [
            "4489.599999999999\n"
          ]
        }
      ]
    },
    {
      "cell_type": "markdown",
      "source": [
        "**You bought 9 packets of potato chips from a store. Each packet costs 1.49 dollar and you gave shopkeeper 20 dollar. Find out using python, how many dollars is the shopkeeper going to give you back?**"
      ],
      "metadata": {
        "id": "AQF5qGvluzNY"
      }
    },
    {
      "cell_type": "code",
      "source": [
        "num_of_packet = 9\n",
        "cost = 1.49\n",
        "money= 20\n",
        "print(20-(9*1.49))\n"
      ],
      "metadata": {
        "colab": {
          "base_uri": "https://localhost:8080/"
        },
        "id": "xMaGT93EvWAQ",
        "outputId": "cfbbaceb-2aea-4b74-e322-4c612a6833b8"
      },
      "execution_count": null,
      "outputs": [
        {
          "output_type": "stream",
          "name": "stdout",
          "text": [
            "6.59\n"
          ]
        }
      ]
    },
    {
      "cell_type": "markdown",
      "source": [
        "**You want to replace tiles in your bathroom which is exactly square and 5.5 feet is its length. If tiles cost 500 rs per square feet, how much will be the total cost to replace all tiles. Calculate and print the cost using python (Hint: Use power operator ** to find area of a square)**"
      ],
      "metadata": {
        "id": "GEDjcTgRvDaI"
      }
    },
    {
      "cell_type": "code",
      "source": [
        "length = 5.5\n",
        "area = 5.5**2\n",
        "print(area*500)"
      ],
      "metadata": {
        "colab": {
          "base_uri": "https://localhost:8080/"
        },
        "id": "VGt9k_i6vu5R",
        "outputId": "c32990db-2268-4c87-b508-fa79be6147cd"
      },
      "execution_count": null,
      "outputs": [
        {
          "output_type": "stream",
          "name": "stdout",
          "text": [
            "15125.0\n"
          ]
        }
      ]
    },
    {
      "cell_type": "markdown",
      "source": [
        "**Print binary representation of number 17**"
      ],
      "metadata": {
        "id": "Ugf517XCvHmY"
      }
    },
    {
      "cell_type": "code",
      "source": [
        "num = 17\n",
        "print('Binary of number 17 is:',format(num,'b'))"
      ],
      "metadata": {
        "colab": {
          "base_uri": "https://localhost:8080/"
        },
        "id": "seDwn0CcwdDQ",
        "outputId": "267928ec-a3f4-4816-f14d-5e07a0925a96"
      },
      "execution_count": null,
      "outputs": [
        {
          "output_type": "stream",
          "name": "stdout",
          "text": [
            "Binary of number 17 is: 10001\n"
          ]
        }
      ]
    },
    {
      "cell_type": "markdown",
      "source": [
        "Exercise 4"
      ],
      "metadata": {
        "id": "8CfIg1qQI1jb"
      }
    },
    {
      "cell_type": "markdown",
      "source": [
        "**Create 3 variables to store street, city and country, now create address variable to store entire address. Use two ways of creating this variable, one using + operator and the other using f-string. Now Print the address in such a way that the street, city and country prints in a separate line**"
      ],
      "metadata": {
        "id": "bxstAl2iJCW7"
      }
    },
    {
      "cell_type": "code",
      "source": [
        "street = \"st 16\"\n",
        "city = \"rwp\"\n",
        "country = \"Pakistan\"\n",
        "address = street+\"\\n\"+city+\"\\n\"+country\n",
        "print(address)\n",
        "address2 =f\"{street}\\n{city}\\n{country}\"\n",
        "print(address2)"
      ],
      "metadata": {
        "colab": {
          "base_uri": "https://localhost:8080/"
        },
        "id": "xuYtVEd8OynK",
        "outputId": "4fee6e27-ac76-4851-93d9-37458c627aa4"
      },
      "execution_count": null,
      "outputs": [
        {
          "output_type": "stream",
          "name": "stdout",
          "text": [
            "st 16\n",
            "rwp\n",
            "Pakistan\n",
            "st 16\n",
            "rwp\n",
            "Pakistan\n"
          ]
        }
      ]
    },
    {
      "cell_type": "markdown",
      "source": [
        "**Create a variable to store the string \"Earth revolves around the sun\"\n",
        "Print \"revolves\" using slice operator\n",
        "Print \"sun\" using negative index**"
      ],
      "metadata": {
        "id": "za90j-knJJQS"
      }
    },
    {
      "cell_type": "code",
      "source": [
        "var = \"Earth revolves around the sun\"\n",
        "print(var[6:13])\n",
        "print(var[-3:])"
      ],
      "metadata": {
        "colab": {
          "base_uri": "https://localhost:8080/"
        },
        "id": "aGDRNZPQQhKL",
        "outputId": "71f22e7f-a7f4-49d8-a214-6e2b4be3c3f4"
      },
      "execution_count": null,
      "outputs": [
        {
          "output_type": "stream",
          "name": "stdout",
          "text": [
            "revolve\n",
            "sun\n"
          ]
        }
      ]
    },
    {
      "cell_type": "markdown",
      "source": [
        "**Create two variables to store how many fruits and vegetables you eat in a day. Now Print \"I eat x veggies and y fruits daily\" where x and y presents vegetables and fruits that you eat everyday. Use python f string for this. **"
      ],
      "metadata": {
        "id": "D2Wd1nG7JMm7"
      }
    },
    {
      "cell_type": "code",
      "source": [
        "fruits = (input())\n",
        "veg = (input())\n",
        "print(f\"i eat {veg} veggies and {fruits} fruits daily\")"
      ],
      "metadata": {
        "colab": {
          "base_uri": "https://localhost:8080/"
        },
        "id": "QKnC9IrhRlPq",
        "outputId": "a9ef000a-e252-47db-a60a-dee1673baa60"
      },
      "execution_count": null,
      "outputs": [
        {
          "output_type": "stream",
          "name": "stdout",
          "text": [
            "2\n",
            "3\n",
            "i eat 3 veggies and 2 fruits daily\n"
          ]
        }
      ]
    },
    {
      "cell_type": "markdown",
      "source": [
        "**I have a string variable called s='maine 200 banana khaye'. This of course is a wrong statement, the correct statement is 'maine 10 samosa khaye'. Replace incorrect words in original strong with new ones and print the new string. Also try to do this in one line.**"
      ],
      "metadata": {
        "id": "28FWakHFJRoD"
      }
    },
    {
      "cell_type": "code",
      "source": [
        "s='maine 200 banana khaye'\n",
        "s = s.replace('banana','samosa')\n",
        "s=s.replace('200','10')\n",
        "print(s)"
      ],
      "metadata": {
        "colab": {
          "base_uri": "https://localhost:8080/"
        },
        "id": "kc_NQXm_SCxy",
        "outputId": "7e23e86a-9c7f-459c-bb14-dbb37f725f00"
      },
      "execution_count": null,
      "outputs": [
        {
          "output_type": "stream",
          "name": "stdout",
          "text": [
            "maine 10 samosa khaye\n"
          ]
        }
      ]
    },
    {
      "cell_type": "markdown",
      "source": [
        "Exercise 5"
      ],
      "metadata": {
        "id": "QtMRBkVzJaOt"
      }
    },
    {
      "cell_type": "markdown",
      "source": [
        "**Let us say your expense for every month are listed below,\n",
        "January - 2200\n",
        "February - 2350\n",
        "March - 2600\n",
        "April - 2130\n",
        "May - 2190\n",
        "Create a list to store these monthly expenses and using that find out,**"
      ],
      "metadata": {
        "id": "4p-5Lsa2JeeF"
      }
    },
    {
      "cell_type": "markdown",
      "source": [
        "1. In Feb, how many dollars you spent extra compare to January?\n",
        "2. Find out your total expense in first quarter (first three months) of the year.\n",
        "3. Find out if you spent exactly 2000 dollars in any month\n",
        "4. June month just finished and your expense is 1980 dollar. Add this item to our monthly expense list\n",
        "5. You returned an item that you bought in a month of April and\n",
        "got a refund of 200$. Make a correction to your monthly expense list\n",
        "based on this"
      ],
      "metadata": {
        "id": "3NmCc70tJjv9"
      }
    },
    {
      "cell_type": "code",
      "source": [
        "expense = [2200,2350,2600,2130,2190]\n",
        "extra = expense[1]-expense[0]\n",
        "print(extra)\n",
        "tot_exp = expense[0]+expense[1]+expense[2]\n",
        "print(tot_exp)\n",
        "print(2000 in expense)\n",
        "expense.append(1980)\n",
        "print(expense)\n",
        "expense[3]=expense[3]-200\n",
        "print(expense[3])"
      ],
      "metadata": {
        "colab": {
          "base_uri": "https://localhost:8080/"
        },
        "id": "84229TKdSqYZ",
        "outputId": "17f7189b-e2f2-4eb8-91bf-d554e360a131"
      },
      "execution_count": null,
      "outputs": [
        {
          "output_type": "stream",
          "name": "stdout",
          "text": [
            "150\n",
            "7150\n",
            "False\n",
            "[2200, 2350, 2600, 2130, 2190, 1980]\n",
            "1930\n"
          ]
        }
      ]
    },
    {
      "cell_type": "markdown",
      "source": [
        "**You have a list of your favourite marvel super heros.\n",
        "heros=['spider man','thor','hulk','iron man','captain america']**"
      ],
      "metadata": {
        "id": "35uwDzqjJrtK"
      }
    },
    {
      "cell_type": "markdown",
      "source": [
        "1. Length of the list\n",
        "2. Add 'black panther' at the end of this list\n",
        "3. You realize that you need to add 'black panther' after 'hulk',\n",
        "   so remove it from the list first and then add it after 'hulk'\n",
        "4. Now you don't like thor and hulk because they get angry easily :)\n",
        "   So you want to remove thor and hulk from list and replace them with doctor strange (because he is cool).\n",
        "   Do that with one line of code.\n",
        "5. Sort the heros list in alphabetical order (Hint. Use dir() functions to list down all functions available in list)\n"
      ],
      "metadata": {
        "id": "4XKE5aE0JuvK"
      }
    },
    {
      "cell_type": "code",
      "source": [
        "heros=['spider man','thor','hulk','iron man','captain america']\n",
        "print(len(heros))\n",
        "heros.append('Black Panther')\n",
        "print(heros)\n",
        "heros.remove('Black Panther')\n",
        "heros.insert(3,\"Black Panther\")\n",
        "print(heros)\n",
        "heros[1:3]=[\"Doctor Strange\"]\n",
        "print(heros)\n",
        "heros.sort()\n",
        "print(heros)"
      ],
      "metadata": {
        "colab": {
          "base_uri": "https://localhost:8080/"
        },
        "id": "_dvH9kPQV_bo",
        "outputId": "6426206e-7ab0-49d2-c2b1-99a6ebc141fd"
      },
      "execution_count": null,
      "outputs": [
        {
          "output_type": "stream",
          "name": "stdout",
          "text": [
            "5\n",
            "['spider man', 'thor', 'hulk', 'iron man', 'captain america', 'Black Panther']\n",
            "['spider man', 'thor', 'hulk', 'Black Panther', 'iron man', 'captain america']\n",
            "['spider man', 'Doctor Strange', 'Black Panther', 'iron man', 'captain america']\n",
            "['Black Panther', 'Doctor Strange', 'captain america', 'iron man', 'spider man']\n"
          ]
        }
      ]
    },
    {
      "cell_type": "markdown",
      "source": [
        "Exercise 8"
      ],
      "metadata": {
        "id": "ySqD1AYSJz71"
      }
    },
    {
      "cell_type": "markdown",
      "source": [
        "Using following list of cities per country,\n",
        "india = [\"mumbai\", \"banglore\", \"chennai\", \"delhi\"]\n",
        "pakistan = [\"lahore\",\"karachi\",\"islamabad\"]\n",
        "bangladesh = [\"dhaka\", \"khulna\", \"rangpur\"]\n",
        "Write a program that asks user to enter a city name and it should tell which country the city belongs to\n",
        "Write a program that asks user to enter two cities and it tells you if they both are in same country or not. For example if I enter mumbai and chennai, it will print \"Both cities are in India\" but if I enter mumbai and dhaka it should print \"They don't belong to same country\""
      ],
      "metadata": {
        "id": "52TiKtZDK5qy"
      }
    },
    {
      "cell_type": "code",
      "source": [
        "india = [\"mumbai\", \"banglore\", \"chennai\", \"delhi\"]\n",
        "pakistan = [\"lahore\",\"karachi\",\"islamabad\"]\n",
        "bangladesh = [\"dhaka\", \"khulna\", \"rangpur\"]\n",
        "user = input()\n",
        "if user in india:\n",
        "  print(f'{city}in india')\n",
        "elif user in pakistan:\n",
        "  print(f'{city in pakistan}')\n",
        "elif user in bangladesh:\n",
        "  print(f'{city in pakistan}')\n"
      ],
      "metadata": {
        "colab": {
          "base_uri": "https://localhost:8080/"
        },
        "id": "HyfwmdnCXPpv",
        "outputId": "e0a81a84-a789-4f08-e2aa-45f4c9ec74c7"
      },
      "execution_count": null,
      "outputs": [
        {
          "output_type": "stream",
          "name": "stdout",
          "text": [
            "mumbai\n",
            "rwpin india\n"
          ]
        }
      ]
    },
    {
      "cell_type": "code",
      "source": [
        "india = [\"mumbai\", \"banglore\", \"chennai\", \"delhi\"]\n",
        "pakistan = [\"lahore\",\"karachi\",\"islamabad\"]\n",
        "bangladesh = [\"dhaka\", \"khulna\", \"rangpur\"]\n",
        "user = input()\n",
        "user2 = input()\n",
        "if user in india and user2 in india:\n",
        "  print('Both ciities in india')\n",
        "elif user in pakistan and user2 in pakistan:\n",
        "  print('Both cities in pakistan')\n",
        "elif user in bangladesh and user2 in bangladesh:\n",
        "  print('both cities in Bangladesh')"
      ],
      "metadata": {
        "colab": {
          "base_uri": "https://localhost:8080/"
        },
        "id": "tVnsSKlFY6wA",
        "outputId": "5c93cb26-c778-4caf-9ffd-3077788ae6ac"
      },
      "execution_count": null,
      "outputs": [
        {
          "output_type": "stream",
          "name": "stdout",
          "text": [
            "mumbai\n",
            "delhi\n",
            "Both ciities in india\n"
          ]
        }
      ]
    },
    {
      "cell_type": "markdown",
      "source": [
        "Write a python program that can tell you if your sugar is normal or not. Normal fasting level sugar range is 80 to 100.\n",
        "Ask user to enter his fasting sugar level\n",
        "If it is below 80 to 100 range then print that sugar is low\n",
        "If it is above 100 then print that it is high otherwise print that it is normal"
      ],
      "metadata": {
        "id": "XhjYyGP3K-_U"
      }
    },
    {
      "cell_type": "code",
      "source": [
        "user = input(\"Enter your sugar level\")\n",
        "user1= float(user)\n",
        "if user1<80:\n",
        "  print(\"low\")\n",
        "elif user1>100:\n",
        "  print(\"high\")\n",
        "else:\n",
        "  print(\"normal\")"
      ],
      "metadata": {
        "colab": {
          "base_uri": "https://localhost:8080/"
        },
        "id": "VhwZNOzaZoMP",
        "outputId": "f31ab577-ec20-48c3-9ab0-072fbd7703cb"
      },
      "execution_count": null,
      "outputs": [
        {
          "output_type": "stream",
          "name": "stdout",
          "text": [
            "Enter your sugar level50\n",
            "low\n"
          ]
        }
      ]
    },
    {
      "cell_type": "markdown",
      "source": [
        "Exercise 9"
      ],
      "metadata": {
        "id": "WPzkJAFYLBQz"
      }
    },
    {
      "cell_type": "markdown",
      "source": [
        "After flipping a coin 10 times you got this result,\n",
        "result = [\"heads\",\"tails\",\"tails\",\"heads\",\"tails\",\"heads\",\"heads\",\"tails\",\"tails\",\"tails\"]\n",
        "Using for loop figure out how many times you got heads"
      ],
      "metadata": {
        "id": "aailVrBvLSMD"
      }
    },
    {
      "cell_type": "code",
      "source": [
        "result = [\"heads\",\"tails\",\"tails\",\"heads\",\"tails\",\"heads\",\"heads\",\"tails\",\"tails\",\"tails\"]\n",
        "count =0\n",
        "for item in result:\n",
        "  if item == 'heads':\n",
        "    count = count + 1\n",
        "print(count)"
      ],
      "metadata": {
        "colab": {
          "base_uri": "https://localhost:8080/"
        },
        "id": "8yteulqYbJgK",
        "outputId": "e3f80277-8373-4674-f372-9edd30b16938"
      },
      "execution_count": null,
      "outputs": [
        {
          "output_type": "stream",
          "name": "stdout",
          "text": [
            "4\n"
          ]
        }
      ]
    },
    {
      "cell_type": "markdown",
      "source": [
        "Print square of all numbers between 1 to 10 except even numbers"
      ],
      "metadata": {
        "id": "0axo286iLTPc"
      }
    },
    {
      "cell_type": "code",
      "source": [
        "for i in range(10):\n",
        "  if i%2 != 0:\n",
        "    print(i*i)\n"
      ],
      "metadata": {
        "colab": {
          "base_uri": "https://localhost:8080/"
        },
        "id": "imtwY8aSa_Qp",
        "outputId": "851ea042-863a-405b-ad53-1276d0e00e94"
      },
      "execution_count": null,
      "outputs": [
        {
          "output_type": "stream",
          "name": "stdout",
          "text": [
            "1\n",
            "9\n",
            "25\n",
            "49\n",
            "81\n"
          ]
        }
      ]
    },
    {
      "cell_type": "markdown",
      "source": [
        "Your monthly expense list (from Jan to May) looks like this,\n",
        "expense_list = [2340, 2500, 2100, 3100, 2980] Write a program that asks you to enter an expense amount and program should tell you in which month that expense occurred. If expense is not found then it should print that as well."
      ],
      "metadata": {
        "id": "lJKf68dGLVED"
      }
    },
    {
      "cell_type": "code",
      "source": [
        "months = ['Jan','Feb','March','April','may']\n",
        "expense_list = [2340, 2500, 2100, 3100, 2980]\n",
        "user = input(\"enter expense amount :\")\n",
        "user = int(user)\n",
        "for i in range(len(expense_list)):\n",
        "  if user == expense_list[i]:\n",
        "    print(f'your expense amount {user} is for {months[i]} ')\n",
        "\n"
      ],
      "metadata": {
        "id": "LzTSSs4mb7tA",
        "colab": {
          "base_uri": "https://localhost:8080/"
        },
        "outputId": "40ef88b9-fdd5-4c8d-afd0-61de34ed7036"
      },
      "execution_count": null,
      "outputs": [
        {
          "output_type": "stream",
          "name": "stdout",
          "text": [
            "enter expense amount :2340\n",
            "your expense amount 2340 is for Jan \n"
          ]
        }
      ]
    },
    {
      "cell_type": "markdown",
      "source": [
        "Lets say you are running a 5 km race. Write a program that,\n",
        "\n",
        "Upon completing each 1 km asks you \"are you tired?\"\n",
        "If you reply \"yes\" then it should break and print \"you didn't finish the race\"\n",
        "If you reply \"no\" then it should continue and ask \"are you tired\" on every km\n",
        "If you finish all 5 km then it should print congratulations message"
      ],
      "metadata": {
        "id": "iQFtlzq6LncC"
      }
    },
    {
      "cell_type": "code",
      "source": [
        "for i in range(1,6):\n",
        "  print(f'you have completed {i}miles')\n",
        "\n",
        "  user = input(\"are you tired ?\")\n",
        "  if user == \"yes\":\n",
        "    print(\"you didnot finish the race\")\n",
        "    break\n",
        "  elif user == \"no\":\n",
        "    continue\n",
        "if i==5:\n",
        "  print(\"congo\")"
      ],
      "metadata": {
        "colab": {
          "base_uri": "https://localhost:8080/"
        },
        "id": "O9yMvP64-Oon",
        "outputId": "85be42cd-6aad-4c3c-e670-a05e9941d61f"
      },
      "execution_count": null,
      "outputs": [
        {
          "output_type": "stream",
          "name": "stdout",
          "text": [
            "you have completed 1miles\n",
            "are you tired ?no\n",
            "you have completed 2miles\n",
            "are you tired ?no\n",
            "you have completed 3miles\n",
            "are you tired ?no\n",
            "you have completed 4miles\n",
            "are you tired ?o\n",
            "you have completed 5miles\n",
            "are you tired ?no\n",
            "congo\n"
          ]
        }
      ]
    },
    {
      "cell_type": "markdown",
      "source": [
        "![image.png](data:image/png;base64,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)\n",
        "\n"
      ],
      "metadata": {
        "id": "9yZqz_gzLuFy"
      }
    },
    {
      "cell_type": "code",
      "source": [
        "for i in range(5):\n",
        "  s = ''\n",
        "  for j in range(i):\n",
        "    s+='*'\n",
        "  print(s)\n"
      ],
      "metadata": {
        "colab": {
          "base_uri": "https://localhost:8080/"
        },
        "id": "0sOQaL8yHntl",
        "outputId": "52a27e9c-615b-4a40-fdae-eeff08cad969"
      },
      "execution_count": null,
      "outputs": [
        {
          "output_type": "stream",
          "name": "stdout",
          "text": [
            "\n",
            "*\n",
            "**\n",
            "***\n",
            "****\n"
          ]
        }
      ]
    },
    {
      "cell_type": "markdown",
      "source": [
        "Exercise 10"
      ],
      "metadata": {
        "id": "dr7xjJAKMQ9a"
      }
    },
    {
      "cell_type": "markdown",
      "source": [
        "Write a function called calculate_area that takes base and height as an input and returns and area of a triangle. Equation of an area of a triangle is,\n",
        "area = (1/2)*base*height"
      ],
      "metadata": {
        "id": "vkPFcHC5MT5z"
      }
    },
    {
      "cell_type": "code",
      "source": [
        "base = int(input(\"Enter the base :\"))\n",
        "height = int(input(\"Enter the height :\"))\n",
        "def area(base,height):\n",
        "  area = (0.5*base*height)\n",
        "  print(f'Area :{area}')\n",
        "area(base,height)"
      ],
      "metadata": {
        "colab": {
          "base_uri": "https://localhost:8080/"
        },
        "id": "G6SZz9quIocc",
        "outputId": "8b35222c-331d-4ef3-e49e-3114bc1526ac"
      },
      "execution_count": null,
      "outputs": [
        {
          "output_type": "stream",
          "name": "stdout",
          "text": [
            "Enter the base :5\n",
            "Enter the height :6\n",
            "Area :15.0\n"
          ]
        }
      ]
    },
    {
      "cell_type": "markdown",
      "source": [
        "Modify above function to take third parameter shape type. It can be either \"triangle\" or \"rectangle\". Based on shape type it will calculate area. Equation of rectangle's area is,\n",
        "rectangle area=length*width\n",
        "If no shape is supplied then it should take triangle as a default shape"
      ],
      "metadata": {
        "id": "HyAtZQ18MV7a"
      }
    },
    {
      "cell_type": "code",
      "source": [
        "shape_type = input(\"What type of shape\")\n",
        "base_value = float(input(\"Enter the base:\"))\n",
        "def calculate_area(shape, base, height=None, length=None, width=None):\n",
        "    if shape == \"triangle\":\n",
        "        area = 0.5 * base * height\n",
        "        print(f'Triangle Area: {area}')\n",
        "    elif shape == \"rectangle\":\n",
        "        area = length * width\n",
        "        print(f'Rectangle Area: {area}')\n",
        "    else:\n",
        "        print(\"Invalid shape. Defaulting to triangle.\")\n",
        "        area = 0.5 * base * height\n",
        "        print(f'Triangle Area (Default): {area}')\n",
        "if shape_type == \"triangle\":\n",
        "    height_value = float(input(\"Enter the height: \"))\n",
        "    calculate_area(shape_type, base=base_value, height=height_value)\n",
        "elif shape_type == \"rectangle\":\n",
        "    length_value = float(input(\"Enter the length: \"))\n",
        "    width_value = float(input(\"Enter the width: \"))\n",
        "    calculate_area(shape_type, base=base_value, length=length_value, width=width_value)\n",
        "else:\n",
        "    calculate_area(shape_type, base=base_value)\n"
      ],
      "metadata": {
        "colab": {
          "base_uri": "https://localhost:8080/"
        },
        "id": "iR4v8Er0K4rc",
        "outputId": "d60d0abd-d202-436f-d453-f7c7ec4259ac"
      },
      "execution_count": null,
      "outputs": [
        {
          "output_type": "stream",
          "name": "stdout",
          "text": [
            "What type of shapetriangle\n",
            "Enter the base:5\n",
            "Enter the height: 1\n",
            "Triangle Area: 2.5\n"
          ]
        }
      ]
    },
    {
      "cell_type": "markdown",
      "source": [
        "![image.png](data:image/png;base64,iVBORw0KGgoAAAANSUhEUgAAApEAAAGwCAYAAADxMz7FAAAAAXNSR0IArs4c6QAAAARnQU1BAACxjwv8YQUAAAAJcEhZcwAADsMAAA7DAcdvqGQAAEJvSURBVHhe7d1fiBVXvujxXy4Mw7zdGWzig02MW0ISQkZEOYO0NolEWhgIY+TG5g6IBv8xMj7oUQ+28y8tt9vRBxOHGCWRIXNp56bTjDDQjSGGVpGco+n0BEPAY5/jRWFMujn3cRjmoe9aq1btverPrqq1//Teu/1+YNO79q5dVetPVf1qrVXVT8wrAgAAAHj4b/YvAAAAUBhBJAAAALwRRAIAAMAbQSQAAAC8EUQCAADAG0EkAAAAvDUwiJyTy288J8tXqtfwtP2sDdw+qbbppEzZybby6CPZq/Lr7G073anieWym98jlR3a6RlPDtdSloB7uHZ2z0wuoCeVZWx7UyGx/Xrk1K39bWG5aC/fFBS3jBVNreTbhPNLwc0CL6yrQRmoKImdH98jyNz6SWTutTQ2vlwPPjMj9e1/L/SOr7KcAABTDeQToLA1qiZyTB3dF+krL7DQKWfqanFMHy/1r7PRiseawOgm8K68utdNNMy1n26klN1Gej2uLRbuUi0f+L9Z9saMs1HmkzY4bQAdjTCQAAAC81R9EmrFE6+XApMjE0fVmLEv6FV6lVcCMAdJjXvQr1i2ume7y8Hv9KjA2JrJM9Upsgx3zVO37zN+Xx4o543X0K2W7osvJGV+WMgYtNx0uM9bHmT/cHv15Il9jV98F02S2R38WWVdOulLGIMXLNJmuYPvK8+SVuVlHv5xSb09tS19mJC9T6llWWYXpjm53zrgqtzzN++h+Ub1FLFYGKfmbux3xuhBPb5E6kcako7LcvaMP7RdVZJRLvA7ktRCG5eNuX1aZRVTN//A4NF3Oc7N8t+ys6Lpi+VSeP1pvk2lK1uuwbmUpnE4rN2/j9SNr/bEyT9t3EgrWk6rpSimvML+zysGkO56WlLIsK3DcKCuQD5Fti3+f8/tyPYiUTdp2x+pQkfIAFor+39m+vv1w9/xTO0fnv7XT8/Oz83/a+ez8ng9n7XSaYJ6nSs/Ov33LfjT/xfzbatr93edDep7h+c/tdPl3kfVFJbbn1nBlHeq9Xqf7vZnfXcdfR+ffdrfd/Gb3/J/+aqfV93v0MtzP7LY/NfSFnbbb7kwnlhNnllv5PjMdcbHfmu0J163Xm8ivYHvLy/NJU+yzIP+c35l0OvkZm06ky647qx4E64jlZ0IsTYZHPcsoqzDdld/Y5WZtT6JMiuwXyW359sNhr+1IlIcS/C5WJoXqhLOcRDmlbU+atHJRn7l5l1h2NK+CNLnHgWQ+xcssKS3/bf7Ff5eS9mLHhHi9d5ebrHdp9TqeLv905uRtPG3x+WM+H3LzPVnfEuLrU9LqSX66UsorpxxMfsa3LZ5e8xs3TWn1My4+j9q2oXD/CeuQ+32yrPPyMcwj97PkvpzcVvO7xL4MtMbCd2fvGnHGHa2S14c2yMT4ZHBlpa7czl/YIGduHJbV5nttibx6YlD6Jq/IzSpX4w9mrok8U5IuO63H5EXHNqllnnit/H3X1n1ySC7KzfAKdOlrsn/rEjuhrNmkvr8mD2IX04cuueP8Vsn+SztELlwJWoXMtu+QMXcw+Jqdcqb3mozfyG5xCeWnw/FwRiakJN3u9tQwED0zTaHeQbnlLLtr6wmPdE3LH49KJP91fu/eJXLqk6AFYXb0HTml1vGmUwZdW9+VMTVPzXLrWYGyimyTqof7UvKmbslxYF1bD0fHk2Zuh87fa7FyFFl9ZCRax2sw9fsBmYjko17udZVPdsJLrH4u7ZXNajl37ifrkG5dWqvrjHscaMD+FbFrX/aY3cLHBGcbY9tTU72uKZ05eet5rFh9JHr8Xbd5g8jdmaqtX4XqSa3lV7AcGu7RjNxR543u8m6p9rsjzjFMyzrGKIXyMefYaupQPG+3Z58PgYW04EFk5qBpfbDr3STr4gd3c1CsfuAwO9WF/ipdAZp7AK1CHeQqXQ9Bd0eUe0CxlpWkT2bkgV6nOVBflC1ut4PtnikqPx0OcwAO1pfXLVhdTppCbmBrLJHuZ0QmZgocyc3B+Joc6HHz5TnZcsF+r+jguU+d9aLrqE9uPStSVol0N0MQFAZdeFW6y7O2w+TvDlnnnGQCq2SdClbSgrRiguD20MbqwYY/t1uuyr4xfswGkLEbsxqwf7kK3bxRyzHBUVO9rjmdGXlbw7HC7aZdqy5SqitYT+opv9xyaAJzoWuPW1W6/ovUodx8zDm2moYFc06oLGd5jwrazbdA6y2OG2vUDq/vrLx/qWSDlQJBmMPs6D1XZPMNtQy9nHu6FacG+qrS/D76OudeSWfxSocKPt7Tyx+RF3LH3LXaDhmL5Yl5ZbSGNF29ZdVI5m72r+XW0Iw9yTbymXbtIRiz1y9yKczr9BZNfXLsq9bStIBl1rBjQi0805mftx7HChuwbRH7mB31ujW0wX5ZpxrKr5XlsPqIXp/Ky7s2iMsZxxrRwHzsG7peXkbltRBPvwDytVcQqVvB0prpH03K+GT2Vb9hTsb6AOrTxTUtNy/Eu3WLmb1xpdJyWm3ba+GVjlWy3x6g3K4UmZyRB/atYVqs8kXSVJXNsyKtVEtL8oLkd6tGtt0IWjiaopFl1UC6qzM4SXp0Q1fN36CMXljunKBrqBPhkIOKh/LAu/VvTm6OXzMnQ7dbLk3f5hNy7tIOc9ND5IaHBS2z2o8Jcd712judxfO26rHCEez/KtjzvMDLrSc1lV/Bcoh3EZtWz0axAXjaMJ8MteZj/NjaXapeVkA7aK8gstyF4LbEzMnlY3rMTfUxTFPD9bTcLJPu2NisqeG0LpPYdqkrzeNHne4q2+V+4Fj8Drzi2+aVjtsnq99VaMYNXZTz5dYGm4d2qiInTaEL/ZGWiyB/0rpQ0wTdqqe2RdM2O3qy3MoajPEZkOPOOmZHjxXo6kqWXSENKKtiinT7q7IZruduy2As1qlt0VZrU0bqJPZ6WEaF60Qo6GbXZe/Ws/R9Iy5eLsl8yCxffREVDyRrKjOPYRcRRY8J2Wqq197pLJC3WceKmK7lpejFhj0mVFewntRUfvnl0NWzyeTxH8vrnpaz2y7a99UUOG6odJ91ys1X4XzMObaG6XPrkEmjT6so0ERt152tuxDGdrljZ9bL+ObrOV2fyfmLd3Gpg+CJQRHbzaNfNzemdZlskDOXSnI+XE/PgIi6+q+sR1+xXpczMiBrw3nU63xppzO4Oo9fOsJHVOjX2vFNcuu9cOD3KnODTPiojOUrj4mcqCVN1q4R2T1TyZ8teoD8PXfQeLZkmartndlUuSjQ3fg3omVwXE4UuLEmOIHFHwmSrxFlVUxlnGtGF+JddzuCbsn8VqUK3YJ5a0jsEIjgZbrRyvVBK1onHE4wFy735kbdQm6/rypZLuZGH5sP+nVc9mUvR61bt5iZdZsTZm1lVij/E9S6Ch0TctRUr/3TWSRvqx8rYlS+R/ZVVU1253XDFqontZRfgXJQefxmWE/MPFdkncrzPvt1OrXcAseNO856l28Tr2Ne4XzMO7am1KHlK9+R7u2+LZxAczyhb9G271GNuorca8blLKJxKAXTpMckmYCkleMXgUWEfQoa9QCLweK4sQYAOoLHeGIAaHMEkQDQDLq1PzJ2Tf+3nP7oWFUA6GAEkQDQDPrOeWesonkuogxWH48IAB2GMZEAAADwRkskAAAAvBFEAgAAwBtBJAAAALwRRAIAAMAbQSQAAAC8EUQCAADAG0EkAAAAvBFEAgAAwBtBJAAAALwRRAIAAMAbQSQAAAC8EUQCAADAG0EkAAAAvBFEAgAAwBtBJAAAALwRRAIAAMAbQSQAAAC8EUQCAADAG0EkAAAAvBFEAgAAwBtBJAAAALwRRAIAAMAbQSQAAAC8EURqjz6SvSufk7O37XSr2e1Z3gbbNDWstuONj2TWTret2ydVfp2UKTtptnt42k7Vak4uv/Gc7B2ds9ON1TF522lidaH9NLdeJZj82COXH9lpNMgClyOQpwXHvhYEkcGOpwOk8OUTKFU98VYNBO366g4oFsq0nO0ZkBcufS33730t+9fYjwEAANpIC4LIhyKbr5sAybwu7ZBT24oHkqs37hCZnJEHdjo0e+OKTKi/pz6JB4sP5cGkyKGNq+x0iqWvyblIwNbCK8xHM3JHNkj3Mju9YNLTvPqIKqP3XpMuO43GqSlvW9TKNju6J3nx1gYtfqnb1RBFjwHqoq8NegwyrTmsjrXvyqtL7XQhHZAuoM0073jUvloQRK6SV7cuse+VNTvlTK/InfsFA7Y1m+SQXJSbkYPbnNwcvyZ9vRtELlyJntRuX5FTskPW0aIHAADQMB04JnKZdKugM9riqFsbN8jmfZukT2bkgTP2Z+qTiyK7NsnqcNqOlTN/1ZW2aWkwXeF2zJB5v14OTIpMHF1fmccKfxe88scZmSuT8vzZLRtm3p4BmZBrcqBHz69beYIWkXiLQOKKJ2wVcsZT6leyJSFoYahsk0rDl9XTHOZXhFmXs4xqLVS525IUz6/KuuPb7d8CFl92Ynti27t39KH9IkO5NS66fZFyDuvX7XD5wbbH8zacjm5nJZ3m+22qPquLqC2x76opryNSZsl6G8+byvYH9W/t0WsikwOyVn+vyvtq5rbEyipSP8IWvmnzV39vyiHMo0cZ+RiRvl2RephT/0zepH1vflf9GFBm8rRfXaSq49G2tGU4y49vW0y4Le42RrcvXmZB+qt/7yjXUStv/8xKl5K9XfG6pL439T4+Xw11JCGcby66TZFl6fUkt9HMn7LvucsJyjyaz9XqY7V9NpR57Anrfuz4kKb6fhqIlk21fLMy62iRvE2XuQ0Zac2tN7peJtYf1KPyOhLLd9Zh6nXsM1c8P5z6kZ8fwfeZxyNHdjkWz/toXlevN00132Lffrh7/qnS8PzndroI85udo/Pf2un5W8N2enb+Tzufnd/z4az9Ij49P//50LNqfc/Ov33LfqD9dXR+T2n3/J/+aqdTfqeZ3w59YacUvd7I7+K+mH/bnd+sJ7buuCrbEv9Nah6oZbufJfLWrt9N17cfDtt1FUtzsMxomoM8ddZTZFtSJJbj5F9lOwNm3kT6K79N3W53/nhZpJRNsD3JPIkI05qVz3Y6sn4lvo3J9QVlkqxz2fnoCpeZXYb59TSRf1rqtqhlxX5rtqH8W5um+H4T5pG7PLP8rP0ra7vcdYZpjpbR2265JtaVvj8kJdOrfT7k5ku8HKPLTmybEq8b8e2Lfx/fPyLi5VQkf6qmK3u7qi0nmrc11pGEcD53WcGyK+Wmp5PLiafDTLvLCfMo8Zm7rMr63XoSLKuSB4k6Gt+/qhwfklRa3LyPLSexHrW9lXxJKlJHs/M2Rd5+VSWtheqNXlYij4L5qudlJR2JzxJ5mVK2nvmRKINU2eVYdF3RfUYJ0x7Jx+ZrTUukc0Wwdmaf3L93uNxSWERXzybpm7wiN+0VimltfKYkXbJE1m3eIBPjk0HE/mhSxnULZc8SM19Z76C87tu9ra5Szl/YIWNHnLGVpiv+mozfSL861V33+935l/bKZp+ue28b5MyJyhi7rq37Il3/U78fkIldI3LOGU7QtfWwx1ipafmjutI6dCk6vmr1kZGUIQbZ25Jg8lf95oZbFyr5F9/OamNj0+ntlsj26HGwu3dVWrTDvHFvZFp95LoZapEvtt1q2W8OOfXQOrSvwPhHVTffLJfPEnl1n0pnfIiGL7XMW0497Np6IlZvG1dPZ0ffkVPxfNw+GNlfjV37UuvdoUtOPubuX1ly6p8qo/2RYTV6mMw1eVCg8bmI1Ufcehwcl+TuTKIlQbdIrNV1060/uceaOXlwV6SvVBk47bcfa577p5a7XeHxIbYP31Dlb6e0eutIQmRZq+T1lH2vEHc5dphV8rOU+qjmcY+p0eNh/rEnlH98yN5PH8xcs+dBa83hSB7HFaqjvnlbcL+KprVYvSnOrdv2GJr2mXNc1cd/GTrh1Lcqx96G1LWCx9usdYXny1i9OndJp3VhtSaINAO97Y01G6+YYDLeLJ/JZHrlwHXzQuXGmSDADIILc7NN7yZZFz8QuTtaUQ9nZEIdGIKuu/AVdHllc7ttisxfj5J0Vz3oBieezBuM8pibftLGl66SdeqgGN0JsrYlhc7ftLJyRLoATFdqQWa7wyECldcWVW8C9eZNMq1dy0uxILfgzVK11M08iWUuke5nRCZm3CN7Y+qpOZFd6I/kczBEI8oNgCoaeUNZgfqnDsSV7qug+7aR3K4m080VN37MBpCxm15yjzXBCS7oaq+1C8tz/9Tytqvq8SGqvjqSVHS+WhRZdnKeYMiVOR7mHntCRet+9f3UBOImX50u4Bx5dbSmvM3dr2JpLVhv6pN/bgyHrpRfKeeYxtW1/ONt5roKnC8XSuvHRKqA8pZ3NO+0OMYr4NKSvGCvAhNXZvXSLTph8Ou83KtQVxD09IvYx/Xcv1e0ZQtRwQ63dnxTJf+9r7h2yFj4W/flXhE+phpdT/uGnKcvlF++dwc3lzl59lyRzTfC7dOtRw1iT6JbZKScfn2Mi9NBU1+11s+8Y429EL81NFN4fGxDeB4Dq+mEOtI4jTn25O6nuiVKf36pZIPWjGCyYB311dT9qskOlfPVfbmto42x2OKCDryxJhC29NzUrY3OjTNhq9ipT05GWijrtqyU7G7JZO8YVwfLrC6FouJN3SZA9hK0PiUfgeTBCdCjgtbgF5b7nUgisvLX3mE/Vuujhqpud1S1x0PVIn5DV3txW+8bW0+7S7V07yw0m/7YsIxGCXpAokMI0vRtPmG6nxKPOPM41nRtfVedhNKGkzRBoe1K2Q7Tglmx8HUkHqgHLU9N4w6jKnjsyeexn5oLDB2YVB8KUrSO+qlnv8qvN0Z8CJNpRKpXA86NhTXweJuyL87en7HvFs6CB5GzoyejV0fqiuj4UZWpm3vLAYK5msm7C8yMtZiRcV0gsWZfM17uwkUTeNTWRJ7S3We70A8ci27X1HC1FoDkMmZHj9XQTWhbXY++X1nP7ZMp3SH5wu4Od+hApTzSujjjgnEZp7ZFr3CnhvvllDogeY8zdZlxQrrbx83PaTmr75DTJ6/IXffqc5/u7PDCYlu0rNy0B+Nf+iMnc5Mu+z7bRdni1ldbPg27gHEl8qKAWJkH6Qr3jWL1NNk9r6RsSzCcZECOR4an2HJsgtTtyuV0N1rJsi6yP2jJZSW2yR7jUukTfjyQzD3WzMnl4ZzjY92S6crdrnCsX2Q/S+6rC1tH7L7/TmWbazsOV6e7QSvHDVU2xwacrsa8Y09R+ftp9XNRklcdLazIfpWiYL0JH+93vlxvbF7bqXoEMUP0+K/z5GykjubLPx41KC6w43Mj+2JDytDfggeRXcslOj7E/ncW3+6QYOe8JhNpN86Yk5tSR0tQZXxJOF5TBRrvqas7sbfv29f50s6q6zADrO0y9Ou47Kup2Tq4EcIZi/TJptq6HnR3x41BEWfsx9rxUnlcRTLNSbrl49ZQtAxNl0gDHkiuH749tssdc9UvogMxtd1vRtZ5RdZ5dmcnl61v6tpUuWJ2Tubh9zc3Fu1m2CFj+2Yq9UId/HTXSCNa9hLKwbZeV8GTxq4R2T1TKfMt+uYIp5umUD01By2bf2HAnLYtKXVs+cp3pHt7EwJqLW27cql9+UR0G29uTHa7FdkfzLLK4xNtIKjqUqSuHRPZnbW/qvn1/mzqngmkChxr7rrfBV1jja1vKekqsF3J/Uztq/EbJBa4jpj6HT52Rb2Oywm1jfbLBugbGpHud8J0rJcDMii3nONh7rGnoPz91F3HehnffL36edW3jhZSbL9KU6jeqHP+fnWMroxdVBt9otjyc6Uc/5f3zMg637ikwPGoMXFByr6osuNNz/NiIzyhb9G27wH40k8a2CaRoKyd6FZ9E+Qz9hOt8ugj2WvGyS3WMY9oCupNR+jYMZEAdFfInsqVc+RV/A5NoJmqPiUDyEC96QwEkUAHC26scO8mDF9cvWPhTQ3HLl5unzSPjin0jFQ8tqg3nYsgEgDQEN2l2Jj3Zo4PxqJBvelcjIkEAACAN1oiAQAA4I0gEgAAAN4IIgEAAOCNIBIAAADeCCIBAADgjSASAAAA3ggiAQAA4O2xCyL1/xKu9o/Rm82sWz9I1WP95jfD03ZqTi6/8ZzsHZ2z002g/1+p2sazt+00apZa12z+6nqQmsf6f3HzLwuzmTxcwDyiTAAgFS2RC0T/j+Mtdwfllv6XdO/xr5weT9NytmdAXrgU/GtC/hvD40CVub1oCF4EowAWj8cuiFx9pIYgzrREnJQpO1mLBzPXRJ4ptX/wuPQ1OddhAY4O0JOtu8HJu5Utqom69mhG7sgG6V5mp9OsOdzS/3udnpePuXrKRJV5t71o0K9bQ/rfuxFIAlgcaIkEgGZRF2WvOhdkXVv3ySG5Jg8e2g8AoIN1ZBBZHidoWgirdBOF46Zuh2PQgpbEamMMy+MV9ctpiTGfb7uo3l2ULc5ywt9WXX9Z0CK25YJ6e6HfzFsZ0xhfRm0tZ6b1yFlGJX3x9Gp2nZHP9Dba7Y+PNytPR7vlkuMyY912avnJdceUW3hzlu2MIzSvcvkEaVl79JrI5ICsDb8zy+2XU2qOU9uC37j5GinrWLmF2xzOY7alcB5Euek3ZdQzIBMqgDjQo39fpWU73uodTsfyIFJPCuWj/i6aVq2yjVXyMpgtqkh+6G1K/D6Yv7LtwTr3jk5H9oPg++iy0/eL2P6TUteyyrqcb+av+r5aesv5a1WtjwDwmJnvQJ8PPTv/VEm9hr6wn8zPf/vhbvXZ7vk//dV+8NfR+T16np2j89/ajzTz2/LvZuf/tDNY1tu37EfzX8y/rab3fDhrp5Vbw2qe4fnP7aQWXY5e/3Bl3Sni84friXxmt9ldd9r2Jr6PbJtNU5ju+LaH+eJ+5s5jvk/Jx8T8zjwpeRaUh7vtKcxyYstOzQPn+zB9kbxX64qVc7hNlXINJMohlpYgP2O/K5QHSYl1xfM2jVsWWphHTvqCvE2ZJzMfdX4k1x3fxvS8jCmSH3o6t0zC/a/yu3K9SXyWTFs0/5P7U15Zl/PNnSeNmS9cf0oahnLyy2G2KS9/AaBDdG53du+g3Dqyyk7obqITcqb3mozfiLYOHdpXYPzjrhFnDOAqeX1og0yMT2a0LszJg7sifaXK4LaurYe9xkzNjr4jp2Jp0F1fb+au2/HoIzl/YYOcuXFYVtuPRJbIqycGpW/yitzUrS5rNskhmZEHtgVm9sYVmdi1I/rZ/RmVB5ucZSQduuSsY83OSF6HaXlz6xIzrXVtfVfGdtmJTLHtT8mD1Uei6Vu3eYPI3Rn/1h+TXztkzM3zWFoMlZbXU8aEZuVBc6k8OlGpx0GX6EW5GWmdy8/HRmtUfvQNnSjvO0Ha0j6Lp1ev3x2nuEr2X9ohcuFK0GJYtKx1vm135smTGNeq9rcj2ccYt6fgfOk6N9YBWDQ6N4hM3KSyRLqfEZmYcQcb5dzEYLnBYDHqxLFvh0wcXR/t5vKgb7Tp29ybOJl09WxSAaAK8Ox0poczMtG7SdbFg9elvbJZnSyDcVfLpNs5cer1Htp4WNbtCj+bk5vj+rOsE2l2PlZLSzEl6Y5tf9fykkgsD9xuSdPlWgudX+VhCeFrvRyYtN+HUm+AKlaXmiOZR0nF8rFxmpsfLyyvXJCkS1n/spL0hRdHRcu6UN46VHC+W+07ZkhC1lANh76gCm+seVOOmW1J754HgM7CjTW1Mnds6rstZ2JjJdtN0HIXtEhNy80LO2TdGpHVG1UQrD97NCnjk8FnbcmOP9siI84drhvslzXQrb92Oe7rnNOKikWiSWVt7rq/d13O3A3GOBcNJrWwhf7UJ8V/AwDtahEFkTpAkpwWtcYLWhlGUrvbsnSX0rsaTXdzb0m67XQm3fISdlu7TGBYaakpt27eviKnwm5r3c2tP9MtNjld2UUk0xJ0+ddi6pOL5e71ID9i3f61qpZfi5Sbj4H4XcG1l1Eh8VZQ0xXcPEFdsS3zTS/rJfLqeyqYdLvQAeAx07lB5IX+yN2gU8P6btwmtai53WTGnFweru+OTDPOS98F67ZiPPpIjh+9Vmwcp1buWnNbQdW2HRtQgeG+yngx0719UbZsu+gE2bqbO/jMvzs/avV2PQZzQI475TE7eiyl6zCN2gb37tbbJ82d7OF2JrpkbR650rttdfpE7tx3xr/Zbv4Dx6JlNzXcrq3IPrLzUY8ZXKdbwN6pzJNWRg3rAjdjcS/K+XKdsPXSTtUvVu9tvSgPq2hWWav1nI3c9Z4tsb5EuaTfNQ8AnaBzg8hdI7J7Ro9J1F3J+hE6O2TsnnsDRgO546DCbuu79jEo5tUvcsn3Ad2rZL9uwbSP/TGvniuy+YbfcnTX2tgud+zXehnffF3uR1ru7M0okSA7/GyDbO6psytX5c+5G4MiZoxosB3H5UTBG2tUue2bqeSlDnTdvFxzOJq+YyK7493Z5oYJO085kHLHrYZj0HTr0XU5I27Z6Zsddjan3iyonHxUVh9R9S18fI96pZZRal7WIrjRJcz/5StVwZ3QLfaNskHOXCrJeZsW/fgkGbrudFU3r6zvOPV8+TbJPO50l8LhLuH8M3LG3cd170DauGYA6ABP6Fu07fuOoW+yMGPkGtHFiabJLSf9/L2ckzAKIB87lr5zWwfzjMkF0Im4sQZN0poxqkAneTAj9fcEAECLEESifvoO6sgdqvo/ifSbZ0emPW8RQGD1kdb9n3QAqBdBJOq3tCQvuGM79fP4ZFBu8VBlAAAWrY4cEwkAAIDWoiUSAAAA3ggiAQAA4I0gEgAAAN4IIgEAAOCNIBIAAADeCCIBAADgjSASAAAA3ggiAQAA4I0gEgAAAN4IIgEAAOCNIBIAAADeCCIBAADgjSASAAAA3ggiAQAA4I0gEgAAAN4IIgEAAOCNIBIAAADenphX7PtC/vb3f9h3AAAA6BTf++537LvGoCUSAAAA3ggiAQAA4I0gEgAAAN4IIgEAAOCNIBIAAADeCCIBAADgjSASAAAA3ggiAQAA4I0gEgAAAN4IIgEAAOCNIBIAAADeCCIBAADgjSASAAAA3p6YV+z7Qv7293/YdwAAAKjHvZn/lLfPvWen0v3gB9+Xvldekn9as9p+Upvvffc79l1jEEQCAAC0yK//12n5wff/u6xc8bT9JOnfPv/C/P3lvxw0f2tFEAkAALBIHPjnAel75WXZvOll+0nS+JWrMvHxVTnz20H7SW0aHUQyJhIAAADeCCIBAADgjSASAABgAeibaHT3tX7psZCdrqVB5PTpn8mfv7ETAAAAi9j//j9jsrL0tBkDqe+27nQtCSKnT78o56ZElq1YEZkGAABYrP7rv/6fuQtb30RT7+N62kFLgshVB7+UH336oqwf+L3888svyvsrrsrezs9LAACAx0ZbjIl8/qkl9h0AAMDjQ3dv3/uP/zSP8an20t+3o5Y8J1J3X3/20pey9f+els/WHZRlfwimaY0EAACLVdozIf/19pRMfPyp6equRv/Hmv/5P7aYgLMei+ph4/rGmoc//Z38+En7AQAAwCJV5MHizbSoHja+6iABJAAAQEg/BqhTHv/TFmMiAQAAIPLvKojM6tpuJ/zvbAAAgAXw9rn3zF/9mJ9q9E00ujWy3v+TnWZRjYkEAAB4XCzkTTRpCCIBAADgbVHdWAMAAIDORBAJAAAAbwSRAAAA8EYQCQAAAG8EkQAAAPBGEAkAAABvBJEAAADwRhAJAAAAbwSRAAAA8NbSIHL69M/kz9/YibhvxuTnp/9iJwAAANBOWhJETp9+Uc5NiSxbsSIybejgce+YzD1ZkufdafMlAAAA2kHL/ne2Dhz73w/evzJ4Vd76yZJgQtOB48u/ko/NxHYZ+eqgrDLvAQAAUItF+b+zn3/KCSDj1j8ty+xbAAAAtIeWdWd/9tKXcn1wu/z26pfyo09j3dm/FPnFVx/IgZ0fyNe/FvkN3dkAAABtpWXd2Zq+sebhT38nP37SfuDSweQfSvLWwR/aDwAAAFCrRndntzSIBAAAwMJYlGMiAQAA0FkIIgEAAOCNIBIAAADeCCIBAADgjSASAAAA3ggiAQAA4I0gEgAAAN4IIgEAAOCNIBIAAADeCCIBAADgjSASAAAA3ggiAQAA4K2lQeT06Z/Jn7+xE3HfjMnPT//FTiRl/hYAAABN1ZIgcvr0i3JuSmTZihWRaUMHj3vHZO7JkjzvTpsvc34LAACABfHEvGLfF/K3v//DvquPDv763w/evzJ4Vd76yZJgQtOB48u/ko/NxHYZ+eqgrDLvA5m/BQAAQML3vvsd+64x2mJM5PNPZQSB65+WZfZtmszfAgAAoCla1p392UtfyvXB7fLbq1/Kjz6NdWf/UuQXX30gB3Z+IF//WuQ3se7sqr8FAADAgmhZd7amb455+NPfyY+ftB+4dDD5h5K8dfCH9oOozN8CAAAgotHd2S0NIgEAALAwFuWYSAAAAHQWgkgAAAB4I4gEAACAN4JIAAAAeCOIBAAAgDeCSAAAAHgjiAQAAIA3gkgAAAB4I4gEAACAN4JIAAAAeCOIBAAAgDeCSAAAAHgjiAQAAIA3gkgAAAB4I4gEAACAN4JIAAAAeCOIBAAAgDeCSAAAAHgjiAQAAIA3gkgAAAB4I4gEAACAN4JIAAAAeCOIBAAAgDeCSAAAAHgjiAQAAIC3J+YV+x4AAAAohJZIAAAAeCOIBAAAgDeCSAAAAHgjiAQAAIA3gkgAAAB4I4gEAACAN4JIAAAAeCOIBAAAgDeCSAAAAHgjiAQAAIA3gkgAAAB4I4gEAACAN4JIAAAAeCOIBAAAgDeCSAAAAHgjiAQAAIA3gkgAAAB4I4gEAACAN4JIAAAAeCOIBAAAgDeCSAAAAHirKYicGn5Olr/xkczaaePRR7J3pfpcvc7etp+5bp9U3+2Ry4/sdDuyaUjd/gVk8nd42k4tpDm5/EaD123K/aRM2cnmCrZ/7+icna6imdvUJnUIAIBma1BL5LSc7RmQFy59LffvfS3719iPH2Ozo3vaP2gGAACoUU1B5OojKlh87zXpstPyaEbuyAbpXman06w5rALMd+XVpXZ6gZmgLt56Grf0NTnXkCB4Wv549Jp9n6Vgy9mCWSKvvqfK9sgqO10w31BRUx1SF2G0XgIAOgxjIptgarhf7uzaIX12GgAAYLGpfUykHTdnWqp6BmRCrsmBHj0msspYs/g4tHDaGUuZGE9Z/k3QUhPOE2m50/MkWsrclp2gtW+tbhmcHJC1ehnVWtbMtrhd0HaMYHndBbqn1fZsuTsob24v2Q+qMOtaLwcmRSaOrk+mSwm6xMN1J/M1+n2VvMvK3wS3ZdQj3xRTJ7LWk7sd0TJO5rX+Ppn/RcaPRrctmY8J5XoQK//IesK8mi7PY9IUr0N55WC+75dT6u2pbbHvAABoY3W3RHZtfVfu3xiUPtkgZ27oMZGHZbX9Lt9F2XJM5M17wVjKW0Mb1Ik0fpJX86y8IuvsPHpdooKu4l3AQRetXrb0DsotvQy3Kz7D1LAK8p4ZCdZrtq9AYLhtRs6cKLB80+15Xc70ivQNXTfLP7d1if1SudAvx+WEXbeeT+WDE8ToAHLt+KYgPfql8uWOCkKiAUiR/K2meL7pbdGBc3lbLu2w34RytsMEWP1yx+ZDsIySuSipN6DSAWRk226U5Py2i/bbLPqiSG30Cfu7eyNySJVJPGCdOPpOeZ7qXdgZ6TfDPNSy1dtDjCkGAHSQFndnq8DTCbi6tu5TJ9OLcjMSOOjg1AlMVfD1pjoJT4xPNnmc3pw8uKsCvFJloGfX1sMZYzqn7c1FDRr3qQK3N8tBpQro9qnA7MIVG3jpMZcSDVZVvuzeJXLqEzfIKZK/9Xswc03kmVJlW1RgFA2Esrdj6vcDMrFrJBpEq2WMJdLjSQWn5y9E122C90SQm+5QpCxXyX79u3IZWLv2FSjvhSkHAAAWUouDyJJ0556Ak/N0LS+JTM7IAzvdHEHgFnQ157Xe6a7NoCWtYa1IblAWZ25kCocPVF5bLtjvy4rkb/1Wbx+UPt1KV7W7P2s7gmD90MbKzTyh1RtV0HZ3pvaLhYczMtG7SdbVlAcpN4otK0mfqHrnpNG9yKhuYcoBAICFxI01WUxXo+5+nJEtJlCrEkzefj8yttG83HGiOWP2arNDxmz3aOTl3Fm9YOwdyWEXNI82AgBg8evIIHLqk4siuzZVurjjrZKmpa5xzLhPM26tShekDTYjL3ecaKMDu6UleaEdu0NNPujxm9dk/EbxMavdz6R3W5tyjrTIXpMHD+1bI2jFzDR5RW7GAtrZ+zP2nZ/ZG1fqaNkEAGBx6YAg8qJsce8K1nc/X3C6P9dsMsHd+fKNNnNy+ZhuBYzy7wJXyxlu9vMRgwBqYiYSGRWwStbp8YKxm2RmR082vAWwSL5NDed192cLu8Pjd91v0eMZt4cBuE3zO5UymR09ZlqAq1qz0wS0B4455fjoIzle6BmeuhXZSZf9Xd/m3urDDGq2TLp7Re7cLxp4AwDQeh0QRO6QsX0zwSNm9GvbRXMXa2XsYXDDQ6UrWd9RG9ztGmECChWQ6nmKPjz7rn20jXn1i0TW2xiV8YR+Dx3XD3wf22XTY19rZzY1/mHuhfLN3Y71Mr75evQmmTy6O9zedR+mZfk2kbHYw+lXH1HlGj5uSL303ev65pvq9B3m1+WMOOWo75IudGONCmAvleR8+LueAZEhz3QV5o6/5RE/AIDO8MS8Yt+3H/0MPRNM+Dw2CKiTfuRQzxXZfKN1/2EJAIB2x401AAAA8EYQCQAAAG8EkQAAAPDW3mMiAQAA0JZoiQQAAIA3gkgAAAB4I4gEAACAN4JIAAAAeCOIBAAAgDeCSAAAAHgjiAQAAIA3gkgAAAB4I4gEAACAN4JIAAAAeCOIBAAAgDeCSAAAAHgjiAQAAIA3gkgAAAB4I4gEAACAN4JIAAAAeCOIBAAAgLcn5hX7vpC//f0f9h0AAAA6xfe++x37rjFoiQQAAIA3gkgAAAB4I4gEAACAN4JIAAAAeCOIBAAAgDeCSAAAAHgjiAQAAIA3gkgAAAB4I4gEAACAN4JIAAAAeCOIBAAAgDeCSAAAAHgjiAQAAIC3J+YV+76Qv/39H/YdAAAA6nFv5j/l7XPv2al0P/jB96XvlZfkn9astp/U5nvf/Y591xgEkQAAAC3y6/91Wn7w/f8uK1c8bT9J+rfPvzB/f/kvB83fWhFEAgAALBIH/nlA+l55WTZvetl+kjR+5apMfHxVzvx20H5Sm0YHkYyJBAAAgDeCSAAAAHgjiAQAAFgA+iYa3X2tX3osZKdraRA5ffpn8udv7AQAAMAi9r//z5isLD1txkDqu607XUuCyOnTL8q5KZFlK1ZEpgEAABar//qv/2fuwtY30dT7uJ520JIgctXBL+VHn74o6wd+L//88ovy/oqrsrfz8xIAAOCx0RZjIp9/aol9BwAA8PjQ3dv3/uM/zWN8qr309+2oJc+J1N3Xn730pWz9v6fls3UHZdkfgmlaIwEAwGKV9kzIf709JRMff2q6uqvR/7Hmf/6PLSbgrMeieti4vrHm4U9/Jz9+0n4AAACwSBV5sHgzLaqHja86SAAJAAAQ0o8B6pTH/7TFmEgAAACI/LsKIrO6ttsJ/zsbAABgAbx97j3zVz/mpxp9E41ujaz3/2SnWVRjIgEAAB4XC3kTTRqCSAAAAHhbVDfWAAAAoDMRRAIAAMAbQSQAAAC8EUQCAADAG0EkAAAAvBFEAgAAwBtBJAAAALwRRAIAAMAbQSQAAAC8tTSInD79M/nzN3Yi7psx+fnpv9gJAAAAtJOWBJHTp1+Uc1Miy1asiEwbOnjcOyZzT5bkeXfafAkAAIB20LL/na0Dx/73g/evDF6Vt36yJJjQdOD48q/kYzOxXUa+OiirzHsAAADUYlH+7+znn3ICyLj1T8sy+xYAAADtoWXd2Z+99KVcH9wuv736pfzo01h39i9FfvHVB3Jg5wfy9a9FfkN3NgAAQFtpWXe2pm+sefjT38mPn7QfuHQw+YeSvHXwh/YDAAAA1KrR3dktDSIBAACwMBblmEgAAAB0FoJIAAAAeCOIBAAAgDeCSAAAAHgjiAQAAIA3gkgAAAB4I4gEAACAN4JIAAAAeCOIBAAAgDeCSAAAAHgjiAQAAIA3gkgAAAB4I4gEAACAt5YGkdOnfyZ//sZOxH0zJj8//Rc7kZT5WwAAADRVS4LI6dMvyrkpkWUrVkSmDR087h2TuSdL8rw7bb7M+S0AAAAWxBPzin1fyN/+/g/7rj46+Ot/P3j/yuBVeesnS4IJTQeOL/9KPjYT22Xkq4OyyrwPZP4WAAAACd/77nfsu8ZoizGRzz+VEQSuf1qW2bdpMn8LAACApmhZd/ZnL30p1we3y2+vfik/+jTWnf1LkV989YEc2PmBfP1rkd/EurOr/hYAAAALomXd2Zq+OebhT38nP37SfuDSweQfSvLWwR/aD6IyfwsAAICIRndntzSIBAAAwMJYlGMiAQAA0FkIIgEAAOCNIBIAAADeCCIBAADgjSASAAAA3ggiAQAA4I0gEgAAAN4IIgEAAOCNIBIAAADeCCIBAADgjSASAAAA3ggiAQAA4K2lQeT06Z/Jn7+xE3HfjMnPT//FTiTV81sAAADUpyVB5PTpF+XclMiyFSsi04YOAPeOydyTJXnenTZf1vdbAAAANMYT84p9X8jf/v4P+64+Ovjrfz94/8rgVXnrJ0uCCU0Hfy//Sj42E9tl5KuDssq8D9TzWwAAgMfR9777HfuuMdpiTOTzTzlBYNz6p2WZfZumnt8CAACgNi3rzv7spS/l+uB2+e3VL+VHn8a6pH8p8ouvPpADOz+Qr38t8ptYd3atvwUAAEBjtKw7W9M3xzz86e/kx0/aD1w6IPxDSd46+EP7QVQ9vwUAAHjcNLo7u6VBJAAAABbGohwTCQAAgM5CEAkAAABvBJEAAADwRhAJAAAAbwSRAAAA8EYQCQAAAG8EkQAAAPBGEAkAAABvBJEAAADwRhAJAAAAbwSRAAAA8EYQCQAAAG8EkQAAAPBGEAkAAABvBJEAAADwRhAJAAAAbwSRAAAA8EYQCQAAAG8EkQAAAPBGEAkAAABvBJEAAADwRhAJAAAAbwSRAAAA8EYQCQAAAG8EkQAAAPD2xLxi3wMAAACF0BIJAAAAbwSRAAAA8EYQCQAAAG8EkQAAAPBGEAkAAABvBJEAAADwRhAJAAAAbwSRAAAA8EYQCQAAAG8EkQAAAPBGEAkAAABvBJEAAADwRhAJAAAAbwSRAAAA8EYQCQAAAG8EkQAAAPBGEAkAAABvBJEAAADwRhAJAAAAbwSRAAAA8EYQCQAAAG9tGURODT8ny9/4SGbtdF0efSR7V+6Ry4+qTHea2ydl+cqTMmUn28ecXH5DldtK9Rqetp+5gu/3js5FptPnXRgNrWeFtCjNps50cJ0PtUPdb9v9r/HM/tHC/bMu5jj/nJy9bafRWJ1+Hm17eefT9lFTEDk7uidInPvq1IMNGmJqeL0ceGZE7t/7Wu4fWWU/BYDauRd65rxT7aJPB/cLekEINE8nnU9rb4nsHZRbOoHmNSKHLvQ7rUz1WX1ELfO916TLTqPdzcmDuyJ9pWV2uogl8up7rd1BEvWs6a1MtaU58+RZxJrDah99V15daqcXrXhrd33qzveqpuWsuvCmlSyH2h+3XNghY7WcC5a+JufUuWn/GjtdCOXSSM3bfxZCY48lfmo5n7ZOg7qzV8nrQxtkYuahnQYAoHZTn1yUvqGdstpOA2g/DRsT+WDmmn1XYboinC7v6BWe0+dvXpXxFaljcUwrkTO/c4WTvZ4MVVqeMq+gymNBgqvWcJ2RK5bUrpXYVW64nNvB2J1gOXZbImmt1jKWsX4rmi/R8SthHofzZF5xZeR9kI71cmBSZOLoevN9sfyPXekVyVcj+n0in81yMr53uPXMvN92Ub27KFvMb6vle2W7TT0prys2f1i3wrwz2xG/uq1MR8qqvM3B92uPqn1rckDWut95pDNZz4Plln8bqxsJ8XWlDF2JbH853eE6g/XF60XafhZdjse+nFIPI3Unqw4nZOR7KJYn8e2smg6zHf1ySr09tS39t2VhHmasy+RhvDzM/E6Zhstx88CmJ1KHq+VJJO/S6krWPhnW8elynStWptNy88IG2dyzxE57qpYH1fLSfJ9SLnb+9G0O05Z+jKr8Jr6/xZen50/mq6lDKftaWV6aQrHvk8vMOaYq0WOd2tbM9qK8/Se2vtQ65QqWF09X4vgRT2csHdF9MmOdZjnJY0myPGy5Rj6Ll2Ve2cekrLsyf16+Bevy39fqNF+Dbz/cPf/UztH5b+30/K3h+adKw/Of20njr6Pzb384aycUM8/u+T/9NZj8fOjZ+aeGvggmlG8/HM74Tq3P+e38/Oz8n4bs+nPWo7/fU3X6i/m3S8/Ov33LfGOpZe98dn6Pu0yX+b3aPje98XXqaTd/jNi6wuWU5wvW+1TaZ05eBOuKrd8uy93meB6m5r+7PVUk8z78rVveOXlmxOeJTRfJ15TyMttSzq/492odYT1JkZ5HsXqcYMskLb8T2x5bfpU8iJZDkAZ32Yn9zTOd8XTF0+3uewmR/UWz2+z8PloGSqIsg9/E61oiXep3mftybvnE8zdQrA4nJfNdCcvV+TxYvrOsvHSk1ONUBdZlpiN1TImXWbic8nzB+tM+S9Zpd560vEymJVofwjoezf9ceptjeZ9aHqH4/NXyICMvU8vF1uVqZZW6TWZd4XJtXrtlZJdZyWs9TzJ/4vtpQpE0xfMhsf/mlV/1fMor09S8SaRdsemovj8UOX7E06F+4xwTE3lp1pm1/SnHkki5KjYtkc+8yz5NyroL5Zst25xyabTaWyLDKwz92pbS7bD0Ndm/1bmKXLNJDsk1eWCuYJJ9/l1bD1cZszUtf1RXNIcuuWO6lsirR+w4mcz15Am64U994lxJPJqU8ckdsttdZopDlw5X0rtmp5zpvSbjN+JXpHk2yJkT4XgflaZ9O9I/u3Al1iqm5rnhrF/lwZt6OMH4ZHDlpa5mzuuxRO7Yu7Rt7B2U1zPHDKXlvR5LOKLy+KLcbMJVTla+zo6+I6d2jUTGOa3ePih9k1fkpr4iezQjd1TedJerlVNPGk1txzmnjqTniSqn7QXGP0bSZIeGhGWZpq50+ux76ur99wMiQyei+55bJ01dc+usosejXdJ12VNd+3I1zajD0fR2bd0XXVZD05GzrsLc40FQx9I+S9Q7PfbdOY50bT3ht0+Gdu2rWsfSzN6fEXmmlKzT7nnHfZlehDw15KWuyxljK80yYml1u+FN/sTyMHG8rkt2mvL23/zyC/cf57is6sr+G2oeO+VDb89E7Nipx2yP7ZLoedhX1jGx6Pkwj9mPZ+SBLevZG1dUWnZEP9P1dtemhpe9V7557mv1atCNNV/L7pn1yWZw0zQb7uhBV0EgqMhBc23Y5VWFqRw7ZF2Vndioup58XT2bpM8J0oKKEVSC6tzK2mgl6c6tAMl5upaX1AFWVWY98XBGJtSBJOiWDV9BE3lE2kHaVTXvV8k6VXnv3PcNmvNk56sZMnGh30mTevWonct+r3fQ3buuyYEe9XlWN1ADJAc9L5Pu3nieFCnLGgZQ15VOj33PBpxht0r55Z6wdV3r3STrGnXQqmNfTtWUOlygXBuWjmJ1qCa9atn2bVWJY8QS6X5G1Qk7/j13n7QadpNA7LxTfhW6aGlGXup65AYj0W54nT99m3sTx1lz3gmP13XJSlP+/ptbfkXOv4UF23NooxNUWas3qvK7O1N7UJ11TCx6Psylj/GVstZ5d2jjYaf85+TmuP4sSF/jyt4v3xq2rxXUsDGR8atPM36g54psvhHu6PrK32HuGP1abg3N5IxBy5a7njxLe2Vzb3jlpiuBFGs9andVDraRK5kO1Dd0PZEm985jc8f1vety5q49MDY5mGyVutLpue8duuTmdfhyWyYao+59uU0slnQUlbdPLnb6RF5uWbp9RU4tcEtQnrz9d7GUX+YxsSHnwyWybnPYiqgvFoLgulz+thezMQF352hYEBmlM1hX3vyK2LX1XVWYGV1LS0vyQtUuh+LrqS5omTFNwroSSINaVeJXGuaKrnl0F0rYjC7LSsnupFpUzfsg319YvrABaXepaDeAKlP9KB3dOpEYCtAk5gBSx40ANakvnbn7nm11yu1mSqlrplsnJt7qZ1pByhqxL6dY8DrcpHRkibfgmJaXZrHps60ixffJRUx3jUqwD+jjsNtiVC1/TI9XpCU4PtwhaH2qT/7+W6z8UvafmupY9e0x56+cnrHs40co5ZjYqPOhUm5FNBcL9nyru7n1ZzpPnF7M4mWfp758a7aGBZGmz77crZXs2psadrt05uTycPIOsHR23OK22B1P5vd56ylIVwJV4S6rwpWU5mdvZuzERTnv3oV7LNnFU7uLssUdOnBbP0+tcmAPWlevyYFj8bvTfFt70/Le5rG6ssseT9l4wQ48IMcjd0NOy9nwivPRR3I2caekB32wcca3ZNFdRJU732z5NrJb1xEZqqDVlU6ffS+4ytbdXZG7/Nz127FFkbqmvj+u78wss1fwR9+v1D9bZysasS9Hu1oDtdfhRL4XUiQdyXlqFe4TfyyXj9ofCo0PLCj2/N8gLZXWltx9sorgbt/qxyOT9/HguOlSysUOS8i+y1XXb5HxGx+pADvaEhWMmRyQtW5+2P3j0L5wLGMwtOLUO5V9aHb0WA3drUl5+29u+ZluYrVt29yyKlbH0vYf02MZq1PBsWBDRg9ggeOHe0yKq+l8mHYsUWzP5RaV/srFgq43wWfRseZFyr6Y2vJtYTTmxhr12iIjzoOb1dXAiUERZyzGzY2xLp277u/7RS5lDV5+V24NSTDewcy/XsZLOtgrsJ5C9E58UQ4cLeXeUFPMKtmvroQqY1GOiZxoZJfWDhnbNxO5sUl3WVTyT1+NXVdXx9EyOl/yf+ZaMu/jZb2A1AHt3I1oeS9f+Y50OzvRHfe7bSJjPt2u7rianC7evqER6X4n3Ib1ckAG5Vaz8sQEanZMj714qCudHvue6fpWdTl87Il59czIuvJ+klLXVHV/U7cEOIIbMpxxSZ9sUvVK39wRasy+HB5s9e/DA27NdTgl3/MVSYeapzwutc7HcKg6qwfqV8rniqyr8aaHVLtGgvHuNi3m4d9uXSuwT9akga1HxdVeLjoYk6MDcifxXEt1LtCt/bZOmpcd6hC5mUXf6OWcU4/LCXPTRN3y9t8C5ae7icfU+bG87xatY2n7T9r6zPEru+U+//iRdUxMOUapV975MO1YopelA1p9Dq5cLISfxXuiipV9ITXm20J4Qt+ibd8/1vQ4JnNice+kAhLm5PIb6iJm8/WOH1/aVOoq2Tu4Bco6bD/TLZYmQGj9SR1YSE0aE9lpouN8AACtFLYKOl2YbSwY59ac4SxAOyOIVMLnOS30GD8AQBXmOXgXo+O/25J9lqLnODdgMXi8g0jdBbFS/3umUm3/5B8A0DTmsS1tfGw2j3Na2S93hq77j3MDFgHGRAIAAMAb3dkAAADwRhAJAAAAbwSRAAAA8EYQCQAAAG8EkQAAAPBGEAkAAABvBJEAAADwVlMQaR6wOjxtpwAAAPC4WUQtkfof9hPcAgAALIRFFEQukVffG5FDF/rl7G37EQAAAJpikY2JXCWvD22QU++0+z/sBwAA6GyNCyJvn5TlK/U/o7evN9ICuWk5686zco9cfmS/MoIu6b2jczI7useZ76RM2TmMRx/JXnc5zrq6ejZJ3+QVuRlZLgAAABqpIUGkCfi2zciZG1/L/XvBa+yZAVnrBn8m8OuXO0PXy/Pcv1SSAz3PJbqfJ46ul+NyorKsXRdlS3lZKhDtGZAXLoXrui5nnjFfBJaW5AW5Jg8e2mkAAAA0XAOCyGn549FrcujSu/LqUvuRsvrIiBySi3LTBohTvx+QiV0jcm7rkuADbc1hFSCKnPokdjNMbL7Ish7NyB3ZIN3Lgu/MWMgjr0mXnRJZJt29Infuz9lpAAAANFr9QaQJ6nbIujV2umyVrFMBYhDMzcmDuyKHNq4KvnKs3rhD5O5MpOu7r1SOEC0nMFz6muzedc20YKbfib1Eut2WSQAAADRcR95Ys/qI7ca+2x+MieSxPgAAAAuq/iDSjEGsdFtXTMvNCyIvLNfd0kHrYKLbWpn65KLIMyWnOzrFo0kZn9wgm3ucrnDzSB89rnKHyIUrzo03QasnAAAAmqcBLZH2sTrbondaTw33y6neQXnddnOv3j4ofRf6zZ3XZbdPypYLG+TM9mg3t76xpnKzzZxcPjYgE72bZJ0ec/noIznrLiPhoTyYDINXAAAANENDurO7tr4rt4YkGKdoH7uzRUbk/nvODS9LX5NzNwZFVIBYfjTPNpGxe9EbcrS+oRHpfidc1no5IINyy1nWncQyDstq+13yxhsAAAA02hPzin3fBvRzItfL+Obr0bu4PejHDa0d3xQJOgEAANBYHXljTXX2cUP7CCABAACaaREFkboVs19O7RqR/YnHDQEAAKCRFlEQae/WPpJ8FiUAAAAaq83GRAIAAKATLLIxkQAAAFgIBJEAAADwRhAJAAAAbwSRAAAA8EYQCQAAAG8EkQAAAPAk8v8BTrueY3P7TIwAAAAASUVORK5CYII=)"
      ],
      "metadata": {
        "id": "UQfwcsFhOOdp"
      }
    },
    {
      "cell_type": "code",
      "source": [
        "user = int(input(\"Enter the number: \"))\n",
        "def pattern(user):\n",
        "\n",
        "  for i in range(user):\n",
        "    s = ''\n",
        "    for j in range(i+1):\n",
        "      s+='*'\n",
        "    print(s)\n",
        "pattern(user)"
      ],
      "metadata": {
        "colab": {
          "base_uri": "https://localhost:8080/"
        },
        "id": "eNDSgOxRM1NJ",
        "outputId": "edb4428e-9b5c-4b12-964f-2fbb85b89b79"
      },
      "execution_count": null,
      "outputs": [
        {
          "output_type": "stream",
          "name": "stdout",
          "text": [
            "Enter the number: 6\n",
            "*\n",
            "**\n",
            "***\n",
            "****\n",
            "*****\n",
            "******\n"
          ]
        }
      ]
    },
    {
      "cell_type": "markdown",
      "source": [
        "Exercise 11"
      ],
      "metadata": {
        "id": "mmcAVK1iPqo6"
      }
    },
    {
      "cell_type": "markdown",
      "source": [
        "![image.png](data:image/png;base64,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)"
      ],
      "metadata": {
        "id": "USRQJdbMPs8B"
      }
    },
    {
      "cell_type": "code",
      "source": [
        "population = {\n",
        "    'china': 143,\n",
        "    'india': 136,\n",
        "    'usa': 32,\n",
        "    'pakistan': 21\n",
        "}\n",
        "def add():\n",
        "  country = input(\"Enter country\")\n",
        "  if county in population:\n",
        "    print(\"country exist\")\n",
        "    return\n",
        "  p = input(\"Enter population\")\n",
        "  p = float(p)\n",
        "  population[country]=p\n",
        "  printing()\n",
        "def remove():\n",
        "  country = input(\"Enter country\")\n",
        "  if county in population:\n",
        "    print(\"country exist\")\n",
        "    return\n",
        "  del population[country]\n",
        "  printing()\n",
        "def query():\n",
        "  country = input(\"Enter country\")\n",
        "  if county in population:\n",
        "    print(\"country exist\")\n",
        "    return\n",
        "    print(f\"Population of {country} is : {population[country]} crore\")\n",
        "def printing():\n",
        "  for country, p in population.items():\n",
        "        print(f\"{country}==>{p}\")\n",
        "\n",
        "def main():\n",
        "  op = input(\"Enter operation add, remove,query, print\")\n",
        "  if op == 'add':\n",
        "    print(\"Add\")\n",
        "    add()\n",
        "  elif op == 'remove':\n",
        "    print(\"Remove\")\n",
        "    remove()\n",
        "  elif op == 'query':\n",
        "    print(\"qUERY\")\n",
        "    query()\n",
        "  elif op == 'print':\n",
        "    print(\"print\")\n",
        "    printing()\n",
        "\n",
        "if __name__ == '__main__':\n",
        "  main()"
      ],
      "metadata": {
        "colab": {
          "base_uri": "https://localhost:8080/"
        },
        "id": "EoeUgJtzP4gJ",
        "outputId": "4f7076a1-4f10-4194-a262-cc6e5c7f1d0d"
      },
      "execution_count": null,
      "outputs": [
        {
          "output_type": "stream",
          "name": "stdout",
          "text": [
            "Enter operation add, remove,query, printprint\n",
            "print\n",
            "china==>143\n",
            "india==>136\n",
            "usa==>32\n",
            "pakistan==>21\n"
          ]
        }
      ]
    },
    {
      "cell_type": "markdown",
      "source": [
        "![image.png](data:image/png;base64,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)"
      ],
      "metadata": {
        "id": "PRez0rBzUu-8"
      }
    },
    {
      "cell_type": "code",
      "source": [
        "import statistics\n",
        "stocks ={\n",
        "    'info':[600,630,620],\n",
        "    'ril':[1430,149,1567],\n",
        "    'mtl':[234,180,160]\n",
        "}\n",
        "def print_all():\n",
        "    for stock,price_list in stocks.items():\n",
        "        avg = statistics.mean(price_list)\n",
        "        print(f\"{stock} ==> {price_list} ==> avg: \",round(avg,2))\n",
        "\n",
        "\n",
        "def add():\n",
        "    s = input(\"Enter a stock ticker to add:\")\n",
        "    p = input(\"Enter price of this stock:\")\n",
        "    p=float(p)\n",
        "    if s in stocks:\n",
        "        stocks[s].append(p)\n",
        "    else:\n",
        "        stocks[s] = [p]\n",
        "    print_all()\n",
        "\n",
        "\n",
        "def main():\n",
        "    op=input(\"Enter operation (print, add or amend):\")\n",
        "    if op == 'print':\n",
        "        print_all()\n",
        "    elif op == 'add':\n",
        "        add()\n",
        "    else:\n",
        "        print(\"Unsupported operation:\",op)\n",
        "\n",
        "if __name__ == '__main__':\n",
        "    main()"
      ],
      "metadata": {
        "colab": {
          "base_uri": "https://localhost:8080/"
        },
        "id": "rZX9RTeSU2QE",
        "outputId": "16190297-6550-4278-f7ef-9c40de59f3d3"
      },
      "execution_count": null,
      "outputs": [
        {
          "output_type": "stream",
          "name": "stdout",
          "text": [
            "Enter operation (print, add or amend):print\n",
            "info ==> [600, 630, 620] ==> avg:  616.67\n",
            "ril ==> [1430, 149, 1567] ==> avg:  1048.67\n",
            "mtl ==> [234, 180, 160] ==> avg:  191.33\n"
          ]
        }
      ]
    },
    {
      "cell_type": "markdown",
      "source": [
        "![image.png](data:image/png;base64,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)"
      ],
      "metadata": {
        "id": "_fIb-tQJWeF6"
      }
    },
    {
      "cell_type": "code",
      "source": [
        "def main():"
      ],
      "metadata": {
        "id": "UXuqvXqxWfOR"
      },
      "execution_count": null,
      "outputs": []
    }
  ]
}