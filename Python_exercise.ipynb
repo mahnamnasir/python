{
  "nbformat": 4,
  "nbformat_minor": 0,
  "metadata": {
    "colab": {
      "provenance": [],
      "authorship_tag": "ABX9TyPWVWVZSt5jw/LZnOiE8E0p",
      "include_colab_link": true
    },
    "kernelspec": {
      "name": "python3",
      "display_name": "Python 3"
    },
    "language_info": {
      "name": "python"
    }
  },
  "cells": [
    {
      "cell_type": "markdown",
      "metadata": {
        "id": "view-in-github",
        "colab_type": "text"
      },
      "source": [
        "<a href=\"https://colab.research.google.com/github/mahnamnasir/data-science/blob/main/Python_exercise.ipynb\" target=\"_parent\"><img src=\"https://colab.research.google.com/assets/colab-badge.svg\" alt=\"Open In Colab\"/></a>"
      ]
    },
    {
      "cell_type": "markdown",
      "source": [
        "Exercise 2"
      ],
      "metadata": {
        "id": "dgKSCeg3snbh"
      }
    },
    {
      "cell_type": "markdown",
      "metadata": {
        "id": "wIEstxrmsaf0"
      },
      "source": [
        "**1. Create a variable called break and assign it a value 5. See what happens and find out the reason behind the behavior that you see**"
      ]
    },
    {
      "cell_type": "code",
      "source": [
        "break = 5"
      ],
      "metadata": {
        "colab": {
          "base_uri": "https://localhost:8080/",
          "height": 140
        },
        "id": "tvtdgMkes-NQ",
        "outputId": "8cf7be1c-09d2-443e-c9e2-5210b42e64f6"
      },
      "execution_count": null,
      "outputs": [
        {
          "output_type": "error",
          "ename": "SyntaxError",
          "evalue": "ignored",
          "traceback": [
            "\u001b[0;36m  File \u001b[0;32m\"<ipython-input-1-00bd2e73219f>\"\u001b[0;36m, line \u001b[0;32m1\u001b[0m\n\u001b[0;31m    break = 5\u001b[0m\n\u001b[0m          ^\u001b[0m\n\u001b[0;31mSyntaxError\u001b[0m\u001b[0;31m:\u001b[0m invalid syntax\n"
          ]
        }
      ]
    },
    {
      "cell_type": "markdown",
      "metadata": {
        "id": "9cO-lCaIsaf3"
      },
      "source": [
        "**2. Create two variables. One to store your birth year and another one to store current year. Now calculate your age using these two variables**"
      ]
    },
    {
      "cell_type": "code",
      "source": [
        "birth_year = 2001\n",
        "current_year = 2023\n",
        "print(current_year-birth_year)\n"
      ],
      "metadata": {
        "colab": {
          "base_uri": "https://localhost:8080/"
        },
        "id": "UY3h-NkntHDx",
        "outputId": "4337a74b-961d-4877-ee2c-4d014954d2bb"
      },
      "execution_count": null,
      "outputs": [
        {
          "output_type": "stream",
          "name": "stdout",
          "text": [
            "22\n"
          ]
        }
      ]
    },
    {
      "cell_type": "markdown",
      "metadata": {
        "id": "_LcU8idisaf4"
      },
      "source": [
        "**3. Store your first, middle and last name in three different variables and then print your full name using these variables**"
      ]
    },
    {
      "cell_type": "code",
      "source": [
        "f_name = \"Mahnam\"\n",
        "s_name = \"Nasir\"\n",
        "l_name = \"Naeem\"\n",
        "print(\" \"+f_name+\" \"+s_name+\" \"+l_name)"
      ],
      "metadata": {
        "colab": {
          "base_uri": "https://localhost:8080/"
        },
        "id": "ADMHuhPXtZmw",
        "outputId": "08df7411-1943-47af-ea8b-c4c34208d20f"
      },
      "execution_count": null,
      "outputs": [
        {
          "output_type": "stream",
          "name": "stdout",
          "text": [
            " Mahnam Nasir Naeem\n"
          ]
        }
      ]
    },
    {
      "cell_type": "markdown",
      "metadata": {
        "id": "L2jBun04saf4"
      },
      "source": [
        "**4. Answer which of these are invalid variable names: \"\\_nation, 1record, record1, record\\_one, record-one, record^one, continue\"**"
      ]
    },
    {
      "cell_type": "code",
      "source": [
        "1record, record-one, record^one, continue"
      ],
      "metadata": {
        "id": "bVfwSqDYt0yZ"
      },
      "execution_count": null,
      "outputs": []
    },
    {
      "cell_type": "markdown",
      "source": [
        "Exercise 3"
      ],
      "metadata": {
        "id": "Dc5eJvatIyOs"
      }
    },
    {
      "cell_type": "markdown",
      "source": [
        "**You have a football field that is 92 meter long and 48.8 meter wide. Find out total area using python and print it.**"
      ],
      "metadata": {
        "id": "RwulVZjguvC4"
      }
    },
    {
      "cell_type": "code",
      "source": [
        "length= 92\n",
        "width = 48.8\n",
        "print(length*width)"
      ],
      "metadata": {
        "colab": {
          "base_uri": "https://localhost:8080/"
        },
        "id": "eMc6KP9wvMvg",
        "outputId": "9cd1b442-c453-4cc1-98ff-694928ef8420"
      },
      "execution_count": null,
      "outputs": [
        {
          "output_type": "stream",
          "name": "stdout",
          "text": [
            "4489.599999999999\n"
          ]
        }
      ]
    },
    {
      "cell_type": "markdown",
      "source": [
        "**You bought 9 packets of potato chips from a store. Each packet costs 1.49 dollar and you gave shopkeeper 20 dollar. Find out using python, how many dollars is the shopkeeper going to give you back?**"
      ],
      "metadata": {
        "id": "AQF5qGvluzNY"
      }
    },
    {
      "cell_type": "code",
      "source": [
        "num_of_packet = 9\n",
        "cost = 1.49\n",
        "money= 20\n",
        "print(20-(9*1.49))\n"
      ],
      "metadata": {
        "colab": {
          "base_uri": "https://localhost:8080/"
        },
        "id": "xMaGT93EvWAQ",
        "outputId": "cfbbaceb-2aea-4b74-e322-4c612a6833b8"
      },
      "execution_count": null,
      "outputs": [
        {
          "output_type": "stream",
          "name": "stdout",
          "text": [
            "6.59\n"
          ]
        }
      ]
    },
    {
      "cell_type": "markdown",
      "source": [
        "**You want to replace tiles in your bathroom which is exactly square and 5.5 feet is its length. If tiles cost 500 rs per square feet, how much will be the total cost to replace all tiles. Calculate and print the cost using python (Hint: Use power operator ** to find area of a square)**"
      ],
      "metadata": {
        "id": "GEDjcTgRvDaI"
      }
    },
    {
      "cell_type": "code",
      "source": [
        "length = 5.5\n",
        "area = 5.5**2\n",
        "print(area*500)"
      ],
      "metadata": {
        "colab": {
          "base_uri": "https://localhost:8080/"
        },
        "id": "VGt9k_i6vu5R",
        "outputId": "c32990db-2268-4c87-b508-fa79be6147cd"
      },
      "execution_count": null,
      "outputs": [
        {
          "output_type": "stream",
          "name": "stdout",
          "text": [
            "15125.0\n"
          ]
        }
      ]
    },
    {
      "cell_type": "markdown",
      "source": [
        "**Print binary representation of number 17**"
      ],
      "metadata": {
        "id": "Ugf517XCvHmY"
      }
    },
    {
      "cell_type": "code",
      "source": [
        "num = 17\n",
        "print('Binary of number 17 is:',format(num,'b'))"
      ],
      "metadata": {
        "colab": {
          "base_uri": "https://localhost:8080/"
        },
        "id": "seDwn0CcwdDQ",
        "outputId": "267928ec-a3f4-4816-f14d-5e07a0925a96"
      },
      "execution_count": null,
      "outputs": [
        {
          "output_type": "stream",
          "name": "stdout",
          "text": [
            "Binary of number 17 is: 10001\n"
          ]
        }
      ]
    },
    {
      "cell_type": "markdown",
      "source": [
        "Exercise 4"
      ],
      "metadata": {
        "id": "8CfIg1qQI1jb"
      }
    },
    {
      "cell_type": "markdown",
      "source": [
        "**Create 3 variables to store street, city and country, now create address variable to store entire address. Use two ways of creating this variable, one using + operator and the other using f-string. Now Print the address in such a way that the street, city and country prints in a separate line**"
      ],
      "metadata": {
        "id": "bxstAl2iJCW7"
      }
    },
    {
      "cell_type": "code",
      "source": [
        "street = \"st 16\"\n",
        "city = \"rwp\"\n",
        "country = \"Pakistan\"\n",
        "address = street+\"\\n\"+city+\"\\n\"+country\n",
        "print(address)\n",
        "address2 =f\"{street}\\n{city}\\n{country}\"\n",
        "print(address2)"
      ],
      "metadata": {
        "colab": {
          "base_uri": "https://localhost:8080/"
        },
        "id": "xuYtVEd8OynK",
        "outputId": "4fee6e27-ac76-4851-93d9-37458c627aa4"
      },
      "execution_count": null,
      "outputs": [
        {
          "output_type": "stream",
          "name": "stdout",
          "text": [
            "st 16\n",
            "rwp\n",
            "Pakistan\n",
            "st 16\n",
            "rwp\n",
            "Pakistan\n"
          ]
        }
      ]
    },
    {
      "cell_type": "markdown",
      "source": [
        "**Create a variable to store the string \"Earth revolves around the sun\"\n",
        "Print \"revolves\" using slice operator\n",
        "Print \"sun\" using negative index**"
      ],
      "metadata": {
        "id": "za90j-knJJQS"
      }
    },
    {
      "cell_type": "code",
      "source": [
        "var = \"Earth revolves around the sun\"\n",
        "print(var[6:13])\n",
        "print(var[-3:])"
      ],
      "metadata": {
        "colab": {
          "base_uri": "https://localhost:8080/"
        },
        "id": "aGDRNZPQQhKL",
        "outputId": "71f22e7f-a7f4-49d8-a214-6e2b4be3c3f4"
      },
      "execution_count": null,
      "outputs": [
        {
          "output_type": "stream",
          "name": "stdout",
          "text": [
            "revolve\n",
            "sun\n"
          ]
        }
      ]
    },
    {
      "cell_type": "markdown",
      "source": [
        "**Create two variables to store how many fruits and vegetables you eat in a day. Now Print \"I eat x veggies and y fruits daily\" where x and y presents vegetables and fruits that you eat everyday. Use python f string for this. **"
      ],
      "metadata": {
        "id": "D2Wd1nG7JMm7"
      }
    },
    {
      "cell_type": "code",
      "source": [
        "fruits = (input())\n",
        "veg = (input())\n",
        "print(f\"i eat {veg} veggies and {fruits} fruits daily\")"
      ],
      "metadata": {
        "colab": {
          "base_uri": "https://localhost:8080/"
        },
        "id": "QKnC9IrhRlPq",
        "outputId": "a9ef000a-e252-47db-a60a-dee1673baa60"
      },
      "execution_count": null,
      "outputs": [
        {
          "output_type": "stream",
          "name": "stdout",
          "text": [
            "2\n",
            "3\n",
            "i eat 3 veggies and 2 fruits daily\n"
          ]
        }
      ]
    },
    {
      "cell_type": "markdown",
      "source": [
        "**I have a string variable called s='maine 200 banana khaye'. This of course is a wrong statement, the correct statement is 'maine 10 samosa khaye'. Replace incorrect words in original strong with new ones and print the new string. Also try to do this in one line.**"
      ],
      "metadata": {
        "id": "28FWakHFJRoD"
      }
    },
    {
      "cell_type": "code",
      "source": [
        "s='maine 200 banana khaye'\n",
        "s = s.replace('banana','samosa')\n",
        "s=s.replace('200','10')\n",
        "print(s)"
      ],
      "metadata": {
        "colab": {
          "base_uri": "https://localhost:8080/"
        },
        "id": "kc_NQXm_SCxy",
        "outputId": "7e23e86a-9c7f-459c-bb14-dbb37f725f00"
      },
      "execution_count": null,
      "outputs": [
        {
          "output_type": "stream",
          "name": "stdout",
          "text": [
            "maine 10 samosa khaye\n"
          ]
        }
      ]
    },
    {
      "cell_type": "markdown",
      "source": [
        "Exercise 5"
      ],
      "metadata": {
        "id": "QtMRBkVzJaOt"
      }
    },
    {
      "cell_type": "markdown",
      "source": [
        "**Let us say your expense for every month are listed below,\n",
        "January - 2200\n",
        "February - 2350\n",
        "March - 2600\n",
        "April - 2130\n",
        "May - 2190\n",
        "Create a list to store these monthly expenses and using that find out,**"
      ],
      "metadata": {
        "id": "4p-5Lsa2JeeF"
      }
    },
    {
      "cell_type": "markdown",
      "source": [
        "1. In Feb, how many dollars you spent extra compare to January?\n",
        "2. Find out your total expense in first quarter (first three months) of the year.\n",
        "3. Find out if you spent exactly 2000 dollars in any month\n",
        "4. June month just finished and your expense is 1980 dollar. Add this item to our monthly expense list\n",
        "5. You returned an item that you bought in a month of April and\n",
        "got a refund of 200$. Make a correction to your monthly expense list\n",
        "based on this"
      ],
      "metadata": {
        "id": "3NmCc70tJjv9"
      }
    },
    {
      "cell_type": "code",
      "source": [
        "expense = [2200,2350,2600,2130,2190]\n",
        "extra = expense[1]-expense[0]\n",
        "print(extra)\n",
        "tot_exp = expense[0]+expense[1]+expense[2]\n",
        "print(tot_exp)\n",
        "print(2000 in expense)\n",
        "expense.append(1980)\n",
        "print(expense)\n",
        "expense[3]=expense[3]-200\n",
        "print(expense[3])"
      ],
      "metadata": {
        "colab": {
          "base_uri": "https://localhost:8080/"
        },
        "id": "84229TKdSqYZ",
        "outputId": "17f7189b-e2f2-4eb8-91bf-d554e360a131"
      },
      "execution_count": null,
      "outputs": [
        {
          "output_type": "stream",
          "name": "stdout",
          "text": [
            "150\n",
            "7150\n",
            "False\n",
            "[2200, 2350, 2600, 2130, 2190, 1980]\n",
            "1930\n"
          ]
        }
      ]
    },
    {
      "cell_type": "markdown",
      "source": [
        "**You have a list of your favourite marvel super heros.\n",
        "heros=['spider man','thor','hulk','iron man','captain america']**"
      ],
      "metadata": {
        "id": "35uwDzqjJrtK"
      }
    },
    {
      "cell_type": "markdown",
      "source": [
        "1. Length of the list\n",
        "2. Add 'black panther' at the end of this list\n",
        "3. You realize that you need to add 'black panther' after 'hulk',\n",
        "   so remove it from the list first and then add it after 'hulk'\n",
        "4. Now you don't like thor and hulk because they get angry easily :)\n",
        "   So you want to remove thor and hulk from list and replace them with doctor strange (because he is cool).\n",
        "   Do that with one line of code.\n",
        "5. Sort the heros list in alphabetical order (Hint. Use dir() functions to list down all functions available in list)\n"
      ],
      "metadata": {
        "id": "4XKE5aE0JuvK"
      }
    },
    {
      "cell_type": "code",
      "source": [
        "heros=['spider man','thor','hulk','iron man','captain america']\n",
        "print(len(heros))\n",
        "heros.append('Black Panther')\n",
        "print(heros)\n",
        "heros.remove('Black Panther')\n",
        "heros.insert(3,\"Black Panther\")\n",
        "print(heros)\n",
        "heros[1:3]=[\"Doctor Strange\"]\n",
        "print(heros)\n",
        "heros.sort()\n",
        "print(heros)"
      ],
      "metadata": {
        "colab": {
          "base_uri": "https://localhost:8080/"
        },
        "id": "_dvH9kPQV_bo",
        "outputId": "6426206e-7ab0-49d2-c2b1-99a6ebc141fd"
      },
      "execution_count": null,
      "outputs": [
        {
          "output_type": "stream",
          "name": "stdout",
          "text": [
            "5\n",
            "['spider man', 'thor', 'hulk', 'iron man', 'captain america', 'Black Panther']\n",
            "['spider man', 'thor', 'hulk', 'Black Panther', 'iron man', 'captain america']\n",
            "['spider man', 'Doctor Strange', 'Black Panther', 'iron man', 'captain america']\n",
            "['Black Panther', 'Doctor Strange', 'captain america', 'iron man', 'spider man']\n"
          ]
        }
      ]
    },
    {
      "cell_type": "markdown",
      "source": [
        "Exercise 8"
      ],
      "metadata": {
        "id": "ySqD1AYSJz71"
      }
    },
    {
      "cell_type": "markdown",
      "source": [
        "Using following list of cities per country,\n",
        "india = [\"mumbai\", \"banglore\", \"chennai\", \"delhi\"]\n",
        "pakistan = [\"lahore\",\"karachi\",\"islamabad\"]\n",
        "bangladesh = [\"dhaka\", \"khulna\", \"rangpur\"]\n",
        "Write a program that asks user to enter a city name and it should tell which country the city belongs to\n",
        "Write a program that asks user to enter two cities and it tells you if they both are in same country or not. For example if I enter mumbai and chennai, it will print \"Both cities are in India\" but if I enter mumbai and dhaka it should print \"They don't belong to same country\""
      ],
      "metadata": {
        "id": "52TiKtZDK5qy"
      }
    },
    {
      "cell_type": "code",
      "source": [
        "india = [\"mumbai\", \"banglore\", \"chennai\", \"delhi\"]\n",
        "pakistan = [\"lahore\",\"karachi\",\"islamabad\"]\n",
        "bangladesh = [\"dhaka\", \"khulna\", \"rangpur\"]\n",
        "user = input()\n",
        "if user in india:\n",
        "  print(f'{city}in india')\n",
        "elif user in pakistan:\n",
        "  print(f'{city in pakistan}')\n",
        "elif user in bangladesh:\n",
        "  print(f'{city in pakistan}')\n"
      ],
      "metadata": {
        "colab": {
          "base_uri": "https://localhost:8080/"
        },
        "id": "HyfwmdnCXPpv",
        "outputId": "e0a81a84-a789-4f08-e2aa-45f4c9ec74c7"
      },
      "execution_count": null,
      "outputs": [
        {
          "output_type": "stream",
          "name": "stdout",
          "text": [
            "mumbai\n",
            "rwpin india\n"
          ]
        }
      ]
    },
    {
      "cell_type": "code",
      "source": [
        "india = [\"mumbai\", \"banglore\", \"chennai\", \"delhi\"]\n",
        "pakistan = [\"lahore\",\"karachi\",\"islamabad\"]\n",
        "bangladesh = [\"dhaka\", \"khulna\", \"rangpur\"]\n",
        "user = input()\n",
        "user2 = input()\n",
        "if user in india and user2 in india:\n",
        "  print('Both ciities in india')\n",
        "elif user in pakistan and user2 in pakistan:\n",
        "  print('Both cities in pakistan')\n",
        "elif user in bangladesh and user2 in bangladesh:\n",
        "  print('both cities in Bangladesh')"
      ],
      "metadata": {
        "colab": {
          "base_uri": "https://localhost:8080/"
        },
        "id": "tVnsSKlFY6wA",
        "outputId": "5c93cb26-c778-4caf-9ffd-3077788ae6ac"
      },
      "execution_count": null,
      "outputs": [
        {
          "output_type": "stream",
          "name": "stdout",
          "text": [
            "mumbai\n",
            "delhi\n",
            "Both ciities in india\n"
          ]
        }
      ]
    },
    {
      "cell_type": "markdown",
      "source": [
        "Write a python program that can tell you if your sugar is normal or not. Normal fasting level sugar range is 80 to 100.\n",
        "Ask user to enter his fasting sugar level\n",
        "If it is below 80 to 100 range then print that sugar is low\n",
        "If it is above 100 then print that it is high otherwise print that it is normal"
      ],
      "metadata": {
        "id": "XhjYyGP3K-_U"
      }
    },
    {
      "cell_type": "code",
      "source": [
        "user = input(\"Enter your sugar level\")\n",
        "user1= float(user)\n",
        "if user1<80:\n",
        "  print(\"low\")\n",
        "elif user1>100:\n",
        "  print(\"high\")\n",
        "else:\n",
        "  print(\"normal\")"
      ],
      "metadata": {
        "colab": {
          "base_uri": "https://localhost:8080/"
        },
        "id": "VhwZNOzaZoMP",
        "outputId": "f31ab577-ec20-48c3-9ab0-072fbd7703cb"
      },
      "execution_count": null,
      "outputs": [
        {
          "output_type": "stream",
          "name": "stdout",
          "text": [
            "Enter your sugar level50\n",
            "low\n"
          ]
        }
      ]
    },
    {
      "cell_type": "markdown",
      "source": [
        "Exercise 9"
      ],
      "metadata": {
        "id": "WPzkJAFYLBQz"
      }
    },
    {
      "cell_type": "markdown",
      "source": [
        "After flipping a coin 10 times you got this result,\n",
        "result = [\"heads\",\"tails\",\"tails\",\"heads\",\"tails\",\"heads\",\"heads\",\"tails\",\"tails\",\"tails\"]\n",
        "Using for loop figure out how many times you got heads"
      ],
      "metadata": {
        "id": "aailVrBvLSMD"
      }
    },
    {
      "cell_type": "code",
      "source": [
        "result = [\"heads\",\"tails\",\"tails\",\"heads\",\"tails\",\"heads\",\"heads\",\"tails\",\"tails\",\"tails\"]\n",
        "count =0\n",
        "for item in result:\n",
        "  if item == 'heads':\n",
        "    count = count + 1\n",
        "print(count)"
      ],
      "metadata": {
        "colab": {
          "base_uri": "https://localhost:8080/"
        },
        "id": "8yteulqYbJgK",
        "outputId": "e3f80277-8373-4674-f372-9edd30b16938"
      },
      "execution_count": null,
      "outputs": [
        {
          "output_type": "stream",
          "name": "stdout",
          "text": [
            "4\n"
          ]
        }
      ]
    },
    {
      "cell_type": "markdown",
      "source": [
        "Print square of all numbers between 1 to 10 except even numbers"
      ],
      "metadata": {
        "id": "0axo286iLTPc"
      }
    },
    {
      "cell_type": "code",
      "source": [
        "for i in range(10):\n",
        "  if i%2 != 0:\n",
        "    print(i*i)\n"
      ],
      "metadata": {
        "colab": {
          "base_uri": "https://localhost:8080/"
        },
        "id": "imtwY8aSa_Qp",
        "outputId": "851ea042-863a-405b-ad53-1276d0e00e94"
      },
      "execution_count": null,
      "outputs": [
        {
          "output_type": "stream",
          "name": "stdout",
          "text": [
            "1\n",
            "9\n",
            "25\n",
            "49\n",
            "81\n"
          ]
        }
      ]
    },
    {
      "cell_type": "markdown",
      "source": [
        "Your monthly expense list (from Jan to May) looks like this,\n",
        "expense_list = [2340, 2500, 2100, 3100, 2980] Write a program that asks you to enter an expense amount and program should tell you in which month that expense occurred. If expense is not found then it should print that as well."
      ],
      "metadata": {
        "id": "lJKf68dGLVED"
      }
    },
    {
      "cell_type": "code",
      "source": [
        "\n",
        "expense_list = [2340, 2500, 2100, 3100, 2980]\n",
        "user = input(\"enter expense amount\")\n",
        "user = int(user)\n",
        "\n"
      ],
      "metadata": {
        "id": "LzTSSs4mb7tA"
      },
      "execution_count": null,
      "outputs": []
    },
    {
      "cell_type": "markdown",
      "source": [
        "Lets say you are running a 5 km race. Write a program that,\n",
        "\n",
        "Upon completing each 1 km asks you \"are you tired?\"\n",
        "If you reply \"yes\" then it should break and print \"you didn't finish the race\"\n",
        "If you reply \"no\" then it should continue and ask \"are you tired\" on every km\n",
        "If you finish all 5 km then it should print congratulations message"
      ],
      "metadata": {
        "id": "iQFtlzq6LncC"
      }
    },
    {
      "cell_type": "markdown",
      "source": [
        "Write a program that prints following shape\n",
        "\n",
        "*\n",
        "**\n",
        "***\n",
        "****\n",
        "*****\n"
      ],
      "metadata": {
        "id": "9yZqz_gzLuFy"
      }
    },
    {
      "cell_type": "markdown",
      "source": [
        "Exercise 10"
      ],
      "metadata": {
        "id": "dr7xjJAKMQ9a"
      }
    },
    {
      "cell_type": "markdown",
      "source": [
        "Write a function called calculate_area that takes base and height as an input and returns and area of a triangle. Equation of an area of a triangle is,\n",
        "area = (1/2)*base*height"
      ],
      "metadata": {
        "id": "vkPFcHC5MT5z"
      }
    },
    {
      "cell_type": "markdown",
      "source": [
        "Modify above function to take third parameter shape type. It can be either \"triangle\" or \"rectangle\". Based on shape type it will calculate area. Equation of rectangle's area is,\n",
        "rectangle area=length*width\n",
        "If no shape is supplied then it should take triangle as a default shape"
      ],
      "metadata": {
        "id": "HyAtZQ18MV7a"
      }
    },
    {
      "cell_type": "markdown",
      "source": [
        "Write a function called print_pattern that takes integer number as an argument and prints following pattern if input number is 3,\n",
        "*\n",
        "**\n",
        "***\n",
        "if input is 4 then it should print\n",
        "\n",
        "*\n",
        "**\n",
        "***\n",
        "****\n",
        "Basically number of lines it prints is equal to that number. (Hint: you need to use two for loops)"
      ],
      "metadata": {
        "id": "Wkur8-EpMYej"
      }
    },
    {
      "cell_type": "markdown",
      "source": [
        "![image.png](data:image/png;base64,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)"
      ],
      "metadata": {
        "id": "BA5yHPqNOKKL"
      }
    },
    {
      "cell_type": "markdown",
      "source": [],
      "metadata": {
        "id": "UQfwcsFhOOdp"
      }
    }
  ]
}