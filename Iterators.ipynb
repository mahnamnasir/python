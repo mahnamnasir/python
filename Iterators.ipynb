{
  "nbformat": 4,
  "nbformat_minor": 0,
  "metadata": {
    "colab": {
      "provenance": [],
      "authorship_tag": "ABX9TyNgVg2Z9WFSk9sOo6TRCTK2",
      "include_colab_link": true
    },
    "kernelspec": {
      "name": "python3",
      "display_name": "Python 3"
    },
    "language_info": {
      "name": "python"
    }
  },
  "cells": [
    {
      "cell_type": "markdown",
      "metadata": {
        "id": "view-in-github",
        "colab_type": "text"
      },
      "source": [
        "<a href=\"https://colab.research.google.com/github/mahnamnasir/python/blob/main/Iterators.ipynb\" target=\"_parent\"><img src=\"https://colab.research.google.com/assets/colab-badge.svg\" alt=\"Open In Colab\"/></a>"
      ]
    },
    {
      "cell_type": "code",
      "execution_count": 5,
      "metadata": {
        "colab": {
          "base_uri": "https://localhost:8080/",
          "height": 383
        },
        "id": "FXuJOuBKNqRq",
        "outputId": "37a6c836-2597-4851-ee56-8678d6bb7765"
      },
      "outputs": [
        {
          "output_type": "stream",
          "name": "stdout",
          "text": [
            "starplus\n",
            "ary\n",
            "geo\n"
          ]
        },
        {
          "output_type": "error",
          "ename": "StopIteration",
          "evalue": "ignored",
          "traceback": [
            "\u001b[0;31m---------------------------------------------------------------------------\u001b[0m",
            "\u001b[0;31mStopIteration\u001b[0m                             Traceback (most recent call last)",
            "\u001b[0;32m<ipython-input-5-f5651fed1ad3>\u001b[0m in \u001b[0;36m<cell line: 17>\u001b[0;34m()\u001b[0m\n\u001b[1;32m     15\u001b[0m \u001b[0mprint\u001b[0m\u001b[0;34m(\u001b[0m\u001b[0mnext\u001b[0m\u001b[0;34m(\u001b[0m\u001b[0mitr\u001b[0m\u001b[0;34m)\u001b[0m\u001b[0;34m)\u001b[0m\u001b[0;34m\u001b[0m\u001b[0;34m\u001b[0m\u001b[0m\n\u001b[1;32m     16\u001b[0m \u001b[0mprint\u001b[0m\u001b[0;34m(\u001b[0m\u001b[0mnext\u001b[0m\u001b[0;34m(\u001b[0m\u001b[0mitr\u001b[0m\u001b[0;34m)\u001b[0m\u001b[0;34m)\u001b[0m\u001b[0;34m\u001b[0m\u001b[0;34m\u001b[0m\u001b[0m\n\u001b[0;32m---> 17\u001b[0;31m \u001b[0mprint\u001b[0m\u001b[0;34m(\u001b[0m\u001b[0mnext\u001b[0m\u001b[0;34m(\u001b[0m\u001b[0mitr\u001b[0m\u001b[0;34m)\u001b[0m\u001b[0;34m)\u001b[0m\u001b[0;34m\u001b[0m\u001b[0;34m\u001b[0m\u001b[0m\n\u001b[0m",
            "\u001b[0;32m<ipython-input-5-f5651fed1ad3>\u001b[0m in \u001b[0;36m__next__\u001b[0;34m(self)\u001b[0m\n\u001b[1;32m      8\u001b[0m     \u001b[0mself\u001b[0m\u001b[0;34m.\u001b[0m\u001b[0mindex\u001b[0m \u001b[0;34m+=\u001b[0m\u001b[0;36m1\u001b[0m\u001b[0;34m\u001b[0m\u001b[0;34m\u001b[0m\u001b[0m\n\u001b[1;32m      9\u001b[0m     \u001b[0;32mif\u001b[0m \u001b[0mself\u001b[0m\u001b[0;34m.\u001b[0m\u001b[0mindex\u001b[0m \u001b[0;34m==\u001b[0m \u001b[0mlen\u001b[0m\u001b[0;34m(\u001b[0m\u001b[0mself\u001b[0m\u001b[0;34m.\u001b[0m\u001b[0mchannels\u001b[0m\u001b[0;34m)\u001b[0m\u001b[0;34m:\u001b[0m\u001b[0;34m\u001b[0m\u001b[0;34m\u001b[0m\u001b[0m\n\u001b[0;32m---> 10\u001b[0;31m       \u001b[0;32mraise\u001b[0m \u001b[0mStopIteration\u001b[0m\u001b[0;34m\u001b[0m\u001b[0;34m\u001b[0m\u001b[0m\n\u001b[0m\u001b[1;32m     11\u001b[0m     \u001b[0;32mreturn\u001b[0m \u001b[0mself\u001b[0m\u001b[0;34m.\u001b[0m\u001b[0mchannels\u001b[0m\u001b[0;34m[\u001b[0m\u001b[0mself\u001b[0m\u001b[0;34m.\u001b[0m\u001b[0mindex\u001b[0m\u001b[0;34m]\u001b[0m\u001b[0;34m\u001b[0m\u001b[0;34m\u001b[0m\u001b[0m\n\u001b[1;32m     12\u001b[0m \u001b[0mr\u001b[0m \u001b[0;34m=\u001b[0m \u001b[0mRemoteControl\u001b[0m\u001b[0;34m(\u001b[0m\u001b[0;34m)\u001b[0m\u001b[0;34m\u001b[0m\u001b[0;34m\u001b[0m\u001b[0m\n",
            "\u001b[0;31mStopIteration\u001b[0m: "
          ]
        }
      ],
      "source": [
        "class RemoteControl():\n",
        "  def __init__(self):\n",
        "    self.channels= [\"starplus\",\"ary\",\"geo\"]\n",
        "    self.index = -1\n",
        "  def __iter__(self):\n",
        "    return self\n",
        "  def __next__(self):\n",
        "    self.index +=1\n",
        "    if self.index == len(self.channels):\n",
        "      raise StopIteration\n",
        "    return self.channels[self.index]\n",
        "r = RemoteControl()\n",
        "itr= iter(r)\n",
        "print(next(itr))\n",
        "print(next(itr))\n",
        "print(next(itr))\n",
        "print(next(itr))\n"
      ]
    },
    {
      "cell_type": "markdown",
      "source": [
        "![image.png](data:image/png;base64,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)"
      ],
      "metadata": {
        "id": "j2g1g2d_UdBH"
      }
    },
    {
      "cell_type": "code",
      "source": [
        "class Fibonacci:\n",
        "  def __init__(self,limit):\n",
        "    self.previous = 0\n",
        "    self.current = 1\n",
        "    self.n = 1\n",
        "    self.limit = limit\n",
        "  def __iter__(self):\n",
        "    return self\n",
        "  def __next__(self):\n",
        "    if self.n < self.limit:\n",
        "      result = self.previous+self.current\n",
        "      self.previous = self.current\n",
        "      self.n +=1\n",
        "      return result\n",
        "    else:\n",
        "        raise StopIteration\n",
        "fib_iterator = iter(Fibonacci(5))\n",
        "while True:\n",
        "    try:\n",
        "        print(next(fib_iterator))\n",
        "    except StopIteration:\n",
        "        break\n"
      ],
      "metadata": {
        "colab": {
          "base_uri": "https://localhost:8080/"
        },
        "id": "b6oUbadvTulw",
        "outputId": "dfc74193-289d-48c4-a26e-eaad3fc7f3d9"
      },
      "execution_count": 7,
      "outputs": [
        {
          "output_type": "stream",
          "name": "stdout",
          "text": [
            "1\n",
            "2\n",
            "2\n",
            "2\n"
          ]
        }
      ]
    },
    {
      "cell_type": "markdown",
      "source": [
        "Implement a custom iterator called SquaredNumbers that generates the squares of numbers up to a specified limit. The iterator should be able to iterate over the squares from 1 up to the square of the limit (inclusive). Create an instance of this iterator with a limit of 5 and print each squared number."
      ],
      "metadata": {
        "id": "jy1nTLZgZ_Ry"
      }
    },
    {
      "cell_type": "code",
      "source": [
        "class SquaredNumber:\n",
        "  def __init__(self,limit):\n",
        "    self.limit = limit\n",
        "    self.current =1\n",
        "  def __iter__(self):\n",
        "    return self\n",
        "  def __next__(self):\n",
        "    if self.current<= self.limit:\n",
        "      result = self.current**2\n",
        "      self.current+=1\n",
        "      return result\n",
        "    else:\n",
        "      raise StopIteration\n",
        "square = SquaredNumber(5)\n",
        "itr= iter(square)\n",
        "print(next(itr))\n"
      ],
      "metadata": {
        "colab": {
          "base_uri": "https://localhost:8080/"
        },
        "id": "v27j8RLzZTh_",
        "outputId": "c6322a75-7b01-4ef3-ac70-3a2e85dacfb2"
      },
      "execution_count": 11,
      "outputs": [
        {
          "output_type": "stream",
          "name": "stdout",
          "text": [
            "1\n"
          ]
        }
      ]
    },
    {
      "cell_type": "code",
      "source": [],
      "metadata": {
        "id": "l2uTp50KavMW"
      },
      "execution_count": null,
      "outputs": []
    }
  ]
}