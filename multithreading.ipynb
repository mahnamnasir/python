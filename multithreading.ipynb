{
  "nbformat": 4,
  "nbformat_minor": 0,
  "metadata": {
    "colab": {
      "provenance": [],
      "authorship_tag": "ABX9TyNy2Q1plxa4cxuhl61HR7d7",
      "include_colab_link": true
    },
    "kernelspec": {
      "name": "python3",
      "display_name": "Python 3"
    },
    "language_info": {
      "name": "python"
    }
  },
  "cells": [
    {
      "cell_type": "markdown",
      "metadata": {
        "id": "view-in-github",
        "colab_type": "text"
      },
      "source": [
        "<a href=\"https://colab.research.google.com/github/mahnamnasir/python/blob/main/multithreading.ipynb\" target=\"_parent\"><img src=\"https://colab.research.google.com/assets/colab-badge.svg\" alt=\"Open In Colab\"/></a>"
      ]
    },
    {
      "cell_type": "code",
      "execution_count": 6,
      "metadata": {
        "colab": {
          "base_uri": "https://localhost:8080/"
        },
        "id": "xKM22-C8dLRl",
        "outputId": "82efe178-fbc8-435e-8ac5-84279e04c0d6"
      },
      "outputs": [
        {
          "output_type": "stream",
          "name": "stdout",
          "text": [
            "4\n",
            "8\n",
            "9\n",
            "27\n",
            "16\n",
            "64\n",
            "0.6061878204345703\n"
          ]
        }
      ],
      "source": [
        "import time\n",
        "import threading\n",
        "\n",
        "def cal_square(number):\n",
        "  for n in number:\n",
        "    time.sleep(0.2)\n",
        "    print(n*n)\n",
        "def cal_cube(number):\n",
        "  for n in number:\n",
        "    time.sleep(0.2)\n",
        "    print(n*n*n)\n",
        "arr = [2,3,4]\n",
        "t = time.time()\n",
        "t1 = threading.Thread(target=cal_square,args=(arr,))\n",
        "t2 = threading.Thread(target=cal_cube,args=(arr,))\n",
        "t1.start()\n",
        "t2.start()\n",
        "t1.join() #wait here t1 is done\n",
        "t2.join()\n",
        "print(time.time()-t)"
      ]
    },
    {
      "cell_type": "markdown",
      "source": [
        "![image.png](data:image/png;base64,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)"
      ],
      "metadata": {
        "id": "yUnWENGOf56W"
      }
    },
    {
      "cell_type": "code",
      "source": [
        "import threading\n",
        "import time\n",
        "\n",
        "n = input(\"Enter any number\")\n",
        "\n",
        "def display(n):\n",
        "  print(\"Thread %i will sleep.\" % n)\n",
        "  time.sleep(5)\n",
        "  print(\"Thread %i is awake\" % n)\n",
        "\n",
        "  for n in range(10):\n",
        "    th = threading.Thread(target=display,args=(n,))\n",
        "    th.start()\n",
        "    print(threading.active_count())\n"
      ],
      "metadata": {
        "colab": {
          "base_uri": "https://localhost:8080/"
        },
        "id": "cfcvv-v2eNRX",
        "outputId": "4a965dd3-36b2-4b8d-dfb1-e49f5e9a1c48"
      },
      "execution_count": 13,
      "outputs": [
        {
          "name": "stdout",
          "output_type": "stream",
          "text": [
            "Enter any number5\n"
          ]
        }
      ]
    },
    {
      "cell_type": "code",
      "source": [],
      "metadata": {
        "id": "2b54dUkIh9Fu"
      },
      "execution_count": null,
      "outputs": []
    }
  ]
}